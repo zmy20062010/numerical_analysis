{
 "cells": [
  {
   "cell_type": "markdown",
   "metadata": {
    "toc": true
   },
   "source": [
    "<h1>Table of Contents<span class=\"tocSkip\"></span></h1>\n",
    "<div class=\"toc\"><ul class=\"toc-item\"></ul></div>"
   ]
  },
  {
   "cell_type": "markdown",
   "metadata": {
    "button": false,
    "new_sheet": false,
    "run_control": {
     "read_only": false
    }
   },
   "source": [
    "<!--BOOK_INFORMATION-->\n",
    "<img align=\"left\" style=\"padding-right:10px;\" src=\"images/book_cover.jpg\" width=\"120\">\n",
    "\n",
    "*This notebook contains an excerpt from the [Python Programming and Numerical Methods - A Guide for Engineers and Scientists](https://www.elsevier.com/books/python-programming-and-numerical-methods/kong/978-0-12-819549-9), the content is also available at [Berkeley Python Numerical Methods](https://pythonnumericalmethods.berkeley.edu/notebooks/Index.html).*\n",
    "\n",
    "*The copyright of the book belongs to Elsevier. We also have this interactive book online for a better learning experience. The code is released under the [MIT license](https://opensource.org/licenses/MIT). If you find this content useful, please consider supporting the work on [Elsevier](https://www.elsevier.com/books/python-programming-and-numerical-methods/kong/978-0-12-819549-9) or [Amazon](https://www.amazon.com/Python-Programming-Numerical-Methods-Scientists/dp/0128195495/ref=sr_1_1?dchild=1&keywords=Python+Programming+and+Numerical+Methods+-+A+Guide+for+Engineers+and+Scientists&qid=1604761352&sr=8-1)!*"
   ]
  },
  {
   "cell_type": "markdown",
   "metadata": {
    "button": false,
    "new_sheet": false,
    "run_control": {
     "read_only": false
    }
   },
   "source": [
    "<!--NAVIGATION-->\n",
    "< [14.1 Basics of Linear Algebra](chapter14.01-Basics-of-Linear-Algebra.ipynb) | [Contents](Index.ipynb) | [14.3 Systems of Linear Equations](chapter14.03-Systems-of-Linear-Equations.ipynb) >"
   ]
  },
  {
   "cell_type": "markdown",
   "metadata": {
    "button": false,
    "new_sheet": false,
    "run_control": {
     "read_only": false
    }
   },
   "source": [
    "# Linear Transformations"
   ]
  },
  {
   "cell_type": "markdown",
   "metadata": {
    "button": false,
    "new_sheet": false,
    "run_control": {
     "read_only": false
    }
   },
   "source": [
    "For vectors $x$ and $y$, and scalars $a$ and $b$, it is sufficient to say that a function, $F$, is a **linear transformation** if  \n",
    "\n",
    "$$\n",
    "F(ax + by) = aF(x) + bF(y).\n",
    "$$\n",
    "\n",
    "It can be shown that multiplying an ${m} \\times {n}$ matrix, $A$, and an ${n} \\times {1}$ vector, $v$, of compatible size is a linear transformation of $v$. Therefore from this point forward, a matrix will be synonymous with a linear transformation function.\n",
    "\n",
    "**TRY IT!** Let $x$ be a vector and let $F(x)$ be defined by $F(x) = Ax$ where $A$ is a rectangular matrix of appropriate size. Show that $F(x)$ is a linear transformation.\n",
    "\n",
    "Proof:\n",
    "Since $F(x) = Ax$, then\n",
    "for vectors $v$ and $w$, and scalars $a$ and $b$, $F(av +\n",
    "bw) = A(av + bw)$ (by definition of $F$)$=$$aAv + bAw$ (by\n",
    "distributive property of matrix multiplication)$=$$aF(v) +\n",
    "bF(w)$ (by definition of $F$).\n",
    "\n",
    "If $A$ is an ${m} \\times {n}$ matrix, then there are two important subpsaces associated with $A$, one is ${\\mathbb{R}}^n$, the other is ${\\mathbb{R}}^m$. The **domain** of $A$ is a subspace of ${\\mathbb{R}}^n$. It is the set of all vectors that can be multiplied by $A$ on the right. The **range** of $A$ is a subspace of ${\\mathbb{R}}^m$. It is the set of all vectors $y$ such that $y=Ax$. It can be denoted as $\\mathcal{R}(\\mathbf{A})$, where $\\mathcal{R}(\\mathbf{A}) = \\{y \\in {\\mathbb{R}}^m: Ax = y\\}$. Another way to think about the range of $A$ is the set of all linear combinations of the columns in $A$, where $x_i$ is the coefficient of the ith column in $A$. The **null space** of $A$, defined as $\\mathcal{N}(\\mathbf{A}) = \\{x \\in {\\mathbb{R}}^n: Ax = 0_m\\}$, is the subset of vectors in the domain of $A, x$, such that $Ax = 0_m$, where $0_m$ is the **zero vector** (i.e., a vector in ${\\mathbb{R}}^m$ with all zeros).\n",
    "\n",
    "**TRY IT!** Let $A = [[1, 0, 0], [0, 1, 0], [0, 0, 0]]$ and let the domain of $A$ be ${\\mathbb{R}}^3$. Characterize the range and nullspace of $A$.\n",
    "  \n",
    "Let $v = [x,y,z]$ be a vector in ${\\mathbb{R}}^3$. Then $u = Av$ is the vector $u = [x,y,0]$. Since $x,y\\in {\\mathbb{R}}$, the range of $A$ is the $x$-$y$ plane at $z = 0$.\n",
    "\n",
    "Let $v = [0,0,z]$ for $z\\in {\\mathbb{R}}$. Then $u = Av$ is the vector $u = [0, 0, 0]$. Therefore, the nullspace of $A$ is the $z$-axis (i.e., the set of vectors $[0,0,z]$ $z\\in {\\mathbb{R}}$).\n",
    "\n",
    "Therefore, this linear transformation \"flattens\" any $z$-component from a vector."
   ]
  },
  {
   "cell_type": "markdown",
   "metadata": {
    "button": false,
    "new_sheet": false,
    "run_control": {
     "read_only": false
    }
   },
   "source": [
    "<!--NAVIGATION-->\n",
    "< [14.1 Basics of Linear Algebra](chapter14.01-Basics-of-Linear-Algebra.ipynb) | [Contents](Index.ipynb) | [14.3 Systems of Linear Equations](chapter14.03-Systems-of-Linear-Equations.ipynb) >"
   ]
  }
 ],
 "metadata": {
  "kernelspec": {
   "display_name": "Python 3 (ipykernel)",
   "language": "python",
   "name": "python3"
  },
  "language_info": {
   "codemirror_mode": {
    "name": "ipython",
    "version": 3
   },
   "file_extension": ".py",
   "mimetype": "text/x-python",
   "name": "python",
   "nbconvert_exporter": "python",
   "pygments_lexer": "ipython3",
   "version": "3.9.10"
  },
  "toc": {
   "base_numbering": 1,
   "nav_menu": {},
   "number_sections": true,
   "sideBar": true,
   "skip_h1_title": true,
   "title_cell": "Table of Contents",
   "title_sidebar": "Contents",
   "toc_cell": true,
   "toc_position": {},
   "toc_section_display": true,
   "toc_window_display": true
  }
 },
 "nbformat": 4,
 "nbformat_minor": 2
}
