{
 "cells": [
  {
   "cell_type": "markdown",
   "id": "2e0c89e5",
   "metadata": {},
   "source": [
    "# <center> 第19章: 非线性方程求根</center>\n",
    "<center>（Chapter 19: Roots of Nonlinear Equations）</center>"
   ]
  },
  {
   "cell_type": "markdown",
   "id": "533f68b9",
   "metadata": {
    "toc": true
   },
   "source": [
    "<h1>Table of Contents<span class=\"tocSkip\"></span></h1>\n",
    "<div class=\"toc\"><ul class=\"toc-item\"><li><span><a href=\"#引言\" data-toc-modified-id=\"引言-1\"><span class=\"toc-item-num\">1&nbsp;&nbsp;</span>引言</a></span></li><li><span><a href=\"#容差（Tolerance）\" data-toc-modified-id=\"容差（Tolerance）-2\"><span class=\"toc-item-num\">2&nbsp;&nbsp;</span>容差（Tolerance）</a></span><ul class=\"toc-item\"><li><span><a href=\"#准确度和精密度\" data-toc-modified-id=\"准确度和精密度-2.1\"><span class=\"toc-item-num\">2.1&nbsp;&nbsp;</span>准确度和精密度</a></span></li><li><span><a href=\"#误差、精度和容差\" data-toc-modified-id=\"误差、精度和容差-2.2\"><span class=\"toc-item-num\">2.2&nbsp;&nbsp;</span>误差、精度和容差</a></span></li></ul></li><li><span><a href=\"#二分法（Bisection-Method）\" data-toc-modified-id=\"二分法（Bisection-Method）-3\"><span class=\"toc-item-num\">3&nbsp;&nbsp;</span>二分法（Bisection Method）</a></span><ul class=\"toc-item\"><li><span><a href=\"#二分法的基本原理\" data-toc-modified-id=\"二分法的基本原理-3.1\"><span class=\"toc-item-num\">3.1&nbsp;&nbsp;</span>二分法的基本原理</a></span></li><li><span><a href=\"#二分法的示例\" data-toc-modified-id=\"二分法的示例-3.2\"><span class=\"toc-item-num\">3.2&nbsp;&nbsp;</span>二分法的示例</a></span></li><li><span><a href=\"#二分法的Python实现\" data-toc-modified-id=\"二分法的Python实现-3.3\"><span class=\"toc-item-num\">3.3&nbsp;&nbsp;</span>二分法的Python实现</a></span><ul class=\"toc-item\"><li><span><a href=\"#二分法的Python函数\" data-toc-modified-id=\"二分法的Python函数-3.3.1\"><span class=\"toc-item-num\">3.3.1&nbsp;&nbsp;</span>二分法的Python函数</a></span></li><li><span><a href=\"#二分法的Python实现示例\" data-toc-modified-id=\"二分法的Python实现示例-3.3.2\"><span class=\"toc-item-num\">3.3.2&nbsp;&nbsp;</span>二分法的Python实现示例</a></span></li></ul></li><li><span><a href=\"#思考题\" data-toc-modified-id=\"思考题-3.4\"><span class=\"toc-item-num\">3.4&nbsp;&nbsp;</span>思考题</a></span></li></ul></li><li><span><a href=\"#不动点迭代法-（Fixed-Point-Iteration-Method）\" data-toc-modified-id=\"不动点迭代法-（Fixed-Point-Iteration-Method）-4\"><span class=\"toc-item-num\">4&nbsp;&nbsp;</span>不动点迭代法 （Fixed-Point Iteration Method）</a></span><ul class=\"toc-item\"><li><span><a href=\"#不动点迭代法的基本原理\" data-toc-modified-id=\"不动点迭代法的基本原理-4.1\"><span class=\"toc-item-num\">4.1&nbsp;&nbsp;</span>不动点迭代法的基本原理</a></span></li><li><span><a href=\"#不动点迭代法的示例\" data-toc-modified-id=\"不动点迭代法的示例-4.2\"><span class=\"toc-item-num\">4.2&nbsp;&nbsp;</span>不动点迭代法的示例</a></span></li><li><span><a href=\"#不动点迭代法的收敛性\" data-toc-modified-id=\"不动点迭代法的收敛性-4.3\"><span class=\"toc-item-num\">4.3&nbsp;&nbsp;</span>不动点迭代法的收敛性</a></span><ul class=\"toc-item\"><li><span><a href=\"#全局收敛性判断定理\" data-toc-modified-id=\"全局收敛性判断定理-4.3.1\"><span class=\"toc-item-num\">4.3.1&nbsp;&nbsp;</span>全局收敛性判断定理</a></span></li><li><span><a href=\"#收敛性判断示例\" data-toc-modified-id=\"收敛性判断示例-4.3.2\"><span class=\"toc-item-num\">4.3.2&nbsp;&nbsp;</span>收敛性判断示例</a></span></li><li><span><a href=\"#局部收敛性判断\" data-toc-modified-id=\"局部收敛性判断-4.3.3\"><span class=\"toc-item-num\">4.3.3&nbsp;&nbsp;</span>局部收敛性判断</a></span></li></ul></li><li><span><a href=\"#不动点迭代法的Python实现\" data-toc-modified-id=\"不动点迭代法的Python实现-4.4\"><span class=\"toc-item-num\">4.4&nbsp;&nbsp;</span>不动点迭代法的Python实现</a></span></li></ul></li><li><span><a href=\"#牛顿法（Newton-Method-or-Newton-Raphson-Method）\" data-toc-modified-id=\"牛顿法（Newton-Method-or-Newton-Raphson-Method）-5\"><span class=\"toc-item-num\">5&nbsp;&nbsp;</span>牛顿法（Newton Method or Newton-Raphson Method）</a></span><ul class=\"toc-item\"><li><span><a href=\"#Newton法的基本原理\" data-toc-modified-id=\"Newton法的基本原理-5.1\"><span class=\"toc-item-num\">5.1&nbsp;&nbsp;</span>Newton法的基本原理</a></span></li><li><span><a href=\"#Newton法的收敛性\" data-toc-modified-id=\"Newton法的收敛性-5.2\"><span class=\"toc-item-num\">5.2&nbsp;&nbsp;</span>Newton法的收敛性</a></span></li><li><span><a href=\"#Newton法的示例\" data-toc-modified-id=\"Newton法的示例-5.3\"><span class=\"toc-item-num\">5.3&nbsp;&nbsp;</span>Newton法的示例</a></span></li><li><span><a href=\"#Newton法的变种\" data-toc-modified-id=\"Newton法的变种-5.4\"><span class=\"toc-item-num\">5.4&nbsp;&nbsp;</span>Newton法的变种</a></span><ul class=\"toc-item\"><li><span><a href=\"#简化的Newton法\" data-toc-modified-id=\"简化的Newton法-5.4.1\"><span class=\"toc-item-num\">5.4.1&nbsp;&nbsp;</span>简化的Newton法</a></span></li><li><span><a href=\"#Newton下山法\" data-toc-modified-id=\"Newton下山法-5.4.2\"><span class=\"toc-item-num\">5.4.2&nbsp;&nbsp;</span>Newton下山法</a></span></li></ul></li><li><span><a href=\"#Newton法的Python实现\" data-toc-modified-id=\"Newton法的Python实现-5.5\"><span class=\"toc-item-num\">5.5&nbsp;&nbsp;</span>Newton法的Python实现</a></span><ul class=\"toc-item\"><li><span><a href=\"#Python代码\" data-toc-modified-id=\"Python代码-5.5.1\"><span class=\"toc-item-num\">5.5.1&nbsp;&nbsp;</span>Python代码</a></span></li><li><span><a href=\"#Python代码使用实例\" data-toc-modified-id=\"Python代码使用实例-5.5.2\"><span class=\"toc-item-num\">5.5.2&nbsp;&nbsp;</span>Python代码使用实例</a></span></li><li><span><a href=\"#Python代码使用训练题\" data-toc-modified-id=\"Python代码使用训练题-5.5.3\"><span class=\"toc-item-num\">5.5.3&nbsp;&nbsp;</span>Python代码使用训练题</a></span></li></ul></li></ul></li><li><span><a href=\"#迭代法的收敛速度及其加速-（Convergence-and-Acceleration)\" data-toc-modified-id=\"迭代法的收敛速度及其加速-（Convergence-and-Acceleration)-6\"><span class=\"toc-item-num\">6&nbsp;&nbsp;</span>迭代法的收敛速度及其加速 （Convergence and Acceleration)</a></span><ul class=\"toc-item\"><li><span><a href=\"#迭代法的收敛加速\" data-toc-modified-id=\"迭代法的收敛加速-6.1\"><span class=\"toc-item-num\">6.1&nbsp;&nbsp;</span>迭代法的收敛加速</a></span></li><li><span><a href=\"#Python示例\" data-toc-modified-id=\"Python示例-6.2\"><span class=\"toc-item-num\">6.2&nbsp;&nbsp;</span>Python示例</a></span></li></ul></li><li><span><a href=\"#其他复杂方法-（Other-Complex-Methods）\" data-toc-modified-id=\"其他复杂方法-（Other-Complex-Methods）-7\"><span class=\"toc-item-num\">7&nbsp;&nbsp;</span>其他复杂方法 （Other Complex Methods）</a></span><ul class=\"toc-item\"><li><span><a href=\"#割线法（Secant-Method）\" data-toc-modified-id=\"割线法（Secant-Method）-7.1\"><span class=\"toc-item-num\">7.1&nbsp;&nbsp;</span>割线法（Secant Method）</a></span><ul class=\"toc-item\"><li><span><a href=\"#割线法作为二分法的变种\" data-toc-modified-id=\"割线法作为二分法的变种-7.1.1\"><span class=\"toc-item-num\">7.1.1&nbsp;&nbsp;</span>割线法作为二分法的变种</a></span></li><li><span><a href=\"#割线法作为Newton法的变种\" data-toc-modified-id=\"割线法作为Newton法的变种-7.1.2\"><span class=\"toc-item-num\">7.1.2&nbsp;&nbsp;</span>割线法作为Newton法的变种</a></span></li><li><span><a href=\"#其他实现\" data-toc-modified-id=\"其他实现-7.1.3\"><span class=\"toc-item-num\">7.1.3&nbsp;&nbsp;</span>其他实现</a></span></li></ul></li><li><span><a href=\"#反向二次插值法(Inverse-Quadratic-Interpolation-Method)\" data-toc-modified-id=\"反向二次插值法(Inverse-Quadratic-Interpolation-Method)-7.2\"><span class=\"toc-item-num\">7.2&nbsp;&nbsp;</span>反向二次插值法(Inverse Quadratic Interpolation Method)</a></span></li><li><span><a href=\"#Brent法（Brent's-Method）\" data-toc-modified-id=\"Brent法（Brent's-Method）-7.3\"><span class=\"toc-item-num\">7.3&nbsp;&nbsp;</span>Brent法（Brent's Method）</a></span><ul class=\"toc-item\"><li><span><a href=\"#Preparing-initial-values-and-conditions\" data-toc-modified-id=\"Preparing-initial-values-and-conditions-7.3.1\"><span class=\"toc-item-num\">7.3.1&nbsp;&nbsp;</span>Preparing initial values and conditions</a></span></li><li><span><a href=\"#The-iterative-process\" data-toc-modified-id=\"The-iterative-process-7.3.2\"><span class=\"toc-item-num\">7.3.2&nbsp;&nbsp;</span>The iterative process</a></span></li><li><span><a href=\"#Finding-b_{k+1}\" data-toc-modified-id=\"Finding-b_{k+1}-7.3.3\"><span class=\"toc-item-num\">7.3.3&nbsp;&nbsp;</span>Finding b_{k+1}</a></span></li><li><span><a href=\"#Rate-of-convergence\" data-toc-modified-id=\"Rate-of-convergence-7.3.4\"><span class=\"toc-item-num\">7.3.4&nbsp;&nbsp;</span>Rate of convergence</a></span></li></ul></li></ul></li><li><span><a href=\"#利用Python对函数进行求根\" data-toc-modified-id=\"利用Python对函数进行求根-8\"><span class=\"toc-item-num\">8&nbsp;&nbsp;</span>利用Python对函数进行求根</a></span></li><li><span><a href=\"#小结\" data-toc-modified-id=\"小结-9\"><span class=\"toc-item-num\">9&nbsp;&nbsp;</span>小结</a></span></li><li><span><a href=\"#习题和讨论\" data-toc-modified-id=\"习题和讨论-10\"><span class=\"toc-item-num\">10&nbsp;&nbsp;</span>习题和讨论</a></span></li></ul></div>"
   ]
  },
  {
   "cell_type": "markdown",
   "id": "4b15de51",
   "metadata": {},
   "source": [
    "## 引言"
   ]
  },
  {
   "cell_type": "markdown",
   "id": "edfaec39",
   "metadata": {},
   "source": [
    "对函数$f(x)$而言，其**根**或者**零点**是使得\n",
    "\\begin{equation}\n",
    "    f(x_r)=0\n",
    "\\end{equation}\n",
    "的$x_r$，这里$x_r$可以为**实数**或者**复数**。"
   ]
  },
  {
   "cell_type": "markdown",
   "id": "86d8a762",
   "metadata": {},
   "source": [
    "1） 对一些函数而言，我们可以列出函数的根的解析表达式。例如函数\n",
    "\\begin{equation}\n",
    "    f(x) = x^2 -9\n",
    "\\end{equation}\n",
    "而言，其根为$x_1 = 3,\\quad x_2 = -3$。"
   ]
  },
  {
   "cell_type": "markdown",
   "id": "deb635db",
   "metadata": {},
   "source": [
    "2） 而对于另外的一些函数，我们无法列出函数的根的解析表达式。例如，对函数\n",
    "\\begin{equation}\n",
    "    f(x) = \\cos(x)  - x\n",
    "\\end{equation}\n",
    "而言，我们无法写出根的解析表达式。"
   ]
  },
  {
   "cell_type": "markdown",
   "id": "0d2ee893",
   "metadata": {},
   "source": [
    "3） 另一些情况下，函数的形式特别复杂，根的解析表达式也比较复杂，无法精确获知。例如，对于解析根\n",
    "\\begin{equation}\n",
    "    x_r = \\frac{e^{2\\pi/5} + \\sin(5\\pi/7) }{20 + \\cos(3\\pi/7) }\n",
    "\\end{equation}\n",
    "尽管我们能够获得解析表达式，但是该表达式比较复杂，我们往往更关注$x_r$的具体数值。这就必须借助于数值计算。因为我们看到，该表达式中涉及到的无理数$\\pi$和$e$并没有解析计算方法，需要依靠数值计算的方法获得给定精度的近似值。"
   ]
  },
  {
   "cell_type": "code",
   "execution_count": 3,
   "id": "9acf8542",
   "metadata": {},
   "outputs": [
    {
     "data": {
      "image/png": "[encoded data removed]",
      "text/plain": [
       "<Figure size 864x216 with 4 Axes>"
      ]
     },
     "metadata": {
      "needs_background": "light"
     },
     "output_type": "display_data"
    }
   ],
   "source": [
    "import numpy as np\n",
    "import matplotlib.pyplot as plt\n",
    "\n",
    "x = np.linspace(-2, 2, 1000)\n",
    "\n",
    "# four examples of nonlinear functions\n",
    "f1 = x**2 - x - 1\n",
    "f2 = x**3 - 3 * np.sin(x)\n",
    "f3 = np.exp(x) - 2\n",
    "f4 = 1 - x**2 + np.sin(50 / (1 + x**2))\n",
    "\n",
    "# plot each function\n",
    "fig, axes = plt.subplots(1, 4, figsize=(12, 3), sharey=True)\n",
    "\n",
    "for n, f in enumerate([f1, f2, f3, f4]):\n",
    "    axes[n].plot(x, f, lw=1.5)\n",
    "    axes[n].axhline(0, ls=':', color='k')\n",
    "    axes[n].set_ylim(-5, 5)\n",
    "    axes[n].set_xticks([-2, -1, 0, 1, 2])\n",
    "    axes[n].set_xlabel(r'$x$', fontsize=18)\n",
    "\n",
    "axes[0].set_ylabel(r'$f(x)$', fontsize=18)\n",
    "\n",
    "titles = [r'$f(x)=x^2-x-1$', r'$f(x)=x^3-3\\sin(x)$',\n",
    "          r'$f(x)=\\exp(x)-2$', r'$f(x)=\\sin\\left(50/(1+x^2)\\right)+1-x^2$']\n",
    "for n, title in enumerate(titles):\n",
    "    axes[n].set_title(title)\n",
    "    \n",
    "fig.tight_layout()\n",
    "# fig.savefig('ch5-nonlinear-plot-equations.pdf')"
   ]
  },
  {
   "cell_type": "markdown",
   "id": "afe57c34",
   "metadata": {},
   "source": [
    "这时，利用数值方式获得某个函数的根的近似值是很有必要的。"
   ]
  },
  {
   "cell_type": "markdown",
   "id": "2f6bba2f",
   "metadata": {},
   "source": [
    "## 容差（Tolerance）"
   ]
  },
  {
   "cell_type": "markdown",
   "id": "f1ca46dc",
   "metadata": {},
   "source": [
    "在工程实践中，有几组关于计算或者测量的结果的精确程度的描述的名词需要关注：\n",
    "- 准确度（Accuracy）和精密度（Precision）；\n",
    "- 误差（Error）和容差（Tolerance）；"
   ]
  },
  {
   "cell_type": "markdown",
   "id": "b4971dfd",
   "metadata": {},
   "source": [
    "### 准确度和精密度\n",
    "在工程测量和计算过程中，准确度和精密度是用来衡量测量/计算的质量的重要参数\n",
    "- **准确度**刻画了近似值与精确值之间的接近程度。\n",
    "- **精密度**刻画了近似值本身的精确程度，可以理解为表示近似值的数值的有效位数等等。"
   ]
  },
  {
   "cell_type": "markdown",
   "id": "bf936865",
   "metadata": {},
   "source": [
    "# ![Accuracy_and_Precision.png](images/Accuracy_and_Precision.jpeg)\n",
    " (a) inaccurate and imprecise, (b) accurate and imprecise,(c) Inaccurate and precise, (d) accurate and precise"
   ]
  },
  {
   "cell_type": "markdown",
   "id": "990001ca",
   "metadata": {},
   "source": [
    "### 误差、精度和容差"
   ]
  },
  {
   "cell_type": "markdown",
   "id": "5eb63f65",
   "metadata": {},
   "source": [
    "具体到数值计算领域，我们一般不用准确度和精密度的概念，转而采用针对性更强的**误差**、**精度**和**容差**的概念\n",
    "- **误差**衡量了近似值与精确值之间的偏离程度。从这个意义上来说，误差和准确度是同一个对象的不同方面。\n",
    "- **精度**表示了近似值本身的数值精确程度，是衡量一个数在计算机中的表示准确度的重要指标。\n",
    "- **容差**表示了我们对给定误差度量的容许程度，相当于在实际应用中给定了误差的允许上限。"
   ]
  },
  {
   "cell_type": "markdown",
   "id": "b430a3b1",
   "metadata": {},
   "source": [
    "## 二分法（Bisection Method）"
   ]
  },
  {
   "cell_type": "markdown",
   "id": "f73b1e9d",
   "metadata": {},
   "source": [
    "### 二分法的基本原理"
   ]
  },
  {
   "cell_type": "markdown",
   "id": "a4b968c6",
   "metadata": {},
   "source": [
    "二分法是非线性方程求根的最简单的办法。其基本原理是，首先确定方程的一个有根区间，然后通过不断地对有原有根区间进行二分，并确定所获得的两个子区间中的新的有根子区间。理论上，只要能够确定初始的有根区间，一定能够通过二分法获得任意精度的解。"
   ]
  },
  {
   "cell_type": "markdown",
   "id": "604a1e1c",
   "metadata": {},
   "source": [
    "根据以上描述，可以获得二分法的算法流程如下："
   ]
  },
  {
   "cell_type": "markdown",
   "id": "734bc3c9",
   "metadata": {},
   "source": [
    "1. 确定一个有根区间$[a_0,b_0]$，使得它满足$f(a_0) f(b_0) <0$;\n",
    "1. 计算区间的中点$m_0 = \\frac{a_0+b_0}{2}$并求$f(m_0)$的值；\n",
    "1. 利用二分法求得下一个有根区间$[a_1,b_1]$：\n",
    "    1. 如果$f(a_0) f(m_0) <0$，则取$a_1 = a_0$, $b_1 = m_0$，新的有根区间为$[a_1,b_1]$.\n",
    "    1. 如果$f(m_0) f(b_0) <0$，则取$a_1 = m_0$, $b_1 = b_0$，新的有根区间为$[a_1,b_1]$.\n",
    "1. 重复第(2)和第(3)步直到获得最终的有根区间$[a_N,b_N]$.\n",
    "1. 求得最终有根区间$[a_N,b_N]$的中点$m_N = \\frac{a_N+b_N}{2}$作为根的最终近似解。"
   ]
  },
  {
   "cell_type": "markdown",
   "id": "69dc047d",
   "metadata": {},
   "source": [
    "**!TIPS：** 上述二分法的执行过程需要设定一个结束条件，原因有二。一是求根的最终目的是利用合理的资源获得一定精度的根。这里面涉及到计算机的时间和内存消耗，以及所求根的精度。这些是对二分法实际使用的限制。二是计算机的有限精度存储和计算过程，使得二分过程本质上也无法获得完全精确的解，这也使得有限的二分法执行过程，或者说后续的其他迭代计算过程。"
   ]
  },
  {
   "cell_type": "markdown",
   "id": "57601d99",
   "metadata": {},
   "source": [
    "**!TIPS：** 常见的执行过程结束条件可以从三个方面来设定：\n",
    "1. 所求的数值近似根$x_s$与方程的理论精确根$x_r$之间的差距满足一定的条件，即\n",
    "\\begin{equation}\n",
    "    |x_s - x_r| \\leq tolroot\n",
    "\\end{equation}\n",
    "其中**tolroot**是人为设定的根近似程度要求。\n",
    "2. 所求的数值近似根$x_s$使得原函数$f(x)$的绝对值满足一定条件，即\n",
    "\\begin{equation}\n",
    "    |f(x_s)| \\leq tolfunc\n",
    "\\end{equation}\n",
    "其中**tolfunc**是人为设定的函数值$f(x)$为零的判别条件。\n",
    "3. 二分迭代次数$N$不超过预先设定的最大迭代次**maxiter**，主要是为了防止出现未知bug，也是为了获得对程序执行时间的控制。"
   ]
  },
  {
   "cell_type": "markdown",
   "id": "048e54c3",
   "metadata": {},
   "source": [
    "**!TIPS：** 大多数的情况下，其实在程序中不太关注函数值$𝑓(𝑥)$为零的判别条件，而是直接采用python本身内置的零值判定标准。这是由一般计算机的$Finite\\ Precision\\ Computation$机制决定的。计算机中能够表示的数并不是真的和实数一样在数轴上是均匀连续分布的，而是离散的，相邻两个可表示实数之间的差也是不定的。这就造成了一个后果，给定一个机器可表示的实数$x_c$，与其差距最小的两个实数分别为$x_l$和$x_r$。\n",
    "\n",
    "具体到求根而言，一般需要关注如何判断函数值为零。而在一般的有限精度表示系统中，与零最接近的数的大小表示了改表示系统的机械精度，一般用$eps$表示。在python的numpy数值计算包中，可以获得某一个表示浮点数的数据类型的机械精度如下：**np.finfo(np.float64).eps**。实际的工程应用中，其实大多数时候并不需要那么高精度的零值判断。因此，一般会人为设置一个零值判断精度。"
   ]
  },
  {
   "cell_type": "markdown",
   "id": "5d993392",
   "metadata": {},
   "source": [
    "**!TIPS：** 对求根而言，我们的目的寻找$x_r$使得$f(x_r)=0$。\n",
    "\n",
    "- 但实际上在有限精度计算机中我们只能使得$f(x_r)$尽可能接近$0$。因此，从求根误差的角度，$|f(x_r)|$是一个可选的度量。原则上$|f(x_r)|$越小，$x_r$越接近于精确根$x_s$。\n",
    "- 此外在迭代求根的过程中，我们会在每一个迭代步获得精确根$x_s$的一个近似值$x_i$。在算法设计合理的情况下，$|x_{i+1} - x_i|$是另一个可能的求根误差的度量。原因在于，合理的算法设计会使得$x_i$随着$i$的不断增加越来越接近精确根$x_s$，从而使得$|x_{i+1} - x_i|$越来越小。（这个观察其实来源于数列极限的相关定理，也来源于有关数列极限定理的$Cauchy$方式。）\n",
    "- 当然，如果我们能够找到一中方式在迭代计算的过程中定量的描述$|x_i - x_s|$的上限，那么我们实际上也可以近似用这个上限来表征每一步迭代获得的近似解$x_i$与精确解$x_s$之间的差距。\n",
    "- **例**：假定求根误差用$e = |f(x)|$来衡量，并用$tol$来表示可接受的误差的大小。也就是说，当某个数$x_r$满足$e = |f(x_r)| \\leq tol$时，我们可以认为在可接受的误差范围内，我们找到了一个近似根$x_r$。那么如果令$f(x) = x^2 + tol / 2$，很明显$f(x)$没有实根。但是考虑到$|f(0)| = |tol/2| \\leq tol$，满足设定的求根条件，我们可以认为在利用程序求根时，$x_r=0$时函数$f(x)$的一个零点。 <span style=\"color:red\"> 这里请注意，我们的计算机程序有可能对一个本来理论上没有实数根的函数求出一个实数根 </span>.\n",
    "- **例**：假定求根误差用$e = |x_{i+1} - x_i|$来衡量，并用$tol$来表示可接受的误差的大小。考虑函数$f(x)= 1/ x$，很明显$f(x)$没有实数根。但是，某个计算机程序在第$i$步计算时获得$x_i = -tol/4$，在第$i+1$步计算时获得$x_{i+1} = tol/4$，那么所得的误差为$e = |x_{i+1} - x_i|=tol/2 \\leq tol$，因此可以认为第$i+1$迭代获得的近似根为原函数$f(x)$的一个根。\n",
    "<span style=\"color:red\"> 这里请注意，我们的计算机程序有可能对一个本来理论上没有实数根的函数求出一个实数根 </span>."
   ]
  },
  {
   "cell_type": "markdown",
   "id": "3698028a",
   "metadata": {},
   "source": [
    "**!TIPS：** 在实际计算和编程过程中，需要注意的是初始下标的数值。如果初始下标为$[a_0,b_0]$，则最终的迭代次数和下标相等；如果初始下标为$[a_1,b_1]$，则最终的迭代次数等与下标减1。关于在最终考试中的取法，请参考教材上的惯例。"
   ]
  },
  {
   "cell_type": "markdown",
   "id": "5b1e071f",
   "metadata": {},
   "source": [
    "### 二分法的示例"
   ]
  },
  {
   "cell_type": "markdown",
   "id": "424a0164",
   "metadata": {},
   "source": [
    "**例(1)** 考虑函数\n",
    "\\begin{equation}\n",
    "    f(x) = x^3 + x^2 - 5\n",
    "\\end{equation}\n",
    "**求解初始有根区间**。"
   ]
  },
  {
   "cell_type": "markdown",
   "id": "188da5dd",
   "metadata": {},
   "source": [
    "**解：**\n",
    "- 首先，很明显函数$f(x)$是一个连续函数\n",
    "- 其次，根据简单的数值计算可知$f(1) = -3 <0$, $f(2) = 7 >0$\n",
    "- 再次，考虑$f(x)$的导函数$f'(x) = 3x^2 + 2x$在区间$[1,2]$上恒大于零，对应于$f(x)$的严格单调递增\n",
    "- 最后，根据以上结果和介值定理，我们可以得到$f(x)$在有根区间$[1,2]$上存在唯一的实根"
   ]
  },
  {
   "cell_type": "markdown",
   "id": "b1f34817",
   "metadata": {},
   "source": [
    "**例(2)** 考虑函数\n",
    "\\begin{equation}\n",
    "    f(x) = x^3 - x - 1\n",
    "\\end{equation}"
   ]
  },
  {
   "cell_type": "markdown",
   "id": "77e28ec7",
   "metadata": {},
   "source": [
    "首先，可以获得$f(x)$的有根区间为$[1,2]$，且$f(x)$在有根区间上的根唯一。"
   ]
  },
  {
   "cell_type": "markdown",
   "id": "511ffb1c",
   "metadata": {},
   "source": [
    "其次，针对有根区间$[1,2]$，要求近似解与精确解之间的差距不大于$10^{-3}$。"
   ]
  },
  {
   "cell_type": "markdown",
   "id": "fcd74707",
   "metadata": {},
   "source": [
    "使用二分法进行迭代求根计算的过程如下（注意改表格中初始迭代下标为0）：\n",
    "\n",
    "| <div style=\"width:10pt\"> $k$  </div>   | $a_k$  | $b_k$ | $x_k$  | <div style=\"width:30pt\"> $f(x_k)$  </div>        | <div style=\"width:80pt\"> $f(x_k)$的符号  </div>       | \n",
    "| --- | ------- | ------ | ------ | --------------: | :---: |\n",
    "|  0  | 1       | 2      | 1.5    |  0.8750000000   |   +  |\n",
    "|  1  | 1       | 1.5    | 1.25   | -0.2968750000   |   -  |\n",
    "|  2  | 1.25    | 1.5    | 1.375  |  0.224609375    |   +  |\n",
    "|  3  | 1.25    | 1.375  | 1.3125 | -0.0515136719   |   -  |\n",
    "|  4  | 1.3125  | 1.375  | 1.3438 |  0.0826110840   |   +  |\n",
    "|  5  | 1.3125  | 1.3438 | 1.3282 |  0.0145759583   |   +  |\n",
    "|  6  | 1.3125  | 1.3282 | 1.3204 | -0.0187106133   |   -  |\n",
    "|  7  | 1.31204 | 1.3282 | 1.3243 | -0.0021279454   |   -  |\n",
    "|  8  | 1.31243 | 1.3282 | 1.3263 |  0.0062088296   |   +  |\n",
    "|  9  | 1.31243 | 1.3263 | 1.3253 |  0.0024835453   |   +  |\n",
    "\n",
    "最终获得的近似解为$x_s = 1.3253$。"
   ]
  },
  {
   "cell_type": "markdown",
   "id": "45b8d6a4",
   "metadata": {},
   "source": [
    "再次，如果要求最终获得的近似解$x_s$和精确解$x_r$满足$| x_s - x_r | \\leq 10^{-6}$，则所需要的最少二分迭代次数为$k$。$k$应该满足\n",
    "\\begin{equation}\n",
    "     |x_{k} - x_r| \\leq \\frac{b-a}{2^{k+1}} \\leq 10^{-6}\n",
    "\\end{equation}\n",
    "即\n",
    "\\begin{equation}\n",
    "    k \\geq \\frac{\\log(b-a) + 6 \\log(10) }{\\log(2)} - 1 \\approx 19.932.\n",
    "\\end{equation}\n",
    "从而二分迭代$20$次即可达到精度要求。"
   ]
  },
  {
   "cell_type": "markdown",
   "id": "3b8ac339",
   "metadata": {},
   "source": [
    "**例(3)** 使用二分法求解方程$f(x) = x^3 - x - 1 = 0$，选取初始有根区间为$[1,1.5]$，则如果要求最终求根误差为$0.005$，所需要的最小迭代次数为多少？"
   ]
  },
  {
   "cell_type": "markdown",
   "id": "30bf1994",
   "metadata": {},
   "source": [
    "**解：** 根据前述的计算过程，可得最小迭代次数为$k$"
   ]
  },
  {
   "cell_type": "markdown",
   "id": "3d0b7176",
   "metadata": {},
   "source": [
    "\\begin{equation}\n",
    "    k \\geq \\frac{\\log(b-a) - \\log(0.005) }{\\log(2)} - 1 \\approx 5.644.\n",
    "\\end{equation}"
   ]
  },
  {
   "cell_type": "markdown",
   "id": "f6e9728d",
   "metadata": {},
   "source": [
    "从而二分迭代$6$次即可达到精度要求。"
   ]
  },
  {
   "cell_type": "markdown",
   "id": "6882cf67",
   "metadata": {},
   "source": [
    "### 二分法的Python实现"
   ]
  },
  {
   "cell_type": "markdown",
   "id": "2a434f9d",
   "metadata": {},
   "source": [
    "#### 二分法的Python函数"
   ]
  },
  {
   "cell_type": "code",
   "execution_count": 1,
   "id": "a5088015",
   "metadata": {
    "scrolled": true
   },
   "outputs": [
    {
     "name": "stdout",
     "output_type": "stream",
     "text": [
      "iter 1： 1.0000000000  1.5000000000 0.2500000000 -1.0000000000 0.8750000000 1.5000000000   0.8750000000\n",
      "iter 2： 1.2500000000  1.5000000000 0.1250000000 -0.2968750000 0.8750000000 1.2500000000  -0.2968750000\n",
      "iter 3： 1.2500000000  1.3750000000 0.0625000000 -0.2968750000 0.2246093750 1.3750000000   0.2246093750\n",
      "iter 4： 1.3125000000  1.3750000000 0.0312500000 -0.0515136719 0.2246093750 1.3125000000  -0.0515136719\n",
      "iter 5： 1.3125000000  1.3437500000 0.0156250000 -0.0515136719 0.0826110840 1.3437500000   0.0826110840\n",
      "iter 6： 1.3125000000  1.3281250000 0.0078125000 -0.0515136719 0.0145759583 1.3281250000   0.0145759583\n",
      "iter 7： 1.3203125000  1.3281250000 0.0039062500 -0.0187106133 0.0145759583 1.3203125000  -0.0187106133\n",
      "iter 8： 1.3242187500  1.3281250000 0.0019531250 -0.0021279454 0.0145759583 1.3242187500  -0.0021279454\n",
      "iter 9： 1.3242187500  1.3261718750 0.0009765625 -0.0021279454 0.0062088296 1.3261718750   0.0062088296\n"
     ]
    },
    {
     "data": {
      "text/plain": [
       "1.3251953125"
      ]
     },
     "execution_count": 1,
     "metadata": {},
     "output_type": "execute_result"
    }
   ],
   "source": [
    "import numpy as np\n",
    "\n",
    "\"\"\"\n",
    "Find the numerical approximation xs of the actual solution xr \n",
    "of a function f with starting inverval [a,b]\n",
    "Arguments:\n",
    "    f:       A function to be sovled\n",
    "    a:       Root-enclosing interval, left end\n",
    "    b:       Root-enclosing interval, right end\n",
    "    tolroot: Absolute tolerance for the root\n",
    "                   |xs - xr| < tolroot\n",
    "    torfunc: Absolute tolerance for the function zero\n",
    "                   | f(xs) | < tolfunc\n",
    "    maxiter: Maximum number of bisections to be done\n",
    "Returns:\n",
    "    The approximated root xs\n",
    "\"\"\"\n",
    "\n",
    "def bisection(f, a, b, tolroot=1e-3, tolfunc=1e-3, maxiter=20, fprint = False):\n",
    "    \n",
    "    if np.sign(f(a))  == np.sign(f(b)):\n",
    "        raise Exception(\"The interval [a,b] does not bracket a root\")\n",
    "    if np.abs(f(a)) < tolfunc:\n",
    "        xs = a; return xs \n",
    "    if np.abs(f(b)) < tolfunc:\n",
    "        xs = b; return xs\n",
    "    \n",
    "    for k in range(1, maxiter+1):\n",
    "        xm =  (a + b)/2\n",
    "        if np.abs(f(xm)) < tolfunc or np.abs((a-b)/2) < tolroot:\n",
    "            xs = xm; return xs\n",
    "        if np.sign(f(a)) == np.sign(f(xm)):\n",
    "            a = xm\n",
    "        else:\n",
    "            b = xm\n",
    "        \n",
    "#         print(\"%d, %12.10f, %12.10f, %12.10f, %12.10f, %12.10f, %12.10f, %14.10f\" \\\n",
    "#               %(k, a, b,(b-a)/2, f(a), f(b), xm, f(xm)))\n",
    "        \n",
    "        if fprint == True:\n",
    "            print(\"iter {0:d}： {1:>12.10f}  {2:>12.10f} {3:>12.10f} {4:>12.10f} {5:>12.10f} {6:>12.10f}  {7:>13.10f}\"\\\n",
    "              .format(k,a,b,(b-a)/2, f(a), f(b), xm, f(xm)))\n",
    "    xs = xm\n",
    "    \n",
    "    return xs\n",
    "\n",
    "g = lambda x: np.cos(x) - x\n",
    "a, b = 0.5, 1\n",
    "bisection(g,a,b)\n",
    "\n",
    "\n",
    "ff = lambda x: x * np.cos(x) + 1\n",
    "a,b = -3, 4\n",
    "bisection(ff,a,b)\n",
    "\n",
    "gg = lambda x: x**3  - x - 1\n",
    "a,b = 1, 2\n",
    "bisection(gg,a,b,fprint=True)"
   ]
  },
  {
   "cell_type": "code",
   "execution_count": 5,
   "id": "f2cea86c",
   "metadata": {},
   "outputs": [
    {
     "data": {
      "image/png": "[encoded data removed]",
      "text/plain": [
       "<Figure size 432x288 with 1 Axes>"
      ]
     },
     "metadata": {
      "needs_background": "light"
     },
     "output_type": "display_data"
    }
   ],
   "source": [
    "import numpy as np\n",
    "import matplotlib.pyplot as plt\n",
    "hh = lambda x: np.exp(10*np.sin(x)) + np.exp(1)*np.cos(x)\n",
    "hh(-1)\n",
    "\n",
    "x = np.linspace(-2*np.pi,2*np.pi,1000)\n",
    "y = hh(x)\n",
    "plt.plot(x,y)\n",
    "plt.grid(True)\n",
    "plt.show()"
   ]
  },
  {
   "cell_type": "markdown",
   "id": "1c314d02",
   "metadata": {},
   "source": [
    "#### 二分法的Python实现示例\n",
    "以下以函数\n",
    "\\begin{equation}\n",
    "   f(x) = x\\ \\cos(x) + 1\n",
    "\\end{equation}\n",
    "为例，调用以上二分法求解函数求区间$[-3,4]$内的一个根"
   ]
  },
  {
   "cell_type": "markdown",
   "id": "862dec0c",
   "metadata": {},
   "source": [
    "- 单纯调用显示中间迭代结果"
   ]
  },
  {
   "cell_type": "code",
   "execution_count": 2,
   "id": "a7da280c",
   "metadata": {
    "scrolled": true
   },
   "outputs": [
    {
     "name": "stdout",
     "output_type": "stream",
     "text": [
      "iter 1： 0.5000000000  4.0000000000 1.7500000000 1.4387912809 -1.6145744835 0.5000000000   1.4387912809\n",
      "iter 2： 0.5000000000  2.2500000000 0.8750000000 1.4387912809 -0.4133906511 2.2500000000  -0.4133906511\n",
      "iter 3： 1.3750000000  2.2500000000 0.4375000000 1.2675030985 -0.4133906511 1.3750000000   1.2675030985\n",
      "iter 4： 1.8125000000  2.2500000000 0.2187500000 0.5661652143 -0.4133906511 1.8125000000   0.5661652143\n",
      "iter 5： 2.0312500000  2.2500000000 0.1093750000 0.0974047669 -0.4133906511 2.0312500000   0.0974047669\n",
      "iter 6： 2.0312500000  2.1406250000 0.0546875000 0.0974047669 -0.1548410732 2.1406250000  -0.1548410732\n",
      "iter 7： 2.0312500000  2.0859375000 0.0273437500 0.0974047669 -0.0276531839 2.0859375000  -0.0276531839\n",
      "iter 8： 2.0585937500  2.0859375000 0.0136718750 0.0351755180 -0.0276531839 2.0585937500   0.0351755180\n",
      "iter 9： 2.0722656250  2.0859375000 0.0068359375 0.0038319675 -0.0276531839 2.0722656250   0.0038319675\n",
      "iter 10： 2.0722656250  2.0791015625 0.0034179688 0.0038319675 -0.0118934293 2.0791015625  -0.0118934293\n",
      "iter 11： 2.0722656250  2.0756835938 0.0017089844 0.0038319675 -0.0040263708 2.0756835938  -0.0040263708\n",
      "2.073974609375\n"
     ]
    }
   ],
   "source": [
    "fun = lambda x: x * np.cos(x) + 1\n",
    "x_real = bisection(fun, -3, 4, fprint=True)\n",
    "print(x_real)"
   ]
  },
  {
   "cell_type": "markdown",
   "id": "6f7366f2",
   "metadata": {},
   "source": [
    "- 调用计算最终结果并且可视化"
   ]
  },
  {
   "cell_type": "code",
   "execution_count": 16,
   "id": "648a399a",
   "metadata": {},
   "outputs": [
    {
     "name": "stdout",
     "output_type": "stream",
     "text": [
      "x_real =  2.073975\n"
     ]
    },
    {
     "data": {
      "image/png": "[encoded data removed]",
      "text/plain": [
       "<Figure size 864x432 with 1 Axes>"
      ]
     },
     "metadata": {
      "needs_background": "light"
     },
     "output_type": "display_data"
    }
   ],
   "source": [
    "import numpy as np\n",
    "import matplotlib.pyplot as plt\n",
    "          \n",
    "fun = lambda x: x * np.cos(x) + 1\n",
    "x_real = bisection(fun, -3, 4)\n",
    "\n",
    "\n",
    "print(\"x_real = \", \"{:7.6f}\".format(x_real))            \n",
    "# 绘制结果\n",
    "x = np.linspace(-3, 5, 500)\n",
    "\n",
    "plt.figure(figsize=(12,6))\n",
    "plt.plot(x,fun(x), 'b-', linewidth=2, label=r\"$f(x) = x \\ cosx + 1$\")\n",
    "plt.plot(x_real, fun(x_real), 'o-r', markersize=15, label=\"Approximated root\")\n",
    "plt.xlabel(r\"$x$\", fontsize=20, fontname=\"Times New Roman\")\n",
    "plt.ylabel(r\"$f(x) = x\\ cosx + 1$\", fontsize=20, fontname=\"Times New Roman\")\n",
    "plt.title(\"Root finding by bisection\", fontsize=20, fontname=\"Times New Roman\")\n",
    "plt.legend(fontsize=20)\n",
    "plt.xlim((-3, 5))\n",
    "plt.xticks(np.arange(-3, 6, 1))\n",
    "plt.grid(True, linestyle='-.')\n",
    "\n",
    "plt.show()"
   ]
  },
  {
   "cell_type": "markdown",
   "id": "b4218025",
   "metadata": {},
   "source": [
    "### 思考题"
   ]
  },
  {
   "cell_type": "markdown",
   "id": "1f2a2886",
   "metadata": {},
   "source": [
    "1. 考虑方程\n",
    "$$x^5=x^2+10$$\n",
    "\n",
    "    1. 确定一个区间$[a,b]$，使得区间长度为$1$，而且其中存在该方程的一个根。\n",
    "    1. 根据所确定的初始区间，利用二分法进行两次迭代计算，获得对应的有跟区间。\n",
    "    1. 确定求得绝对误差不超过$10^{-10}$的根所需要的二分迭代操作的次数。\n",
    "    1. 利用上述的二分法代码，求得绝对误差不超过$10^{-10}$的根。"
   ]
  },
  {
   "cell_type": "markdown",
   "id": "e26fd452",
   "metadata": {},
   "source": [
    "2. Find the 4th approximation of the positive root of the function $f(x)=x^4−7$ using the bisection method ."
   ]
  },
  {
   "cell_type": "markdown",
   "id": "187beb55",
   "metadata": {},
   "source": [
    "3. Find the third approximation of the root of the function $f(x)=\\frac{1}{2}x − \\sqrt[3]{x+1}$ using the bisection method ."
   ]
  },
  {
   "cell_type": "markdown",
   "id": "cf3a31d3",
   "metadata": {},
   "source": [
    "4. Approximate the negative root of the function $f(x)=x^2−7$ to within $0.1$ of its actual value."
   ]
  },
  {
   "cell_type": "markdown",
   "id": "7aab318d",
   "metadata": {},
   "source": [
    "5. 黄金分割比\n",
    "$$\\phi = \\frac{\\sqrt{5} - 1}{2} \\approx 0.618\\cdots $$\n",
    "是函数$f(x)= x^2 - x - 1$的一个根。选定初始有根区间$[1,2]$，求迭代计算次数$N=25$后的近似区间和近似根。"
   ]
  },
  {
   "cell_type": "markdown",
   "id": "e18436b4",
   "metadata": {},
   "source": [
    "6. Approximate the value of the root of $f(x)=−3x^3+5x^2+14x−16$ near $x=3$ to within $0.05$ of its actual value."
   ]
  },
  {
   "cell_type": "markdown",
   "id": "0e17c447",
   "metadata": {},
   "source": [
    "7. Find the 4th approximation to the solution of the equation below using the bisection method .\n",
    "$$x^2−x−2=x$$"
   ]
  },
  {
   "cell_type": "markdown",
   "id": "3d10e02e",
   "metadata": {},
   "source": [
    "8. Find the 5th approximation to the solution to the equation below, using the bisection method .\n",
    "$$x^4−2=x+1$$"
   ]
  },
  {
   "cell_type": "markdown",
   "id": "e0a4e597",
   "metadata": {},
   "source": [
    "9. The equation below should have a solution that is larger than 5. Use the bisection method to approximate this solution to within $0.1$ of its actual value.\n",
    "$$x^3+18x−6=9x^2−2x+7$$"
   ]
  },
  {
   "cell_type": "markdown",
   "id": "7b742c5d",
   "metadata": {},
   "source": [
    "## 不动点迭代法 （Fixed-Point Iteration Method）\n",
    "前述的二分法向我们展示了非线性方程求根的一种方法。二分法有很多种解读的角度。\n",
    "- 一是我们从实际操作上讲，利用了不断对有限区间进行长度对分，最终使得包含根的区间长度越来越小，区间中点所对应的数也就越来越接近于非线性方程的根。\n",
    "- 二是可以从迭代的角度来讲，二分法实际上是寻求一个近似序列$x_i$ $\\{ x_i \\}_{i=1}^{\\infty}$，使得该近似序列的极限趋于方程的精确解$x_r$\n",
    "\\begin{equation}\n",
    "    \\lim_{n \\to \\infty} x_i = x_r\n",
    "\\end{equation}\n",
    "从这个角度来讲，二分法的操作流程相当于确定了一个由$x_i$到$x_{i+1}$的变换规则。\n",
    "\n",
    "从更大的范围来讲，利用计算机进行数值计算时，经常或者说必须采用的一种思路就是**迭代法**，也就是通过建立由某一个近似解获得另一个近似解的方法\n",
    "\\begin{equation}\n",
    "    x_i  \\Longrightarrow_{(by\\ some\\ rules)} x_{i+1}\n",
    "\\end{equation}\n",
    "（也就是**迭代规则**），构造一个近似序列\n",
    "\\begin{equation}\n",
    "    \\{ x_i \\}_{i=1}^{\\infty}\n",
    "\\end{equation}\n",
    "（也就是**迭代序列**），最后只要经过合理的算法设计，使得迭代序列的极限是所需要求的精确解即可。"
   ]
  },
  {
   "cell_type": "markdown",
   "id": "d553ceae",
   "metadata": {},
   "source": [
    "### 不动点迭代法的基本原理\n",
    "\n",
    "**不动点迭代法**的核心是通过对非线性方程\n",
    "\\begin{equation}\n",
    "    f(x) = 0\n",
    "\\end{equation}\n",
    "进行改造获得一个合适的迭代规则\n",
    "\\begin{equation}\n",
    "    x = g(x)\n",
    "\\end{equation}\n",
    "又称为**迭代函数**，从而获得迭代格式\n",
    "\\begin{equation}\n",
    "    x_{i+1} = g(x_i),\\quad i =0,1,2,\\cdots\n",
    "\\end{equation}\n",
    "及对应的迭代序列\n",
    "\\begin{equation}\n",
    "    x_0, x_1, x_2, \\cdots, x_i, x_{i+1}, \\cdots\n",
    "\\end{equation}"
   ]
  },
  {
   "cell_type": "markdown",
   "id": "0251405a",
   "metadata": {},
   "source": [
    "### 不动点迭代法的示例"
   ]
  },
  {
   "cell_type": "markdown",
   "id": "0786783b",
   "metadata": {},
   "source": [
    "**例1**  用不动点迭代法求解方程\n",
    "$$x^2 - 10 =  0$$"
   ]
  },
  {
   "cell_type": "markdown",
   "id": "ce0d86ee",
   "metadata": {},
   "source": [
    "**解** \n",
    "- 首先是要构造迭代函数$x=g(x)$。针对给出的方程，我们在这里选出的迭代函数是\n",
    "\\begin{equation}\n",
    "   f(x) = x^2 - 10 =  0 \\Longrightarrow  x = \\frac{1}{2}\\left( x + \\frac{10}{x} \\right) = g(x)\n",
    "\\end{equation}\n",
    "- 从而我们获得的迭代格式是\n",
    "\\begin{equation}\n",
    "  x_{i+1} = \\frac{1}{2}\\left( x_i + \\frac{10}{x_i} \\right)\n",
    "\\end{equation}\n",
    "- 选定一个迭代计算用的初始值。这里我们简单的选$x_0 = 1$\n",
    "- 依次进行迭代计算可得$x_1$,$x_2$,$\\cdots$, $x_9$如下  <br>\n",
    "> x[0] :=   1.00000000 <br>\n",
    "x[1] :=   5.50000000 <br>\n",
    "x[2] :=   3.65909091 <br>\n",
    "x[3] :=   3.19600508 <br>\n",
    "x[4] :=   3.16245562 <br>\n",
    "x[5] :=   3.16227767 <br>\n",
    "x[6] :=   3.16227766 <br>\n",
    "x[7] :=   3.16227766 <br>\n",
    "x[8] :=   3.16227766 <br>\n",
    "x[9] :=   3.16227766 <br>\n",
    "\n",
    "对应的python代码如下\n",
    "\n",
    "``` python\n",
    "import numpy as np\n",
    "\n",
    "g = lambda x: (x + 10.0/x) / 2.0\n",
    "x0 = 1.0\n",
    "x = np.zeros(10)\n",
    "x[0] = x0\n",
    "for i in range(1,len(x)):\n",
    "    x[i] = g(x[i-1])\n",
    "for i in range(len(x)):\n",
    "    print(\"x[%d] := %12.8f\" %(i, x[i]))\n",
    "```"
   ]
  },
  {
   "cell_type": "markdown",
   "id": "a5e047cd",
   "metadata": {},
   "source": [
    "**例2**  用不动点迭代法求解方程\n",
    "$$x^3 - x - 1 =  0$$"
   ]
  },
  {
   "cell_type": "markdown",
   "id": "bc358bcc",
   "metadata": {},
   "source": [
    "**解** 首先可以画出该函数的图像如下："
   ]
  },
  {
   "cell_type": "code",
   "execution_count": 39,
   "id": "0d3837e9",
   "metadata": {
    "scrolled": false
   },
   "outputs": [
    {
     "data": {
      "image/png": "[encoded data removed]",
      "text/plain": [
       "<Figure size 864x432 with 1 Axes>"
      ]
     },
     "metadata": {
      "needs_background": "light"
     },
     "output_type": "display_data"
    }
   ],
   "source": [
    "import numpy as np\n",
    "import matplotlib.pyplot as plt\n",
    "\n",
    "g = lambda x: x**3 - x - 1\n",
    "x = np.linspace(1,2,100)\n",
    "y = g(x)\n",
    "plt.figure(figsize=(12,6))\n",
    "plt.plot(x,y)\n",
    "plt.grid(True)\n",
    "plt.xlabel(\"x\")\n",
    "plt.ylabel(\"g(x0)\")\n",
    "plt.show()"
   ]
  },
  {
   "cell_type": "markdown",
   "id": "868d2026",
   "metadata": {},
   "source": [
    "其次，我们可以构造出三种迭代函数\n",
    "\\begin{equation}\n",
    "    g_1 (x) = \\sqrt[3]{x+1},\\quad g_2 (x) = x^3 - 1，\\quad g_3(x) = \\frac{x+1}{x^2}\n",
    "\\end{equation}\n",
    "**!TIPS** 请验证一下$g_1(x)$，$g_2(x)$和$g_3(x)$符合上述方程。"
   ]
  },
  {
   "cell_type": "markdown",
   "id": "f90bccdd",
   "metadata": {},
   "source": [
    "再次，选取初始值$x_0=1.5$，可以对上述迭代公式进行迭代求解，获得如下表的结果\n",
    "\n",
    "|迭代公式  | $g_1(x)$   |   $g_2(x)$   |    $g_3(x)$   |\n",
    "|---|-- -|--- | --- |\n",
    "|$x_0$| 1.50000000 |  1.50000000 |  1.50000000 |\n",
    "|$x_1$| 1.35720881 |  2.37500000 |  1.11111111 |\n",
    "|$x_2$| 1.33086096 | 12.39648438 |  1.71000000 |\n",
    "|$x_3$| 1.32588377 |1904.00277223 |  0.92678089 |\n",
    "|$x_4$| 1.32493936 |6902441412.88919163 |  2.24325265 |\n",
    "|$x_5$| 1.32476001 |328857830399801008433274028032.00000000 |  0.64450220 |\n",
    "|$x_6$| 1.32472595 | --- |  3.95900139 |\n",
    "|$x_7$| 1.32471947 |--- |  0.31639013 |\n",
    "|$x_8$| 1.32471825 |         inf | 13.15039424 |\n",
    "|$x_9$| 1.32471801 |         inf |  0.08182594 |\n"
   ]
  },
  {
   "cell_type": "markdown",
   "id": "947f657e",
   "metadata": {},
   "source": [
    "``` python\n",
    "import numpy as np\n",
    "\n",
    "g1 = lambda x: (x+1)**(1.0/3)\n",
    "g2 = lambda x: x**3.0 - 1\n",
    "g3 = lambda x: (x + 1.0) / x**2.0\n",
    "x0 = 1.5\n",
    "x1 = np.zeros(10)\n",
    "x2 = np.zeros(10)\n",
    "x3 = np.zeros(10)\n",
    "x1[0] = x0\n",
    "x2[0] = x0\n",
    "x3[0] = x0\n",
    "for i in range(1,len(x1)):\n",
    "    x1[i] = g1(x1[i-1])\n",
    "    x2[i] = g2(x2[i-1])\n",
    "    x3[i] = g3(x3[i-1])\n",
    "for i in range(len(x1)):\n",
    "    print(\" %12.8f |%12.8f |%12.8f |\" %(x1[i],x2[i],x3[i]))\n",
    "``` "
   ]
  },
  {
   "cell_type": "markdown",
   "id": "16cdf3d7",
   "metadata": {},
   "source": [
    "**!TIPS** 根据以上过程可知，<font color=red>$g(x)$的选择对于最终是否能够顺利求得精确解，甚至说能否求得一个解至关重要</font>。"
   ]
  },
  {
   "cell_type": "markdown",
   "id": "6dedb5a4",
   "metadata": {},
   "source": [
    "### 不动点迭代法的收敛性\n",
    "从几何上看，不动点迭代法的操作过程是求函数$y=g(x)$与直线$y=x$的交点$P$的横坐标$x_p$。"
   ]
  },
  {
   "cell_type": "code",
   "execution_count": 15,
   "id": "27ee7d6b",
   "metadata": {
    "scrolled": false
   },
   "outputs": [
    {
     "data": {
      "image/png": "[encoded data removed]",
      "text/plain": [
       "<Figure size 432x432 with 1 Axes>"
      ]
     },
     "metadata": {
      "needs_background": "light"
     },
     "output_type": "display_data"
    }
   ],
   "source": [
    "import numpy as np\n",
    "import matplotlib.pyplot as plt\n",
    "\n",
    "x = np.linspace(-2,2,1000)\n",
    "y = x**3.0 - 1\n",
    "plt.figure(figsize=(6,6))\n",
    "plt.plot(x,x,'r--',label=r'$y=x$')\n",
    "plt.plot(x,y,'b-',label=r'$y=x^3 - 1$')\n",
    "plt.xlabel(\"x\");plt.ylabel(\"y\");\n",
    "plt.ylim([-2,2])\n",
    "plt.xlim([-2,2])\n",
    "plt.grid(True)\n",
    "plt.legend()\n",
    "plt.show()"
   ]
  },
  {
   "cell_type": "markdown",
   "id": "8fe56604",
   "metadata": {},
   "source": [
    "通过前面的示例，我们能够很明确的发现：利用不动点迭代法$x_{k+1} = g(x_k)$求非线性方程$f(x)=0$的根时，$g(x)$的形式决定了迭代过程的收敛特性以及最终结果的准确性。下图表示了不同$g(x)$所对应的迭代过程。"
   ]
  },
  {
   "cell_type": "markdown",
   "id": "f7888ac7",
   "metadata": {},
   "source": [
    "![fixed_point_example.jpg](./images/fixed_point_example.jpg)"
   ]
  },
  {
   "cell_type": "markdown",
   "id": "0237c066",
   "metadata": {},
   "source": [
    "#### 全局收敛性判断定理"
   ]
  },
  {
   "cell_type": "markdown",
   "id": "96366b02",
   "metadata": {},
   "source": [
    "**定理（不动点迭代法的收敛性条件）**  设函数$\\varphi(x)$在闭区间$[a,b]$上连续，并且满足\n",
    "\n",
    "<a name=\"item:theorem1_condition1\"></a> <font color=\"red\">条件1</font>: 对任意的$x\\in [a,b]$，都有$\\varphi(x) \\in [a,b]$；\n",
    "\n",
    "<a name=\"item:theorem1_condition2\"></a> <font color=\"red\">条件2</font>: 存在正数$L < 1$，使得对任意$x,y \\in [a,b]$，有：\n",
    "\\begin{equation*}\n",
    " |\\varphi(x) - \\varphi(y)| \\leq L |x-y|.\n",
    "\\end{equation*}\n",
    "\n",
    "则对于方程$x = \\varphi(x)$而言，有\n",
    "\n",
    "<a name=\"item:theorem1_result1\"></a> <font color=\"blue\">结论1</font>：函数$\\varphi(x)$在闭区间$[a,b]$上存在唯一的不动点$x^*$；\n",
    "\n",
    "<a name=\"item:theorem1_result2\"></a> <font color=\"blue\">结论2</font>：对于任何初值$x_0 \\in [a,b]$，由迭代法$x_{k+1} = \\varphi(x_k)$生成的序列$\\{x_k\\}$收敛到不动点$x^*$；\n",
    "\n",
    "<a name=\"item:theorem1_result3\"></a> <font color=\"blue\">结论3</font>：存在如下的误差估计式\n",
    "\\begin{equation*}\n",
    " |x_k - x^*| \\leq \\frac{L}{1-L}|x_k - x_{k-1}|.\n",
    "\\end{equation*}\n",
    "\\begin{equation*}\n",
    " |x_k - x^*| \\leq \\frac{L^k}{1-L}|x_1 - x_0|.\n",
    "\\end{equation*}"
   ]
  },
  {
   "cell_type": "markdown",
   "id": "2145a8d0",
   "metadata": {},
   "source": [
    "**证明 part 1（不动点的存在性）**\n",
    "根据前述情况，显然有$x_k \\in [a,b],\\ k=0,1,\\cdots$，进而有\n",
    " \\begin{equation*}\n",
    "     \\begin{aligned}\n",
    "         |x_k - x^*| &= |\\varphi(x_{k-1}) - \\varphi(x^*)| \\\\\n",
    "                     &\\leq L |x_{k-1} - x^*| \\leq \\cdots \\leq L^k |x_{0} - x^*|\n",
    "     \\end{aligned}\n",
    " \\end{equation*}\n",
    " 从而\n",
    " \\begin{equation*}\n",
    "     \\lim_{k \\to \\infty}|x_k - x^*| = 0\n",
    " \\end{equation*}\n",
    " 即$$\\lim_{k \\to \\infty}x_k = x^*$$\n",
    " \n",
    " **证明 part 2（不动点的唯一性）**\n",
    "现假设$\\varphi(x)$在区间$[a,b]$上有两个不同的不动点$x_1^*$和$x_2^*$，则有\n",
    "\\begin{equation*}\n",
    "    |x_1^* - x_2^*| = |\\varphi(x_1^*) - \\varphi(x_2^*)| \\leq L |x_1^* - x_2^*| < |x_1^* - x_2^*|\n",
    "\\end{equation*}\n",
    "该式存在矛盾，因此$\\varphi(x)$在区间$[a,b]$上只有一个不动点\n",
    "\n",
    "**证明  part 3（迭代序列的收敛性）**\n",
    "根据前述情况，显然有$x_k \\in [a,b],\\ k=0,1,\\cdots$，进而有\n",
    " \\begin{equation*}\n",
    "     \\begin{aligned}\n",
    "         |x_k - x^*| &= |\\varphi(x_{k-1}) - \\varphi(x^*)| \\\\\n",
    "                     &\\leq L |x_{k-1} - x^*| \\leq \\cdots \\leq L^k |x_{0} - x^*|\n",
    "     \\end{aligned}\n",
    " \\end{equation*}\n",
    " 从而\n",
    " \\begin{equation*}\n",
    "     \\lim_{k \\to \\infty}|x_k - x^*| = 0\n",
    " \\end{equation*}\n",
    " 即$$\\lim_{k \\to \\infty}x_k = x^*$$\n",
    " \n",
    " **证明  part 4（迭代序列的收误差估计）**\n",
    "根据前述情况，显然有\n",
    "\\begin{equation*}\n",
    "    |x_{k+1} - x_k| = |\\varphi(x_{k}) - \\varphi(x_{k-1})| \\leq L |x_{k} - x_{k-1}|\n",
    "\\end{equation*} \n",
    "进而，对任意的正整数$p$可得\n",
    "\\begin{equation*}\n",
    " \\begin{aligned}\n",
    "     |x_{k+p} - x_k| &\\leq |x_{k+p} - x_{k+p-1}| + \\cdots + |x_{k+2} - x_{k+1}| + |x_{k+1} - x_k| \\\\\n",
    "                     &\\leq \\left( L^{p-1} + \\cdots + L + 1 \\right) |x_{k+1} - x_k|\n",
    " \\end{aligned}\n",
    "\\end{equation*}\n",
    "因为$0 < L < 1$，从而$(1-L)^{-1} = \\sum_{k=0}^\\infty L^k > 1 + L + \\cdots + L^{p-1}$。由此，\n",
    "\\begin{equation*}\n",
    "    |x_{k+p} - x_k| \\leq \\frac{1}{1-L} |x_{k+1} - x_k| \\leq \\frac{L}{1-L} |x_{k} - x_{k-1}|\n",
    "\\end{equation*}\n",
    "令$p \\to \\infty$并由前述证明的序列收敛性，即可得 \n",
    "\\begin{equation*}\n",
    " |x^* - x_k| \\leq \\frac{L}{1-L} |x_{k} - x_{k-1}|\n",
    "\\end{equation*}\n",
    "继续往下迭代可知\n",
    "\\begin{equation*}\n",
    "     |x^* - x_k| \\leq \\frac{L}{1-L} |x_{k} - x_{k-1}| \\leq \\frac{L^2}{1-L} |x_{k-1} - x_{k-2}| \\leq \\cdots \\leq \\frac{L^k}{1-L} |x_{1} - x_{0}| \n",
    "\\end{equation*}"
   ]
  },
  {
   "cell_type": "markdown",
   "id": "71966578",
   "metadata": {},
   "source": [
    "**!TIPS** 1： 如果函数$\\varphi(x)$在区间$(a,b)$内可微，那么上述定理中的[条件1](#item:theorem1_condition1)可以用更强的条件代替： \n",
    " \\begin{equation*}\n",
    "     |\\varphi^{\\prime}(x)| \\leq L < 1,\\quad \\forall x \\in (a,b)\n",
    " \\end{equation*}\n",
    " 事实上，若上式成立，则根据微分中值定理，对任何$x,y \\in [a,b]$都有 \n",
    " \\begin{equation*}\n",
    "     |\\varphi(x) - \\varphi(y)| = |\\varphi^{\\prime}(\\xi) (x-y)| \\leq L(x-y),\n",
    " \\end{equation*}\n",
    " 其中$\\xi$在$x$与$y$之间，从而[条件2](#item:theorem1_condition2)成立。"
   ]
  },
  {
   "cell_type": "markdown",
   "id": "377cabdb",
   "metadata": {},
   "source": [
    "**!TIPS** 2： 以上两个结论中的收敛性与初始值的选取无关!只要初始值在区间$(a,b)$内，我们都能通过迭代达到最终的准确值$x^*$，这种收敛性我们称之为全局收敛。"
   ]
  },
  {
   "cell_type": "markdown",
   "id": "c584882a",
   "metadata": {},
   "source": [
    "**!TIPS** 3： 根据上述定理的[结论3](#item:theorem1_result3)：\n",
    " \\begin{equation*}\n",
    "     |x_k - x^*| \\leq \\frac{L}{1-L}|x_k - x_{k-1}|. \n",
    " \\end{equation*}\n",
    "只要相邻两次计算结果的偏差$|x_{k} - x_{k-1}|$足够小，且$L$不很接近于$1$，即可以保证近似值$x_k$具有足够的精度。因此，可以通过检查$|x_{k} - x_{k-1}|$的大小来判断迭代过程是否终止。"
   ]
  },
  {
   "cell_type": "markdown",
   "id": "92ce081e",
   "metadata": {},
   "source": [
    "**!TIPS** 4： 同样根据上述定理的[结论3](#item:theorem1_result3)，我们可以得到\n",
    " \\begin{equation*}\n",
    "     |x_k - x^*| \\leq \\frac{L}{1-L}|x_k - x_{k-1}| \\leq \\cdots \\leq \\frac{L^k}{1-L}|x_1 - x_{0}|.\n",
    " \\end{equation*}\n",
    "如果能恰当计算出$L$的值，我们可以由上式对给定的计算精度要求确定出所需要迭代的次数。"
   ]
  },
  {
   "cell_type": "markdown",
   "id": "46cf8e57",
   "metadata": {},
   "source": [
    "#### 收敛性判断示例"
   ]
  },
  {
   "cell_type": "markdown",
   "id": "2a8a4c0e",
   "metadata": {},
   "source": [
    "**!例**： 对于方程$f(x) = x^3 - x - 1 = 0$在区间$[1,2]$列出两种迭代格式，并分别分析其收敛性。"
   ]
  },
  {
   "cell_type": "markdown",
   "id": "0a2fc7bf",
   "metadata": {},
   "source": [
    "**!解**： \n",
    "\n",
    "第一种迭代格式为$\\varphi_1(x) = \\sqrt[3]{x+1}$，即\n",
    "\\begin{equation*}\n",
    "    x_{k+1} = \\sqrt[3]{x_k+1}.\n",
    "\\end{equation*}\n",
    "而其导数为$\\varphi_1^\\prime(x) = \\frac{1}{3}(x+1)^{-2/3}$。从而，我们容易验证，对任意的$x \\in [1,2]$有\n",
    "\\begin{equation*}\n",
    "    \\varphi_1(x) \\in [1.26, 1.45] \\subset [1,2],\\quad \\varphi_1^\\prime(x) \\leq 0.21 < 1.\n",
    "\\end{equation*}\n",
    "因此，对于任何初值$x_0 \\in [1,2]$，由$\\varphi_1(x) $给出的迭代格式都收敛到区间$[1,2]$上的唯一不动点$x^*$。\n",
    "\n",
    "第二种迭代格式为$\\varphi_2(x) = x^3 + 1 $，即\n",
    "\\begin{equation*}\n",
    "    x_{k+1} = x_k^3 + 1 .\n",
    "\\end{equation*}\n",
    "而其导数为$\\varphi_2^\\prime(x) = 3 x^2$。显然，对于$x \\in [1,2]$有\n",
    "\\begin{equation*}\n",
    "    \\varphi_2(x) \\in [0,7],\\quad \\varphi_2^\\prime(x) \\in [3, 12],\n",
    "\\end{equation*}\n",
    "不满足定理的[条件1](#item:theorem1_condition1)。再结合几何图形可以说明，只要初值$x_0 \\neq x^*$，该迭代法发散。\n"
   ]
  },
  {
   "cell_type": "markdown",
   "id": "8d61b914",
   "metadata": {},
   "source": [
    "**!TIPS**： 有时，对于一些不满足上述定理条件的问题，可以通过转化，变成满足定理的迭代格式。这需要针对具体情况进行讨论。"
   ]
  },
  {
   "cell_type": "markdown",
   "id": "749c6812",
   "metadata": {},
   "source": [
    "#### 局部收敛性判断"
   ]
  },
  {
   "cell_type": "markdown",
   "id": "e65fb667",
   "metadata": {},
   "source": [
    "前述定理讨论的是不动点迭代法的全局收敛性。但是一般而言，全局收敛性的基本条件不易检验，不容易得到满足，所以我们经常需要讨论在$x^*$附近的收敛性问题。为此，我们给出如下定义：\n",
    "\n",
    "**!<font color='magenta'>定义</font>**： 设$x^*$是$\\varphi(x)$的不动点，若存在$x^*$的某个$\\delta$-邻域$N_\\delta(x^*) = [x^* - \\delta, x^* + \\delta]$，$\\delta > 0$，使得对于任何初值$x_0 \\in N_\\delta(x^*)$，由迭代格式\n",
    " \\begin{equation*}\n",
    "     x_{k+1} = \\varphi(x_k)\n",
    " \\end{equation*}\n",
    "生成的序列$\\{ x_k \\}_{k=1}^\\infty$满足：$x_k \\in N_\\delta(x^*)$，且收敛到$x^*$，则称该迭代格式是<font color='magenta'>局部收敛的</font>。"
   ]
  },
  {
   "cell_type": "markdown",
   "id": "8d9571d4",
   "metadata": {},
   "source": [
    "**!定理**： 设$x^*$是$\\varphi(x)$的一个不动点，$\\varphi^\\prime(x)$在$x^*$的某个邻域上连续，并且有$|\\varphi^\\prime(x^*)|<1$，则迭代格式$x_{k+1} = \\varphi(x_k)$是局部收敛的。"
   ]
  },
  {
   "cell_type": "markdown",
   "id": "f176b5b9",
   "metadata": {},
   "source": [
    "**证明**\n",
    "由于$\\varphi^\\prime(x)$在$x^*$处连续，且$|\\varphi^\\prime(x^*)|<1$，所以存在$x^*$的某一个闭邻域$[x^* - \\delta, x^* + \\delta]$，在其上有$|\\varphi^\\prime(x^*)| \\leq L < 1$，并且有\n",
    "         \\begin{equation*}\n",
    "             |\\varphi(x) - x^*| = |\\varphi(x) - \\varphi(x^*)| \\leq L |x - x^*| < \\delta\n",
    "         \\end{equation*}\n",
    "         即对一切$x \\in [x^* - \\delta, x^* + \\delta]$，有$\\varphi(x) \\in [x^* - \\delta, x^* + \\delta]$。则依据全局收敛定理，对任意$x_0 \\in [x^* - \\delta, x^* + \\delta]$，迭代格式$x_{k+1} = \\varphi(x_k)$收敛。"
   ]
  },
  {
   "cell_type": "markdown",
   "id": "01b8f367",
   "metadata": {},
   "source": [
    "**!<font color='magenta'>定义（收敛阶）</font>**： 设迭代序列$\\{x_k\\}$收敛到$\\varphi(x)$的不动点$x^*$，记误差$e_k = x_k - x^*$。若存在实数$p \\geq 1$和$C \\neq 0$，使得\n",
    " \\begin{equation*}\n",
    "     \\lim_{k \\to \\infty} \\frac{e_{k+1}}{e_k^p} = C\n",
    " \\end{equation*}\n",
    " 则称该迭代序列$\\{x_k\\}$是$p$阶收敛的。\n",
    " \n",
    " - 当$ p =1 $且$ 0< C < 1$时称为<font color='magenta'>线性收敛</font>\n",
    " - 当$ p =2 $时称为<font color='magenta'>二次收敛</font>，或<font color='magenta'>平方收敛</font>\n",
    " - 当$ p >1 $或$ p=1$且$ C=0 $时称为<font color='magenta'>超线性收敛</font>\n",
    "\n",
    "若$0 < |\\varphi^\\prime(x^*)| < 1$，则不动点迭代$x_{k+1} = \\varphi(x_k)$<font color='magenta'>局部线性收敛</font>。"
   ]
  },
  {
   "cell_type": "markdown",
   "id": "a48ad605",
   "metadata": {},
   "source": [
    "**!定理**： 设$x^*$是$\\varphi(x)$的不动点，若有正整数$p \\geq 2$，使得$\\varphi^{(p)}(x)$在$x^*$的邻域上连续，并且满足\n",
    "\\begin{equation*}\n",
    " \\begin{aligned}\n",
    "     \\varphi^{\\prime}(x^*) &= \\varphi^{\\prime\\prime}(x^*) = \\cdots = \\varphi^{(p-1)}(x^*) = 0, \\\\\n",
    "     \\varphi^{(p)}(x^*) & \\neq 0,\n",
    " \\end{aligned}\n",
    "\\end{equation*}\n",
    "则称该迭代序列$\\{x_k\\}$是$p$阶局部收敛的，且有\n",
    " \\begin{equation*}\n",
    "     \\lim_{k \\to \\infty}\\frac{x_{k+1} - x^*}{(x_k - x^*)^p} = \\frac{\\varphi^{(p)}(x^*)}{p!}\n",
    " \\end{equation*}"
   ]
  },
  {
   "cell_type": "markdown",
   "id": "0f72e39b",
   "metadata": {},
   "source": [
    "**证明**\n",
    "因为$\\varphi^\\prime(x^*) = 0$，根据局部收敛定理，该迭代格式是局部收敛的。\n",
    "         取充分接近于$x^*$的$x_0$，设$x_0 \\neq x^*$，则有$x_k \\neq x^*,\\ k=1,2,\\cdots$.根据$Taylor$展开式，有 \n",
    "         \\begin{equation*}\n",
    "             \\begin{aligned}\n",
    "                 x_{k+1} &= \\varphi(x_k) \\\\\n",
    "                         &= \\varphi(x^*) + \\varphi^{\\prime}(x^*) (x_k - x^*) + \\cdots \\\\\n",
    "                         &+ \\frac{\\varphi^{(p-1)}(x^*)}{(p-1)!}(x_k - x^*)^{p-1} + \\frac{\\varphi^{(p)}(\\xi_k)}{p!}(x_k - x^*)^{p}\n",
    "             \\end{aligned}\n",
    "         \\end{equation*}\n",
    "         其中$\\xi_k$在$x_k$与$x^*$之间。从而根据题设条件有\n",
    "         \\begin{equation*}\n",
    "             x_{k+1} - x^* = \\frac{\\varphi^{(p)}(\\xi_k)}{p!}(x_k - x^*)^{p}\n",
    "         \\end{equation*}\n",
    "         再由$\\varphi^{(p)}(x)$的连续性，当$k \\to \\infty$时，原定理得证。"
   ]
  },
  {
   "cell_type": "markdown",
   "id": "73631555",
   "metadata": {},
   "source": [
    "**!例**： 分析方程$f(x) = x^2 - 3 = 0$的不同迭代格式在求正根$x^* = \\sqrt{3}$时的收敛性。"
   ]
  },
  {
   "cell_type": "markdown",
   "id": "cc4af200",
   "metadata": {},
   "source": [
    "**解** \n",
    "- 第一种格式，取$\\varphi(x) = x^2 - 3 + x$，则有$\\varphi^{\\prime}(x^*) = 2 \\sqrt{3} + 1 > 1$，无法判断其局部收敛性。\n",
    "- 第二种格式，取$\\varphi(x) = x - \\frac{x^2 - 3}{4}$，则有$\\varphi^{\\prime}(x^*) = 1 - \\frac{\\sqrt{3}}{2} < 1$，迭代格式是一阶局部收敛的。  \n",
    "- 第三种格式，取$\\varphi(x) = \\frac{1}{2} \\left( x + \\frac{3}{x} \\right)$，则有$\\varphi^{\\prime}(x^*) = 0,\\ \\varphi^{\\prime\\prime}(x^*) = \\frac{2}{\\sqrt{3}} \\neq 0 $，迭代格式是二阶局部收敛的。 \n"
   ]
  },
  {
   "cell_type": "markdown",
   "id": "5c658e31",
   "metadata": {},
   "source": [
    "**!TIPS**： 一般而言，$|\\varphi^{\\prime}(x^*)|$越小，迭代格式$x_{k+1} = \\varphi(x_k)$的收敛速度越快。"
   ]
  },
  {
   "cell_type": "markdown",
   "id": "f3419f71",
   "metadata": {},
   "source": [
    "### 不动点迭代法的Python实现"
   ]
  },
  {
   "cell_type": "code",
   "execution_count": 2,
   "id": "12cd0fa9",
   "metadata": {},
   "outputs": [
    {
     "name": "stdout",
     "output_type": "stream",
     "text": [
      "iters = 0, x0 =  1.50000000, f(x0) =  1.48168907\n",
      "iters = 1, x1 =  1.48168907, f(x1) =  1.40037195\n",
      "iters = 2, x2 =  1.40037195, f(x2) =  1.05670856\n",
      "iters = 3, x3 =  1.05670856, f(x3) = -0.12311371\n",
      "iters = 4, x4 = -0.12311371, f(x4) = -2.11583688\n",
      "iters = 5, x5 = -2.11583688, f(x5) = -2.87946762\n",
      "iters = 6, x6 = -2.87946762, f(x6) = -2.94383534\n",
      "iters = 7, x7 = -2.94383534, f(x7) = -2.94733664\n",
      "iters = 8, x8 = -2.94733664, f(x8) = -2.94752071\n",
      "ROOT: -2.9475207088355244 obtained at ITERATION: 9\n"
     ]
    },
    {
     "data": {
      "text/plain": [
       "-2.9475207088355244"
      ]
     },
     "execution_count": 2,
     "metadata": {},
     "output_type": "execute_result"
    }
   ],
   "source": [
    "import numpy as np\n",
    "\n",
    "def fixedPointIteration(func, x0, tol=1e-3, maxiter=10):\n",
    "    iters = 0\n",
    "    xprev = x0\n",
    "    xnext = func(xprev)\n",
    "    print(f\"iters = {iters}, x{iters} = {xprev: 0.8f}, f(x{iters}) = {xnext: 0.8f}\")\n",
    "    for i in range(0, maxiter):\n",
    "        if np.abs(xnext - xprev) < tol:\n",
    "            print(f'ROOT: {xnext} obtained at ITERATION: {iters+1}')\n",
    "            return xnext\n",
    "        iters = iters + 1\n",
    "        xprev = xnext\n",
    "        xnext = func(xprev)\n",
    "        print(f\"iters = {iters}, x{iters} = {xprev: 0.8f}, f(x{iters}) = {xnext: 0.8f}\")\n",
    "    \n",
    "    if iters == maxiter and np.abs(xnext - xprev) > tol:\n",
    "        print(\"Maximum iterations reached without root!\")\n",
    "    else:\n",
    "        print(f'ROOT: {xnext} obtained at ITERATION: {iters+1}')\n",
    "    \n",
    "    return xnext\n",
    "\n",
    "ff = lambda x: np.exp(x) - 3\n",
    "fixedPointIteration(ff, 1.5)"
   ]
  },
  {
   "cell_type": "markdown",
   "id": "5a41cb84",
   "metadata": {},
   "source": [
    "例：\n",
    "\\begin{equation}\n",
    "    f(x) = \\frac{1}{2} ( \\sin(x) + \\cos(x) ) - x,\\quad g(x) = \\frac{1}{2} ( \\sin(x) + \\cos(x) )\n",
    "\\end{equation}"
   ]
  },
  {
   "cell_type": "code",
   "execution_count": 88,
   "id": "481f6a7a",
   "metadata": {
    "scrolled": true
   },
   "outputs": [
    {
     "name": "stdout",
     "output_type": "stream",
     "text": [
      "iters = 0, x0 = -0.30000000, f(x0) =  0.32990814\n",
      "iters = 1, x1 =  0.32990814, f(x1) =  0.63501412\n",
      "iters = 2, x2 =  0.63501412, f(x2) =  0.69912610\n",
      "iters = 3, x3 =  0.69912610, f(x3) =  0.70447696\n",
      "iters = 4, x4 =  0.70447696, f(x4) =  0.70479289\n",
      "ROOT: 0.7047928914757919 obtained at ITERATION: 5\n"
     ]
    },
    {
     "data": {
      "text/plain": [
       "0.7047928914757919"
      ]
     },
     "execution_count": 88,
     "metadata": {},
     "output_type": "execute_result"
    }
   ],
   "source": [
    "f = lambda x: (np.sin(x) + np.cos(x))/2\n",
    "fixedPointIteration(f, -0.3, tol = 1e-3)"
   ]
  },
  {
   "cell_type": "markdown",
   "id": "7cd7393e",
   "metadata": {},
   "source": [
    "例：\n",
    "\\begin{equation}\n",
    "    f(x) = \\frac{1}{\\tan(x)} - \\frac{1}{x},\\quad g(x) = \\frac{1}{\\tan(x)} - \\frac{1}{x} + x\n",
    "\\end{equation}"
   ]
  },
  {
   "cell_type": "code",
   "execution_count": 90,
   "id": "410fef64",
   "metadata": {},
   "outputs": [
    {
     "name": "stdout",
     "output_type": "stream",
     "text": [
      "iters = 0, x0 =  4.00000000, f(x0) =  4.61369115\n",
      "iters = 1, x1 =  4.61369115, f(x1) =  4.49596452\n",
      "iters = 2, x2 =  4.49596452, f(x2) =  4.49341090\n",
      "iters = 3, x3 =  4.49341090, f(x3) =  4.49340946\n",
      "ROOT: 4.49340945790953 obtained at ITERATION: 4\n",
      "4.49340945790953\n"
     ]
    },
    {
     "data": {
      "image/png": "[encoded data removed]",
      "text/plain": [
       "<Figure size 432x432 with 1 Axes>"
      ]
     },
     "metadata": {
      "needs_background": "light"
     },
     "output_type": "display_data"
    }
   ],
   "source": [
    "import numpy as np\n",
    "import matplotlib.pyplot as plt\n",
    "\n",
    "gg = lambda x: (1/np.tan(x)) - (1/x) + x\n",
    "xsol = fixedPointIteration(gg, x0=4.0, tol=1e-3, maxiter=20)\n",
    "print(xsol)\n",
    "\n",
    "x = np.linspace(4,5,300)\n",
    "plt.figure(figsize=(6,6))\n",
    "plt.plot(x,x,'r--')\n",
    "plt.plot(x,gg(x),'b-')\n",
    "plt.plot(xsol,gg(xsol),'ko', markersize=20)\n",
    "plt.grid(True)\n",
    "plt.show()"
   ]
  },
  {
   "cell_type": "markdown",
   "id": "80239923",
   "metadata": {},
   "source": [
    "例：\n",
    "\\begin{equation}\n",
    "    f(x) = \\sin(\\sqrt{x}) - x,\\quad g(x) = \\sin(\\sqrt{x})\n",
    "\\end{equation}"
   ]
  },
  {
   "cell_type": "code",
   "execution_count": 100,
   "id": "685f1183",
   "metadata": {},
   "outputs": [
    {
     "name": "stdout",
     "output_type": "stream",
     "text": [
      "iters = 0, x0 =  4.00000000, f(x0) =  0.90929743\n",
      "iters = 1, x1 =  0.90929743, f(x1) =  0.81548744\n",
      "iters = 2, x2 =  0.81548744, f(x2) =  0.78521511\n",
      "iters = 3, x3 =  0.78521511, f(x3) =  0.77462609\n",
      "iters = 4, x4 =  0.77462609, f(x4) =  0.77082071\n",
      "iters = 5, x5 =  0.77082071, f(x5) =  0.76944002\n",
      "iters = 6, x6 =  0.76944002, f(x6) =  0.76893732\n",
      "ROOT: 0.7689373246910672 obtained at ITERATION: 7\n",
      "0.7689373246910672\n"
     ]
    },
    {
     "data": {
      "image/png": "[encoded data removed]",
      "text/plain": [
       "<Figure size 432x432 with 1 Axes>"
      ]
     },
     "metadata": {
      "needs_background": "light"
     },
     "output_type": "display_data"
    }
   ],
   "source": [
    "import numpy as np\n",
    "import matplotlib.pyplot as plt\n",
    "\n",
    "gg = lambda x: np.sin(np.sqrt(x))\n",
    "xsol = fixedPointIteration(gg, x0=4.0, tol=1e-3, maxiter=20)\n",
    "print(xsol)\n",
    "\n",
    "x = np.linspace(0,2,1000)\n",
    "plt.figure(figsize=(6,6))\n",
    "plt.plot(x,x,'r--', label=r'$y=x$')\n",
    "plt.plot(x,gg(x),'b-', label=r'$y=\\sin(\\sqrt{x})$')\n",
    "plt.plot(xsol,gg(xsol),'ko', markersize=12, label=r'Root of $x=\\sin(\\sqrt{x})$')\n",
    "plt.grid(True)\n",
    "plt.legend()\n",
    "plt.show()\n"
   ]
  },
  {
   "cell_type": "markdown",
   "id": "019da1c1",
   "metadata": {},
   "source": [
    "例：\n",
    "\\begin{equation}\n",
    "    f(x) = \\arcsin(x) - x^2,\\quad g(x) = \\sin(x^2)\n",
    "\\end{equation}"
   ]
  },
  {
   "cell_type": "code",
   "execution_count": 103,
   "id": "5391329f",
   "metadata": {},
   "outputs": [
    {
     "name": "stdout",
     "output_type": "stream",
     "text": [
      "iters = 0, x0 =  4.00000000, f(x0) = -0.28790332\n",
      "iters = 1, x1 = -0.28790332, f(x1) =  0.08279344\n",
      "iters = 2, x2 =  0.08279344, f(x2) =  0.00685470\n",
      "iters = 3, x3 =  0.00685470, f(x3) =  0.00004699\n",
      "iters = 4, x4 =  0.00004699, f(x4) =  0.00000000\n",
      "ROOT: 2.2077696573148454e-09 obtained at ITERATION: 5\n",
      "2.2077696573148454e-09\n"
     ]
    },
    {
     "data": {
      "image/png": "[encoded data removed]",
      "text/plain": [
       "<Figure size 432x432 with 1 Axes>"
      ]
     },
     "metadata": {
      "needs_background": "light"
     },
     "output_type": "display_data"
    }
   ],
   "source": [
    "import numpy as np\n",
    "import matplotlib.pyplot as plt\n",
    "\n",
    "gg = lambda x: np.sin(x**2.0)\n",
    "xsol = fixedPointIteration(gg, x0=4.0, tol=1e-3, maxiter=20)\n",
    "print(xsol)\n",
    "\n",
    "x = np.linspace(-2,2,1000)\n",
    "plt.figure(figsize=(6,6))\n",
    "plt.plot(x,x,'r--', label=r'$y=x$')\n",
    "plt.plot(x,gg(x),'b-', label=r'$y=\\sin(x^2)$')\n",
    "plt.plot(xsol,gg(xsol),'ko', markersize=12, label=r'Root of $x=\\sin(x^2)$')\n",
    "plt.grid(True)\n",
    "plt.legend()\n",
    "plt.show()\n"
   ]
  },
  {
   "cell_type": "markdown",
   "id": "ede3c8b3",
   "metadata": {},
   "source": [
    "例：\n",
    "\\begin{equation}\n",
    "    f(x) = \\sin(x) - x^3,\\quad g(x) = \\arcsin(x^3)\n",
    "\\end{equation}"
   ]
  },
  {
   "cell_type": "code",
   "execution_count": 118,
   "id": "49fdba8a",
   "metadata": {
    "scrolled": false
   },
   "outputs": [
    {
     "name": "stdout",
     "output_type": "stream",
     "text": [
      "iters = 0, x0 =  0.10000000, f(x0) =  0.00100000\n",
      "iters = 1, x1 =  0.00100000, f(x1) =  0.00000000\n",
      "ROOT: 1.000000500000309e-09 obtained at ITERATION: 2\n",
      "1.000000500000309e-09\n",
      "iters = 0, x0 =  0.75000000, f(x0) =  0.43551237\n",
      "iters = 1, x1 =  0.43551237, f(x1) =  0.08269831\n",
      "iters = 2, x2 =  0.08269831, f(x2) =  0.00056557\n",
      "iters = 3, x3 =  0.00056557, f(x3) =  0.00000000\n",
      "ROOT: 1.809129660057757e-10 obtained at ITERATION: 4\n",
      "1.809129660057757e-10\n"
     ]
    },
    {
     "data": {
      "image/png": "[encoded data removed]",
      "text/plain": [
       "<Figure size 432x432 with 1 Axes>"
      ]
     },
     "metadata": {
      "needs_background": "light"
     },
     "output_type": "display_data"
    }
   ],
   "source": [
    "import numpy as np\n",
    "import matplotlib.pyplot as plt\n",
    "\n",
    "gg = lambda x: np.arcsin(x**3.0)\n",
    "xsol1 = fixedPointIteration(gg, x0=0.1, tol=1e-3, maxiter=20)\n",
    "print(xsol1)\n",
    "xsol2 = fixedPointIteration(gg, x0=0.75, tol=1e-3, maxiter=20)\n",
    "print(xsol2)\n",
    "\n",
    "x = np.linspace(-1,1,1000)\n",
    "plt.figure(figsize=(6,6))\n",
    "plt.plot(x,x,'r--', label=r'$y=x$')\n",
    "plt.plot(x,gg(x),'b-', label=r'$y=\\arcsin(x^3)$')\n",
    "plt.plot(xsol1,gg(xsol1),'ko', markersize=12, label=r'Root 1 of $x=\\arcsin(x^3)$')\n",
    "plt.grid(True)\n",
    "plt.legend()\n",
    "plt.show()\n"
   ]
  },
  {
   "cell_type": "markdown",
   "id": "a631f99f",
   "metadata": {},
   "source": [
    "例：\n",
    "\\begin{equation}\n",
    "    f(x) = e^{-x} - 3 \\ln(x),\\quad g(x) = e^{-x} - 3 \\ln(x) + x\n",
    "\\end{equation}"
   ]
  },
  {
   "cell_type": "code",
   "execution_count": 126,
   "id": "a7785456",
   "metadata": {},
   "outputs": [
    {
     "name": "stdout",
     "output_type": "stream",
     "text": [
      "iters = 0, x0 =  1.10000000, f(x0) =  1.14694054\n",
      "iters = 1, x1 =  1.14694054, f(x1) =  1.05325353\n",
      "iters = 2, x2 =  1.05325353, f(x2) =  1.24640268\n",
      "iters = 3, x3 =  1.24640268, f(x3) =  0.87315535\n",
      "iters = 4, x4 =  0.87315535, f(x4) =  1.69771241\n",
      "iters = 5, x5 =  1.69771241, f(x5) =  0.29296921\n",
      "iters = 6, x6 =  0.29296921, f(x6) =  4.72207762\n",
      "iters = 7, x7 =  4.72207762, f(x7) =  0.07422767\n",
      "iters = 8, x8 =  0.07422767, f(x8) =  8.80454297\n",
      "iters = 9, x9 =  8.80454297, f(x9) =  2.27888952\n",
      "iters = 10, x10 =  2.27888952, f(x10) = -0.08977744\n",
      "iters = 11, x11 = -0.08977744, f(x11) =  nan\n",
      "iters = 12, x12 =  nan, f(x12) =  nan\n",
      "iters = 13, x13 =  nan, f(x13) =  nan\n",
      "iters = 14, x14 =  nan, f(x14) =  nan\n",
      "iters = 15, x15 =  nan, f(x15) =  nan\n",
      "iters = 16, x16 =  nan, f(x16) =  nan\n",
      "iters = 17, x17 =  nan, f(x17) =  nan\n",
      "iters = 18, x18 =  nan, f(x18) =  nan\n",
      "iters = 19, x19 =  nan, f(x19) =  nan\n",
      "iters = 20, x20 =  nan, f(x20) =  nan\n",
      "ROOT: nan obtained at ITERATION: 21\n",
      "nan\n"
     ]
    },
    {
     "name": "stderr",
     "output_type": "stream",
     "text": [
      "/var/folders/vx/qqb0fxy10w7gw7s5kqcyx5cw0000gn/T/ipykernel_60929/862308035.py:4: RuntimeWarning: invalid value encountered in log\n",
      "  gg = lambda x: -3*np.log(x) + np.exp(-x) + x\n"
     ]
    },
    {
     "data": {
      "image/png": "[encoded data removed]",
      "text/plain": [
       "<Figure size 432x432 with 1 Axes>"
      ]
     },
     "metadata": {
      "needs_background": "light"
     },
     "output_type": "display_data"
    }
   ],
   "source": [
    "import numpy as np\n",
    "import matplotlib.pyplot as plt\n",
    "\n",
    "gg = lambda x: -3*np.log(x) + np.exp(-x) + x\n",
    "xsol1 = fixedPointIteration(gg, x0=1.1, tol=1e-3, maxiter=20)\n",
    "print(xsol1)\n",
    "\n",
    "x = np.linspace(1,2,1000)\n",
    "plt.figure(figsize=(6,6))\n",
    "plt.plot(x,x,'r--', label=r'$y=x$')\n",
    "plt.plot(x,gg(x),'b-', label=r'$y=-3\\ln(x) + e^{-x} + x$')\n",
    "plt.plot(xsol1,gg(xsol1),'ko', markersize=12, label=r'Root 1 of $x=-3\\ln(x) + e^{-x} + x$')\n",
    "plt.grid(True)\n",
    "plt.legend()\n",
    "plt.show()"
   ]
  },
  {
   "cell_type": "markdown",
   "id": "ba087884",
   "metadata": {},
   "source": [
    "例：\n",
    "\\begin{equation}\n",
    "    f(x) = e^{-x} - 3 \\ln(x),\\quad g(x) = e^{e^{-x}/3}\n",
    "\\end{equation}\n",
    " "
   ]
  },
  {
   "cell_type": "code",
   "execution_count": 134,
   "id": "fc130bdd",
   "metadata": {},
   "outputs": [
    {
     "name": "stdout",
     "output_type": "stream",
     "text": [
      "iters = 0, x0 =  1.50000000, f(x0) =  1.07721254\n",
      "iters = 1, x1 =  1.07721254, f(x1) =  1.12020812\n",
      "iters = 2, x2 =  1.12020812, f(x2) =  1.11486943\n",
      "iters = 3, x3 =  1.11486943, f(x3) =  1.11551855\n",
      "ROOT: 1.115518551413356 obtained at ITERATION: 4\n",
      "1.115518551413356\n"
     ]
    },
    {
     "data": {
      "image/png": "[encoded data removed]",
      "text/plain": [
       "<Figure size 432x432 with 1 Axes>"
      ]
     },
     "metadata": {
      "needs_background": "light"
     },
     "output_type": "display_data"
    }
   ],
   "source": [
    "import numpy as np\n",
    "import matplotlib.pyplot as plt\n",
    "\n",
    "gg = lambda x: np.exp(np.exp(-x)/3)\n",
    "xsol1 = fixedPointIteration(gg, x0=1.5, tol=1e-3, maxiter=20)\n",
    "print(xsol1)\n",
    "\n",
    "x = np.linspace(1,2,1000)\n",
    "plt.figure(figsize=(6,6))\n",
    "plt.plot(x,x,'r--', label=r'$y=x$')\n",
    "plt.plot(x,gg(x),'b-', label=r'$y=e^{e^{-x}/3}$')\n",
    "plt.plot(xsol1,gg(xsol1),'ko', markersize=12, label=r'Root 1 of $x= e^{e^{-x}/3}$')\n",
    "plt.grid(True)\n",
    "plt.legend()\n",
    "plt.show()"
   ]
  },
  {
   "cell_type": "markdown",
   "id": "e6607233",
   "metadata": {},
   "source": [
    "## 牛顿法（Newton Method or Newton-Raphson Method）"
   ]
  },
  {
   "cell_type": "markdown",
   "id": "1dab0dfa",
   "metadata": {},
   "source": [
    "### Newton法的基本原理"
   ]
  },
  {
   "cell_type": "markdown",
   "id": "8c51a910",
   "metadata": {},
   "source": [
    "- $Newton$法的基本思想是将非线性方程线性化。\n",
    "\n",
    "设$x_k$是$f(x)=0$的近似根，将$f(x)$在$x_k$处$Taylor$展开\n",
    " \\begin{equation*}\n",
    "     \\begin{aligned}\n",
    "         f(x) &= f(x_k) + f^\\prime(x_k)(x-x_k) + \\frac{f^{\\prime\\prime}(\\xi) }{2!}(x-x_k)^2 + h.o.t \\\\\n",
    "              &\\approx f(x_k) + f^\\prime(x_k)(x-x_k) \\triangleq P(x).\n",
    "     \\end{aligned}\n",
    " \\end{equation*}\n",
    " 令$P(x) = 0$，当$\\boxed{f^\\prime(x) \\neq 0}$时，我们可以得到\n",
    " \\begin{equation*}\n",
    "     x_{k+1} = x_k - \\frac{f(x_k)}{f^\\prime(x_k)}\n",
    " \\end{equation*}"
   ]
  },
  {
   "cell_type": "markdown",
   "id": "1edeea25",
   "metadata": {},
   "source": [
    "-  $Newton$法的几何意义如下：\n",
    "\n",
    "$x_{k+1}$为函数$f(x)$在点$x_k$处的切线与横坐标轴的交点。因此$Newton$迭代法也称为切线法。\n",
    "\n",
    "![newton_iteration_show.jpg](./images/newton_iteration_show.jpg)"
   ]
  },
  {
   "cell_type": "markdown",
   "id": "fb4a25da",
   "metadata": {},
   "source": [
    "- $Newton$法的基本算法流程：\n",
    "\n",
    "1. 任取迭代初始值$x_0$\n",
    "1. 计算$x_1 = x_0 - \\frac{f(x_0)}{f^\\prime(x_0)}$ \n",
    "1. 判断收敛性：如果$|x_1 - x_0| < \\epsilon$或者$|f(x_1)| < \\epsilon$，则算法收敛，停止计算，输出近似解$x_1$\n",
    "1. 令$x_0 \\leftarrow x_1$，返回第二步"
   ]
  },
  {
   "cell_type": "markdown",
   "id": "67e4314d",
   "metadata": {},
   "source": [
    "### Newton法的收敛性"
   ]
  },
  {
   "cell_type": "markdown",
   "id": "7ada4d4e",
   "metadata": {},
   "source": [
    "**!定理**： 设$f(x^*) = 0$，$f^\\prime(x^*) \\neq 0$，且$f(x)$在包含$x^*$的某个区间上二阶连续可微，则$Newton$迭代法至少二阶收敛，且\n",
    "\\begin{equation*}\n",
    "    \\lim_{k \\to \\infty} \\frac{x_{k+1} - x^*}{(x_k - x^*)^2} = \\frac{f^{\\prime\\prime}(x^*)}{2 f^\\prime(x^*)}\n",
    "\\end{equation*}"
   ]
  },
  {
   "cell_type": "markdown",
   "id": "e02ec437",
   "metadata": {},
   "source": [
    "**证明**\n",
    "将$Newton$迭代法改写成一般的不动点迭代法格式，有\n",
    "\\begin{equation*}\n",
    "    \\varphi(x) = x - \\frac{f(x)}{f^\\prime(x)},\\quad \\varphi^\\prime(x) = \\frac{f(x)f^{\\prime\\prime}(x)}{[f^\\prime(x)]^2}\n",
    "\\end{equation*}\n",
    "很明显，由于$\\varphi(x^*) = 0$，$\\varphi^\\prime(x^*) = 0$，$Newton$迭代法至少二阶收敛。此外\n",
    "\\begin{equation*}\n",
    "    \\lim_{k \\to \\infty} \\frac{x_{k+1} - x^*}{(x_k - x^*)^2} = \\lim_{k \\to \\infty} \\frac{f^{\\prime\\prime}(\\xi)}{2 f^\\prime(\\xi)} = \\frac{f^{\\prime\\prime}(x^*)}{2 f^\\prime(x^*)}\n",
    "\\end{equation*}"
   ]
  },
  {
   "cell_type": "markdown",
   "id": "65c3a32a",
   "metadata": {},
   "source": [
    "**!例**： 用$Newton$法求$f(x) = x^2 - C = 0$的正根。"
   ]
  },
  {
   "cell_type": "markdown",
   "id": "895f1968",
   "metadata": {},
   "source": [
    "**!解**： \n",
    "\n",
    "$f(x)$的$Newton$迭代格式为\n",
    "\\begin{equation*}\n",
    "    x_{k+1} = \\frac{1}{2}\\left( x_k + \\frac{C}{x_k} \\right)\n",
    "\\end{equation*}\n",
    "从而有\n",
    "\\begin{equation*}\n",
    "    \\frac{x_{k+1} - \\sqrt{C}}{x_{k+1} + \\sqrt{C}} = \\left( \\frac{x_{k} - \\sqrt{C}}{x_{k} + \\sqrt{C}} \\right)^2 = \\left( \\frac{x_{0} - \\sqrt{C}}{x_{0} + \\sqrt{C}} \\right)^{2^{k+1}} \\triangleq q^{2^{k+1}}\n",
    "\\end{equation*}\n",
    "\\begin{equation*}\n",
    "    x_{k} - \\sqrt{C} = 2 \\sqrt{C} \\frac{q^{2^k}}{1 - q^{2^k}} \n",
    "\\end{equation*}\n",
    "\n",
    "从而，对任意$x_0>0$，总有$|q|<1$，即牛顿法收敛。"
   ]
  },
  {
   "cell_type": "markdown",
   "id": "27f115e2",
   "metadata": {},
   "source": [
    "**!TIPS**： 牛顿迭代法的优点：至少二阶局部收敛，收敛速度较快，特别是当迭代点充分靠近精确解时。"
   ]
  },
  {
   "cell_type": "markdown",
   "id": "0723b3d3",
   "metadata": {},
   "source": [
    "**!TIPS**： <font color=\"magenta\">牛顿法是目前求解非线性方程 (组) 的主要方法</font>"
   ]
  },
  {
   "cell_type": "markdown",
   "id": "6851e1fe",
   "metadata": {},
   "source": [
    "**!TIPS**： 牛顿迭代法的缺点：\n",
    "- 对重根收敛速度较慢（线性收敛）\n",
    "- 对初值的选取很敏感，要求初值相当接近真解\n",
    "- 每一次迭代都需要计算导数！"
   ]
  },
  {
   "cell_type": "markdown",
   "id": "d0690bc0",
   "metadata": {},
   "source": [
    "**!TIPS**： <font color=\"magenta\">实际使用过程中，一般先用其它算法获取一个近似解，然后使用牛顿法</font>"
   ]
  },
  {
   "cell_type": "markdown",
   "id": "6b1dd0e0",
   "metadata": {},
   "source": [
    "### Newton法的示例"
   ]
  },
  {
   "cell_type": "markdown",
   "id": "615c7c5f",
   "metadata": {},
   "source": []
  },
  {
   "cell_type": "markdown",
   "id": "0c06628a",
   "metadata": {},
   "source": [
    "### Newton法的变种"
   ]
  },
  {
   "cell_type": "markdown",
   "id": "97b8c858",
   "metadata": {},
   "source": [
    "#### 简化的Newton法"
   ]
  },
  {
   "cell_type": "markdown",
   "id": "b6fbeba5",
   "metadata": {},
   "source": [
    "其基本思想是：用$f^\\prime(x_0)$替代所有的$f^\\prime(x_k)$\n",
    "\\begin{equation}\n",
    "    x_{k+1} = x_k - \\frac{f(x_k)}{f^\\prime(x_0)}\n",
    "\\end{equation}\n",
    "该迭代格式是线性收敛的：\n",
    "- 好处：只需要计算一次导数，即$f^\\prime(x_0)$\n",
    "- 缺点：只有线性收敛速度（假定方法是收敛的）"
   ]
  },
  {
   "cell_type": "markdown",
   "id": "3c8fa32c",
   "metadata": {},
   "source": [
    "#### Newton下山法"
   ]
  },
  {
   "cell_type": "markdown",
   "id": "50cd356d",
   "metadata": {},
   "source": [
    "其基本思想是：要求每一步迭代满足下降条件\n",
    "\\begin{equation*}\n",
    "    |f(x_{k+1})| < |f(x_{k})|\n",
    "\\end{equation*}\n",
    "从而保证全局收敛性。\n",
    "\n",
    "具体的做法是：在迭代格式中增加下山因子$\\lambda$\n",
    "\\begin{equation*}\n",
    "    x_{k+1} = x_k - \\lambda \\frac{f(x_k)}{f^\\prime(x_k)}\n",
    "\\end{equation*}\n",
    "\n",
    "其中下山因子的取法为\n",
    "\n",
    "从$\\lambda=1$开始，逐次减半，直到满足下降条件为止。"
   ]
  },
  {
   "cell_type": "markdown",
   "id": "eab83205",
   "metadata": {},
   "source": [
    "### Newton法的Python实现"
   ]
  },
  {
   "cell_type": "markdown",
   "id": "7494ef92",
   "metadata": {},
   "source": [
    "#### Python代码"
   ]
  },
  {
   "cell_type": "code",
   "execution_count": 6,
   "id": "e6152a95",
   "metadata": {},
   "outputs": [],
   "source": [
    "def newtonRaphson(f,Df,x0,epsilon,max_iter):\n",
    "    '''Approximate solution of f(x)=0 by Newton's method.\n",
    "\n",
    "    Parameters\n",
    "    ----------\n",
    "    f : function\n",
    "        Function for which we are searching for a solution f(x)=0.\n",
    "    Df : function\n",
    "        Derivative of f(x).\n",
    "    x0 : number\n",
    "        Initial guess for a solution f(x)=0.\n",
    "    epsilon : number\n",
    "        Stopping criteria is abs(f(x)) < epsilon.\n",
    "    max_iter : integer\n",
    "        Maximum number of iterations of Newton's method.\n",
    "\n",
    "    Returns\n",
    "    -------\n",
    "    xn : number\n",
    "        Implement Newton's method: compute the linear approximation\n",
    "        of f(x) at xn and find x intercept by the formula\n",
    "            x = xn - f(xn)/Df(xn)\n",
    "        Continue until abs(f(xn)) < epsilon and return xn.\n",
    "        If Df(xn) == 0, return None. If the number of iterations\n",
    "        exceeds max_iter, then return None.\n",
    "\n",
    "    Examples\n",
    "    --------\n",
    "    >>> f = lambda x: x**2 - x - 1\n",
    "    >>> Df = lambda x: 2*x - 1\n",
    "    >>> newton(f,Df,1,1e-8,10)\n",
    "    Found solution after 5 iterations.\n",
    "    1.618033988749989\n",
    "    '''\n",
    "    xn = x0\n",
    "    for n in range(0,max_iter):\n",
    "        fxn = f(xn)\n",
    "        if abs(fxn) < epsilon:\n",
    "            print('Found solution after',n,'iterations.')\n",
    "            return xn\n",
    "        Dfxn = Df(xn)\n",
    "        if Dfxn == 0:\n",
    "            print('Zero derivative. No solution found.')\n",
    "            return None\n",
    "        xn = xn - fxn/Dfxn\n",
    "    print('Exceeded maximum iterations. No solution found.')\n",
    "    return None"
   ]
  },
  {
   "cell_type": "markdown",
   "id": "88707f11",
   "metadata": {},
   "source": [
    "#### Python代码使用实例"
   ]
  },
  {
   "cell_type": "code",
   "execution_count": 137,
   "id": "54de80e9",
   "metadata": {
    "scrolled": true
   },
   "outputs": [
    {
     "name": "stdout",
     "output_type": "stream",
     "text": [
      "Found solution after 6 iterations.\n",
      "1.4655712318767877\n"
     ]
    }
   ],
   "source": [
    "p = lambda x: x**3 - x**2 - 1\n",
    "Dp = lambda x: 3*x**2 - 2*x\n",
    "approx = newtonRaphson(p,Dp,1,1e-10,10)\n",
    "print(approx)"
   ]
  },
  {
   "cell_type": "code",
   "execution_count": 138,
   "id": "d303cf52",
   "metadata": {},
   "outputs": [
    {
     "name": "stdout",
     "output_type": "stream",
     "text": [
      "Exceeded maximum iterations. No solution found.\n"
     ]
    }
   ],
   "source": [
    "f = lambda x: x**(1/3)\n",
    "Df = lambda x: (1/3)*x**(-2/3)\n",
    "approx = newtonRaphson(f,Df,0.1,1e-2,100)"
   ]
  },
  {
   "cell_type": "markdown",
   "id": "b9890853",
   "metadata": {},
   "source": [
    "#### Python代码使用训练题"
   ]
  },
  {
   "cell_type": "markdown",
   "id": "75b2fa92",
   "metadata": {},
   "source": [
    "Let $p(x) = x^3 - x - 1$. The only real root of $p(x)$ is called the <font color=\"magenta\">plastic number</font> and is given by\n",
    "\\begin{equation}\n",
    "    \\frac{\\sqrt[3]{108+12\\sqrt{69}} + \\sqrt[3]{108-12\\sqrt{69}}}{6}  \n",
    "\\end{equation}\n",
    "1. Choose $x_0 = 1$ and implement $2$ iterations of Newton's method to approximate the plastic number.\n",
    "1. Use the exact value above to compute the absolute error after $2$ iterations of Newton's method.\n",
    "1. Starting with the subinterval $[1,2]$, how many iterations of the bisection method is required to achieve the same accuracy?"
   ]
  },
  {
   "cell_type": "markdown",
   "id": "b7a49aa0",
   "metadata": {},
   "source": []
  },
  {
   "cell_type": "markdown",
   "id": "4d4f1245",
   "metadata": {},
   "source": [
    "## 迭代法的收敛速度及其加速 （Convergence and Acceleration)"
   ]
  },
  {
   "cell_type": "markdown",
   "id": "4f4cda36",
   "metadata": {},
   "source": [
    "### 迭代法的收敛加速"
   ]
  },
  {
   "cell_type": "markdown",
   "id": "4297a1d8",
   "metadata": {},
   "source": [
    "对于线性收敛的迭代法，常常收敛速度很慢，所以一般要在基本不动点迭代法的基础上考虑加速收敛的方法。\n",
    "\n",
    " 设$\\{ x_k \\}$线性收敛到$x^*$，则迭代误差$e_k = x_k - x^*$满足\n",
    " \\begin{equation*}\n",
    "     \\lim_{k \\to \\infty} \\frac{e_{k+1}}{e_k} = \\lim_{k \\to \\infty} \\frac{x_{k+1} - x^*}{x_k - x^*} = C \\neq 0\n",
    " \\end{equation*}\n",
    " 因此，当$k$充分大的时候，有\n",
    " \\begin{equation*}\n",
    "     \\frac{x_{k+1} - x^*}{x_k - x^*} \\approx \\frac{x_{k+2} - x^*}{x_{k+1} - x^*} \\approx C,\n",
    " \\end{equation*}\n",
    " 从式中解出$x^*$可得\n",
    " \\begin{equation*}\n",
    "     x^* \\approx x_{k} - \\frac{(x_{k+1} - x_{k})^2}{x_{k+2} - 2 x_{k+1} + x_k}\n",
    " \\end{equation*}"
   ]
  },
  {
   "cell_type": "markdown",
   "id": "9a77e5a3",
   "metadata": {},
   "source": [
    "由此，我们取新数列$\\{ \\hat{x}_k \\}_{k=0}^\\infty$定义如下：\n",
    " \\begin{equation*}\n",
    "     \\hat{x}_k \\equiv x_{k} - \\frac{(x_{k+1} - x_{k})^2}{x_{k+2} - 2 x_{k+1} + x_k}.\n",
    " \\end{equation*}\n",
    " 可证明该数列$\\{ \\hat{x}_k \\}_{k=0}^\\infty$的收敛速度要比$\\{ x_k \\}_{k=0}^\\infty$快，即 \n",
    " \\begin{equation*}\n",
    "     \\lim_{k \\to \\infty} \\frac{\\hat{x}_k - x^*}{x_k - x^*} = 0\n",
    " \\end{equation*}\n",
    "这种通过改变数列的定义方式来提高收敛速度的方法称为<font color=\"magenta\">$Aitken$加速法</font>，在改进线性收敛数列的收敛速度上经常采用。[Pomeranz, S. B. (2017). Aitken's $\\Delta^2$ method extended. Cogent Mathematics, 4(1), 1308622.]"
   ]
  },
  {
   "cell_type": "markdown",
   "id": "e2106a3f",
   "metadata": {},
   "source": [
    " 将$Aitken$加速法与不动点迭代法结合起来，我们就能够获得<font color=\"magenta\">$Steffensen$迭代法</font>：\n",
    " \\begin{equation*}\n",
    "     \\left\\{\\begin{aligned}\n",
    "         y_k     &= \\varphi(x_k) \\\\\n",
    "         z_k     &= \\varphi(y_k) \\\\\n",
    "         x_{k+1} &= x_k - \\frac{(y_k - x_k)^2}{z_k - 2 y_k + x_k}\n",
    "     \\end{aligned}\\right.\n",
    " \\end{equation*}\n",
    " 其对应的迭代函数$\\psi(x)$为\n",
    " \\begin{equation*}\n",
    "     \\boxed{x_{k+1} = \\psi(x_k),\\quad \\psi(x) = x - \\frac{(\\varphi(x) - x)^2}{\\varphi(\\varphi(x)) - 2 \\varphi(x) + x}}\n",
    " \\end{equation*}"
   ]
  },
  {
   "cell_type": "markdown",
   "id": "01621cd8",
   "metadata": {},
   "source": [
    "**!例**： 求方程$f(x) = x e^x - 1 = 0$的根。"
   ]
  },
  {
   "cell_type": "markdown",
   "id": "37e01b91",
   "metadata": {},
   "source": [
    "**解** \n",
    "若采用$Steffensen$迭代法，仍取初始值$x_0 = 0.5$，则\n",
    "\\begin{equation*}\n",
    "    \\begin{aligned}\n",
    "        y_k &= e^{-x_k},\\ z_k = e^{-y_k},\\\\\n",
    "        x_{k+1} &= x_k - \\frac{(y_k - x_k)^2}{z_k - 2 y_k + x_k}\n",
    "    \\end{aligned}\n",
    "\\end{equation*}\n",
    "计算结果列于下表\n",
    "\n",
    "| $k$ | $0$ | $1$ | $2$ | $3$ | $4$ |\n",
    "|-----|-----|-----|-----|-----|-----|\n",
    "| $x_k$ | $0.5$ |  $0.567623876$ | $0.567143314$ | $0.567143290$ | $0.567143290$ |\n",
    "\n",
    "比较而言，可以发现，$Steffensen$迭代法比原不动点迭代法收敛得快得多，仅迭代$4$次就达到了原方法$29$次的结果。"
   ]
  },
  {
   "cell_type": "markdown",
   "id": "08a02dcd",
   "metadata": {},
   "source": [
    "**!定理**： 设函数$\\varphi(x)$和$\\psi(x)$按之前的定义，即\n",
    " \\begin{equation*}\n",
    "     \\psi(x) = x - \\frac{(\\varphi(x) - x)^2}{\\varphi(\\varphi(x)) - 2 \\varphi(x) + x}\n",
    " \\end{equation*}\n",
    " 则我们可以对$Steffensen$迭代法获得如下结论：\n",
    "1. 若$x^*$是$\\varphi(x)$的不动点，$\\varphi(x)$在$x^*$处连续，且$\\varphi^\\prime(x^*) \\neq 1$，则$x^*$也是$\\psi(x)$的不动点；反之，若$x^*$是$\\psi(x)$的不动点，则$x^*$也是$\\varphi(x)$的不动点。\n",
    "1. 若$x^*$是$\\varphi(x)$的不动点，$\\varphi^{\\prime\\prime}(x)$在$x^*$处连续，且$\\varphi^\\prime(x^*) \\neq 1$，则$Steffensen$迭代法至少具有二阶局部收敛性。\n"
   ]
  },
  {
   "cell_type": "markdown",
   "id": "7b89e378",
   "metadata": {},
   "source": [
    "**证明**\n",
    "（1）若$x^* = \\varphi(x^*)$，则当$x= x^*$时，$\\psi$时没有定义的，其分子分母都为零。采用$L'Hospitale$法则，由于$\\varphi^\\prime(x^*) \\neq 1$，可以得到\n",
    "\n",
    "\\begin{equation*}\n",
    "    \\begin{aligned}\n",
    "        \\lim_{x\\to x^*}\\psi(x) &= \\lim_{x\\to x^*} \\frac{\\varphi(\\varphi(x)) + x \\varphi^\\prime(\\varphi(x)) \\varphi^\\prime(x) - 2 \\varphi(x) \\varphi^\\prime(x)}{\\varphi^\\prime(\\varphi(x))\\varphi^\\prime(x) - 2 \\varphi^\\prime(x) + 1} \\\\\n",
    "        &= \\frac{x^* \\left[ \\varphi^\\prime(x^*) - 1 \\right]^2}{ \\left[ \\varphi^\\prime(x^*) - 1 \\right]^2 } = x^*\n",
    "    \\end{aligned}\n",
    "\\end{equation*}\n",
    "\n",
    "从而$x^* = \\psi(x^*)$。反之，若$x^* = \\psi(x^*)$，则根据$\\psi(x)$的定义式得知$x^* = \\varphi(x^*)$。\n",
    "\n",
    "（2）由(1)可知，$x^*$是$\\psi(x)$的不动点，因此，根据前述的局部收敛阶定理，只需要证明$\\varphi^{\\prime}(x) = 0$。为此，我们对$\\psi(x)$的定义式进行求导，可得\n",
    "\\begin{equation*}\n",
    "    1 - \\psi^\\prime(x) = \\frac{p(x)}{q(x)},\n",
    "\\end{equation*}\n",
    "其中：\n",
    "\\begin{equation*}\n",
    "    \\begin{aligned}\n",
    "        p(x) &= 2 [\\varphi(x) - x][\\varphi^{\\prime}(x) - 1][\\varphi(\\varphi(x)) - 2 \\varphi(x) + x] \\\\\n",
    "             &- \\left[ \\varphi(x) - x \\right]^2 \\left[ \\varphi^{\\prime}(\\varphi(x)) \\varphi^{\\prime}(x) - 2 \\varphi^{\\prime}(x) + 1 \\right]\\\\\n",
    "        q(x) &= \\left[ \\varphi(\\varphi(x)) - 2 \\varphi(x) + x \\right]^2\n",
    "    \\end{aligned}\n",
    "\\end{equation*}\n",
    "\n",
    "容易算出\n",
    "\\begin{equation*}\n",
    "    p^{\\prime\\prime}(x^*) = q^{\\prime\\prime}(x^*) = 2 \\left[ \\varphi^{\\prime}(x^*) - 1 \\right]^4\n",
    "\\end{equation*}\n",
    "于是，由于$|\\varphi^{\\prime}(x^*)| \\neq 1$，可知\n",
    "$$p^{\\prime\\prime}(x^*) = q^{\\prime\\prime}(x^*) \\neq 0$$\n",
    "从而再次使用$L'Hospitale$法则可知\n",
    "\\begin{equation*}\n",
    "    1 - \\psi^\\prime(x^*) = \\lim_{x \\to x^*} [ 1 - \\psi^\\prime(x)] = \\lim_{x \\to x^*} \\frac{p(x)}{q(x)} = \\lim_{x \\to x^*} \\frac{p^{\\prime\\prime}(x)}{q^{\\prime\\prime}(x)} = 1\n",
    "\\end{equation*}\n",
    "从而$\\psi^\\prime(x^*) = 0$。定理得证。 "
   ]
  },
  {
   "cell_type": "markdown",
   "id": "da2a5dd3",
   "metadata": {},
   "source": [
    "**！TIPS**：若原迭代格式是$p$阶收敛的，则对应的$Steffensen$迭代是$p+1$阶收敛的。"
   ]
  },
  {
   "cell_type": "markdown",
   "id": "7f85280f",
   "metadata": {},
   "source": [
    "### Python示例"
   ]
  },
  {
   "cell_type": "markdown",
   "id": "fdf1a21b",
   "metadata": {},
   "source": []
  },
  {
   "cell_type": "markdown",
   "id": "f17d7014",
   "metadata": {},
   "source": [
    "## 其他复杂方法 （Other Complex Methods）"
   ]
  },
  {
   "cell_type": "markdown",
   "id": "85b575d9",
   "metadata": {},
   "source": [
    "### 割线法（Secant Method）\n",
    "割线法与前述的迭代法（二分法，不动点迭代法，Newton迭代法）的主要不同是，每一步迭代的时候需要提供两个已知值。割线法的处理方式和理解方式主要有两种：\n",
    "- 作为二分法的变种\n",
    "- 作为Newton法的变种"
   ]
  },
  {
   "cell_type": "markdown",
   "id": "83af6709",
   "metadata": {},
   "source": [
    "#### 割线法作为二分法的变种\n",
    "[作为二分法变种的割线法](https://personal.math.ubc.ca/~pwalls/math-python/roots-optimization/secant/)与二分法的基本条件一致：对于在区间$[a,b]$上的连续函数$f(x)$，要求$f(a)f(b)<0$，则根据中值定理，在区间$[a,b]$内某一点$x^*$处必然有$f(x^*)=0$。\n",
    "\n",
    "所不同的是，二分法利用对区间的不断对分来更新有根子区间并逐步逼近$x^*$，而割线法则利用连接$(a,f(a))$和$(b,f(b))$两点的割线与$x$轴的交点来不断更新有根子区间并逼近$x^*$。\n",
    "\n",
    "- 首先，连接$(a,f(a))$和$(b,f(b))$两点的割线方程为\n",
    "\\begin{equation}\n",
    "    y = \\frac{f(b) - f(a)}{b-a}(x-a) + f(a)\n",
    "\\end{equation}\n",
    "- 其次，考虑该割线与$x$轴的交点，在上式中令$y=0$，即\n",
    "\\begin{equation}\n",
    "    0 = \\frac{f(b) - f(a)}{b-a}(x-a) + f(a)\n",
    "\\end{equation}\n",
    "可得交点的横坐标为\n",
    "\\begin{equation}\n",
    "    x = a - f(a)\\frac{b-a}{f(b) - f(a)}\n",
    "\\end{equation}"
   ]
  },
  {
   "cell_type": "markdown",
   "id": "e30b4786",
   "metadata": {},
   "source": [
    "这种情况下，割线法的算法与二分法一致，唯一的区别在于确定有根子区间的方法。基本的<font color='red'>算法步骤</font>如下\n",
    "1. 确定一个有根区间$[a_0,b_0]$，使得它满足$f(a_0) f(b_0) <0$;\n",
    "1. 计算$f(x_0)$，其中$x_0$是割线与$x$轴的交点：\n",
    "\\begin{equation}\n",
    "    x_0 = a_0 - f(a_0)\\frac{b_0-a_0}{f(b_0) - f(a_0)}\n",
    "\\end{equation}\n",
    "1. 确定下一个有根区间$[a_1,b_1]$：\n",
    "    1. 如果$f(a_0) f(x_0) <0$，则取$a_1 = a_0$, $b_1 = x_0$，新的有根区间为$[a_1,b_1]$.\n",
    "    1. 如果$f(x_0) f(b_0) <0$，则取$a_1 = x_0$, $b_1 = b_0$，新的有根区间为$[a_1,b_1]$.\n",
    "1. 重复第(2)和第(3)步直到获得最终的有根区间$[a_N,b_N]$达到预设目标.\n",
    "1. 求得第$N$个有根区间中求得的割线与与$x$轴的交点$x_N$。"
   ]
  },
  {
   "cell_type": "markdown",
   "id": "962cf781",
   "metadata": {},
   "source": [
    "在这种情况下，割线法的代码如下："
   ]
  },
  {
   "cell_type": "code",
   "execution_count": 188,
   "id": "6a4e01cd",
   "metadata": {},
   "outputs": [],
   "source": [
    "def secantIteration(func, a, b, maxiter=30, tol=1e-3):\n",
    "    '''Approximate solution of f(x)=0 on interval [a,b] by the secant method.\n",
    "\n",
    "    Parameters\n",
    "    ----------\n",
    "    func : function\n",
    "        The function for which we are trying to approximate a solution f(x)=0.\n",
    "    a,b : numbers\n",
    "        The interval in which to search for a solution. The function returns\n",
    "        None if f(a)*f(b) >= 0 since a solution is not guaranteed.\n",
    "    tol : number\n",
    "        The interval length or the absolute value of $f(x)$ which are thought \n",
    "        to be zero. Sometimes it is represented by two numbers tolfunc\n",
    "        and tolroot.\n",
    "    maxiter: (positive) integer\n",
    "        The number of iterations to implement.\n",
    "\n",
    "    Returns\n",
    "    -------\n",
    "    xN : number\n",
    "        The x intercept of the secant line on the the Nth interval\n",
    "            xn = an - f(an)*(bn - an)/(f(bn) - f(an))\n",
    "        The initial interval [a0,b0] is given by [a,b]. If f(xn) == 0\n",
    "        for some intercept xn then the function returns this solution.\n",
    "        If all signs of values f(an), f(bn) and f(xn) are the same at any\n",
    "        iterations, the secant method fails and return None.\n",
    "\n",
    "    Examples\n",
    "    --------\n",
    "    >>> f = lambda x: x**2 - x - 1\n",
    "    >>> secantIteration(f,1,2,5)\n",
    "    1.6180257510729614\n",
    "    '''\n",
    "    if func(a)*func(b) >= 0:\n",
    "        print(\"Secant method fails.\")\n",
    "        return None\n",
    "    an, bn = a, b\n",
    "    for n in range(1, maxiter+1):\n",
    "        xn = an - func(an)*(bn - an)/(func(bn) - func(an))\n",
    "        if func(an)*func(xn) < 0:\n",
    "            an, bn = an, xn\n",
    "        elif func(bn)*func(xn) < 0:\n",
    "            an, bn = xn, bn\n",
    "        elif func(xn) == 0:\n",
    "            print(\"Found exact solution.\")\n",
    "            return xn\n",
    "        else:\n",
    "            print(\"Secant method fails.\")\n",
    "            return None\n",
    "    return an - func(an)*(bn - an)/(func(bn) - func(an))"
   ]
  },
  {
   "cell_type": "code",
   "execution_count": 189,
   "id": "d495c0cc",
   "metadata": {},
   "outputs": [
    {
     "name": "stdout",
     "output_type": "stream",
     "text": [
      "Found exact solution.\n"
     ]
    },
    {
     "data": {
      "text/plain": [
       "1.618033988749895"
      ]
     },
     "execution_count": 189,
     "metadata": {},
     "output_type": "execute_result"
    }
   ],
   "source": [
    "f = lambda x: x**2 - x - 1\n",
    "secantIteration(f, 1, 2)"
   ]
  },
  {
   "cell_type": "code",
   "execution_count": 192,
   "id": "1daa595c",
   "metadata": {},
   "outputs": [
    {
     "name": "stdout",
     "output_type": "stream",
     "text": [
      "1.4655712318767282\n",
      "1.4655712318767682\n",
      "3.9968028886505635e-14\n"
     ]
    }
   ],
   "source": [
    "pp = lambda x: x**3 - x**2 - 1\n",
    "supergolden = (1 + ((29 + 3*93**0.5)/2)**(1/3) + \n",
    "               ((29 - 3*93**0.5)/2)**(1/3))/3\n",
    "approx = secantIteration(pp, 1, 2)\n",
    "print(approx)\n",
    "print(supergolden)\n",
    "print(np.abs(supergolden - approx))"
   ]
  },
  {
   "cell_type": "markdown",
   "id": "e83c0a0d",
   "metadata": {},
   "source": [
    "#### 割线法作为Newton法的变种\n",
    "[作为Newton法变种的割线法](https://mmas.github.io/secant-julia)，可以看作是将$Newton$法\n",
    "\\begin{equation}\n",
    "    x_{k+1} = x_k - \\frac{f(x_k)}{f^\\prime(x_k)}\n",
    "\\end{equation}\n",
    "中的导数项$f^\\prime(x_k)$用经过函数$f(x)$图像上的点$(x_k,f(x_k))$和$(x_{k-1},f(x_{k-1}))$的割线的斜率\n",
    "\\begin{equation}\n",
    "    \\frac{f(x_{k-1}) - f(x_k)}{x_{k-1} - x_k}\n",
    "\\end{equation}\n",
    "来代替。由此，我们获得了如下迭代公式\n",
    "\\begin{equation}\n",
    "    x_{k+1} = x_{k} - f(x_{k})\\frac{x_{k} - x_{k-1}}{f(x_{k}) - f(x_{k-1})}\n",
    "\\end{equation}."
   ]
  },
  {
   "cell_type": "code",
   "execution_count": 193,
   "id": "ba607548",
   "metadata": {},
   "outputs": [],
   "source": [
    "import numpy as np\n",
    "def secant(func, x0, x1, atol = 1e-3, maxiter = 30):\n",
    "    for i in range(0, maxiter):\n",
    "        y1 = func(x1)\n",
    "        y0 = func(x0)\n",
    "        x  = x1 - y1 * (x1-x0)/(y1-y0)\n",
    "        if np.abs(x-x1) < atol:\n",
    "            return x\n",
    "        x0 = x1\n",
    "        x1 = x\n",
    "    error(\"Max iteration exceeded\")"
   ]
  },
  {
   "cell_type": "code",
   "execution_count": 194,
   "id": "0bac259a",
   "metadata": {},
   "outputs": [
    {
     "name": "stdout",
     "output_type": "stream",
     "text": [
      "xsol1 = 3.1622760801, with starting points x0 = 1.0, x1 = 2.0\n",
      "xsol2 = -3.1622776610, with starting points x0 = 1.0, x1 = -2.0\n",
      "xsol3 = 3.1622776602, accurate solution\n"
     ]
    }
   ],
   "source": [
    "ff = lambda x: x**2 - 10\n",
    "x0, x1 = 1., 2.\n",
    "xsol1 =  secant(ff, x0, x1)\n",
    "x0, x1 = 1., -2.\n",
    "xsol2 = secant(ff, x0, x1)\n",
    "xsol3 = np.sqrt(10)\n",
    "print(f'xsol1 = {xsol1:2.10f}, with starting points x0 = 1.0, x1 = 2.0')\n",
    "print(f'xsol2 = {xsol2:2.10f}, with starting points x0 = 1.0, x1 = -2.0')\n",
    "print(f'xsol3 = {xsol3:2.10f}, accurate solution')"
   ]
  },
  {
   "cell_type": "code",
   "execution_count": 195,
   "id": "e9a87240",
   "metadata": {
    "scrolled": true
   },
   "outputs": [
    {
     "name": "stdout",
     "output_type": "stream",
     "text": [
      "1.465571325486704\n",
      "1.4655712318767682\n",
      "9.360993580287413e-08\n"
     ]
    }
   ],
   "source": [
    "pp = lambda x: x**3 - x**2 - 1\n",
    "supergolden = (1 + ((29 + 3*93**0.5)/2)**(1/3) + \n",
    "               ((29 - 3*93**0.5)/2)**(1/3))/3\n",
    "approx = secant(pp, 1, 2)\n",
    "print(approx)\n",
    "print(supergolden)\n",
    "print(np.abs(supergolden - approx))"
   ]
  },
  {
   "cell_type": "markdown",
   "id": "ee97e61d",
   "metadata": {},
   "source": [
    "#### 其他实现"
   ]
  },
  {
   "cell_type": "code",
   "execution_count": 217,
   "id": "c3dde45e",
   "metadata": {},
   "outputs": [
    {
     "name": "stdout",
     "output_type": "stream",
     "text": [
      "Root: 24.738633748750722\n"
     ]
    }
   ],
   "source": [
    "def secant_method(f, x0, x1, iterations):\n",
    "    \"\"\"Return the root calculated using the secant method.\"\"\"\n",
    "    for i in range(iterations):\n",
    "        x2 = x1 - f(x1) * (x1 - x0) / float(f(x1) - f(x0))\n",
    "        x0, x1 = x1, x2\n",
    "    return x2\n",
    "\n",
    "def f_example(x):\n",
    "    return x ** 2 - 612\n",
    "\n",
    "root = secant_method(f_example, 10, 30, 5)\n",
    "\n",
    "print(\"Root: {}\".format(root))  # Root: 24.738633748750722"
   ]
  },
  {
   "cell_type": "markdown",
   "id": "afc1cf2a",
   "metadata": {},
   "source": [
    "### 反向二次插值法(Inverse Quadratic Interpolation Method)\n",
    "反向二次插值法很少直接用来对非线性方程进行求根，一般作为Brent法的一部分。"
   ]
  },
  {
   "cell_type": "markdown",
   "id": "8b5ac291",
   "metadata": {},
   "source": [
    "反向二次插值法中，函数$f(x)$在三个点$x_0$，$x_1$和$x_2$处进行求值，其中$x_0$，$x_1$和$x_2$属于某个有根区间。对函数$f(x)$和$x$进行反向二次插值有\n",
    "\\begin{equation}\n",
    "    g(y) = \\frac{(y - f(x_1))(y - f(x_2))}{(f(x_0) - f(x_1))(f(x_0) - f(x_2))} x_0 + \\frac{(y - f(x_0))(y - f(x_2))}{(f(x_1) - f(x_0))(f(x_1) - f(x_2))} x_1 + \\frac{(y - f(x_0))(y - f(x_1))}{(f(x_2) - f(x_0))(f(x_2) - f(x_1))} x_2\n",
    "\\end{equation}\n",
    "此时，令$y=0$，我们可以得到\n",
    "\\begin{equation}\n",
    "    g(y) = x = \\frac{f(x_1) f(x_2)}{(f(x_0) - f(x_1))(f(x_0) - f(x_2))} x_0 + \\frac{ f(x_0) f(x_2)}{(f(x_1) - f(x_0))(f(x_1) - f(x_2))} x_1 + \\frac{f(x_0) f(x_1)}{(f(x_2) - f(x_0))(f(x_2) - f(x_1))} x_2\n",
    "\\end{equation}\n",
    "在每次迭代计算之后，$x_0$，$x_1$和$x_2$的更新规则如下：\n",
    "- $x_0$  $\\Leftarrow$ $x_1$\n",
    "- $x_1$  $\\Leftarrow$ $x_2$\n",
    "- $x_2$  $\\Leftarrow$ $x$"
   ]
  },
  {
   "cell_type": "code",
   "execution_count": 213,
   "id": "ed43e9c5",
   "metadata": {},
   "outputs": [],
   "source": [
    "import numpy as np\n",
    "def invquadinterp(f, x0, x1, x2, xtol = 1e-5, ytol = 1e-10, maxiter = 50):\n",
    "    y0, y1, y2 = f(x0), f(x1), f(x2)\n",
    "    for i in range(1, maxiter+1):\n",
    "        x = x0*y1*y2/((y0-y1)*(y0-y2)) + \\\n",
    "            x1*y0*y2/((y1-y0)*(y1-y2)) + \\\n",
    "            x2*y0*y1/((y2-y0)*(y2-y1))\n",
    "        # x-tolerance.\n",
    "        if np.abs(x-x0) < xtol or np.abs(x-x1) < xtol or np.abs(x-x2) < xtol:\n",
    "            return x\n",
    "        y = f(x)\n",
    "        # y-tolerance.\n",
    "        if np.abs(y) < ytol:\n",
    "            return x\n",
    "        x0, x1, x2 = x1, x2, x\n",
    "        y0, y1, y2 = y1, y2, y\n",
    "    error(\"Max iteration exceeded\")"
   ]
  },
  {
   "cell_type": "code",
   "execution_count": 216,
   "id": "bbc7fce9",
   "metadata": {},
   "outputs": [
    {
     "name": "stdout",
     "output_type": "stream",
     "text": [
      "xapp=0.3660254037\n",
      "xsol=0.3660254038\n"
     ]
    }
   ],
   "source": [
    "f = lambda x: x**4 - 2*x**2 + 1/4.; \n",
    "xapp = invquadinterp(f, 0, 0.5, 1)\n",
    "xsol = np.sqrt(1-np.sqrt(3)/2)\n",
    "print(f'xapp={xapp:2.10f}\\nxsol={xsol:2.10f}')"
   ]
  },
  {
   "cell_type": "markdown",
   "id": "16942cf7",
   "metadata": {},
   "source": [
    "### Brent法（Brent's Method）\n",
    "[Brent法](https://mmas.github.io/brent-julia)或者Wijngaarden-Brent-Dekker法是一种综合使用二分法，割线法和反向二次插值法的非线性方程求根方法。只要求解区间上存在根，该方法总是能够获得最终的精确根的。\n",
    "\n",
    "给定函数$f(x)$和有根区间$[x_0,x_1]$，可以获得两个新的点$x_2$和$x_3$。这一过程中如果$|f(x_0)|< |f(x_1)|$，则需要将$x_0$和$x_1$的值调换。\n",
    "\n",
    "然后在每次迭代中，如果函数$f(x)$在$x_0$，$x_1$和$x_2$处的函数值是不同（在指定的误差范围内），则使用反向二次插值法获得新的$x$值。反之，则使用割线法获得新的$x$。此后，如果下列条件中的某一个满足，我们重新利用二分法来求$x$的值：\n",
    "- 如果$x$不是介于$(3x_0+x_1)/4$和$x_1$之间；\n",
    "- 如果前一步迭代中使用了二分法，或本次迭代为首次迭代且$|x-x_1|\\geq \\frac{1}{2}|x_1 - x_2|$；\n",
    "- 如果前一步迭代中使用了二分法，或本次迭代为首次迭代且$|x_1-x_2|< |\\delta|$，其中$\\delta$为设定的误差因数；\n",
    "- 如果前一步迭代中未使用二分法，且$|x-x_1|\\geq \\frac{1}{2}|x_2 - x_3|$；\n",
    "- 如果前一步迭代中未使用二分法，且$|x_2 - x_3| < |\\delta|$，其中$\\delta$为设定的误差因数。\n",
    "\n",
    "上述过程中我们定义$\\delta = 2 \\epsilon x_1$，其中$\\epsilon$是机械精度。\n",
    "\n",
    "最后，新的$x_3$等于现在的$x_2$，新的$x_2$等于现在的$x_1$。如果$f(x)f(x_0) <0$，则新的$x_1$取现在的$x$，否则新的$x_2$取现在的$x$。此时，如果对新的$x_0$和$x_1$而言，$|f(x_0)|< |f(x_1)|$，则二者的值交换。该算法一直执行到$f(x)$或者$|x_1 - x_0|$小于给定的误差因数 。"
   ]
  },
  {
   "cell_type": "code",
   "execution_count": 233,
   "id": "f18cdfb8",
   "metadata": {},
   "outputs": [],
   "source": [
    "import numpy as np\n",
    "def brent(f, x0, x1, xtol=1e-7, ytol=2e-10,maxiter=50):\n",
    "    EPS = np.finfo(float).eps\n",
    "    y0, y1 = f(x0), f(x1)\n",
    "    if np.abs(y0) < np.abs(y1):\n",
    "        # Swap lower and upper bounds.\n",
    "        x0, x1 = x1, x0\n",
    "        y0, y1 = y1, y0\n",
    "    x2 = x0\n",
    "    y2 = y0\n",
    "    x3 = x2\n",
    "    bisection = True\n",
    "    for k in range(1, maxiter+1):\n",
    "        # x-tolerance.\n",
    "        if np.abs(x1-x0) < xtol:\n",
    "            return x1\n",
    "        # Use inverse quadratic interpolation if f(x0)!=f(x1)!=f(x2)\n",
    "        # and linear interpolation (secant method) otherwise.\n",
    "        if np.abs(y0-y2) > ytol and np.abs(y1-y2) > ytol:\n",
    "            x = x0*y1*y2/((y0-y1)*(y0-y2)) + \\\n",
    "                x1*y0*y2/((y1-y0)*(y1-y2)) + \\\n",
    "                x2*y0*y1/((y2-y0)*(y2-y1))\n",
    "        else:\n",
    "            x = x1 - y1 * (x1-x0)/(y1-y0)\n",
    "\n",
    "        # Use bisection method if satisfies the conditions.\n",
    "        delta = np.abs(2*EPS*np.abs(x1))\n",
    "        min1 = np.abs(x-x1)\n",
    "        min2 = np.abs(x1-x2)\n",
    "        min3 = np.abs(x2-x3)\n",
    "        if (x < (3*x0+x1)/4 and x > x1) or \\\n",
    "           (bisection and min1 >= min2/2) or \\\n",
    "           (not bisection and min1 >= min3/2) or \\\n",
    "           (bisection and min2 < delta) or \\\n",
    "           (not bisection and min3 < delta):\n",
    "            x = (x0+x1)/2\n",
    "            bisection = True\n",
    "        else:\n",
    "            bisection = False\n",
    "\n",
    "        y = f(x)\n",
    "        # y-tolerance.\n",
    "        if np.abs(y) < ytol:\n",
    "            return x\n",
    "        x3 = x2\n",
    "        x2 = x1\n",
    "        if np.sign(y0) != np.sign(y):\n",
    "            x1, y1 = x, y\n",
    "        else:\n",
    "            x0, y0 = x, y\n",
    "\n",
    "        if np.abs(y0) < np.abs(y1):\n",
    "            # Swap lower and upper bounds.\n",
    "            x0, x1 = x1, x0\n",
    "            y0, y1 = y1, y0\n",
    "\n",
    "    error(\"Max iteration exceeded\")"
   ]
  },
  {
   "cell_type": "code",
   "execution_count": 236,
   "id": "2eedf896",
   "metadata": {},
   "outputs": [
    {
     "name": "stdout",
     "output_type": "stream",
     "text": [
      "0.3660254037862235\n"
     ]
    },
    {
     "data": {
      "text/plain": [
       "0.3660254037844387"
      ]
     },
     "execution_count": 236,
     "metadata": {},
     "output_type": "execute_result"
    }
   ],
   "source": [
    "f = lambda x: x**4 - 2*x**2 + 1/4.; x0=0; x1=1; \n",
    "print(brent(f,x0,x1))\n",
    "np.sqrt(1-np.sqrt(3)/2)"
   ]
  },
  {
   "cell_type": "markdown",
   "id": "2b5166df",
   "metadata": {},
   "source": [
    "#### Preparing initial values and conditions\n",
    "We need an initial bracket to use Brent’s method. There are also multiple conditions that we must actively maintain. A summary of relevant variables will precede discussion of conditions.\n",
    "\n",
    "k = the iteration number.\n",
    "\n",
    "a_k = an endpoint of the bracket.\n",
    "\n",
    "b_k = an endpoint of the bracket, and also the current iterate.\n",
    "\n",
    "b_{k-1} = previous iterate, initially set to a_{0}.\n",
    "\n",
    "\\delta = a tolerance value that is relatively small\n",
    "\n",
    "One condition is that the roots must be bracketed between a and b:\n",
    "\n",
    "f(a_{k})*f(b_{k})<0\n",
    "\n",
    "The intermediate value theorem guarantees that the root will be bracketed if f(x) is continuous within this interval.\n",
    "\n",
    "We also want |f(b)|<|f(a)| to be true such that b is a better guess for the root than a. If necessary, switch values a and b. Then initialize a third point c such that b_{k-1} = a."
   ]
  },
  {
   "cell_type": "markdown",
   "id": "160bd184",
   "metadata": {},
   "source": [
    "#### The iterative process\n",
    "Now we have a, b, and b_{k-1} such that b_{k}\\neq b_{k-1}. The following conditions need to be maintained and updated to prepare for subsequent iterations.\n",
    "\n",
    "f(b_{k})*f(b_{k-1}) < 0 to reduce size of our bracket.\n",
    "|f(b_{k})| \\leq |f(b_{k-1})| to make b our best approximate solution.\n",
    "a_k is either distinct from b_k and c_k, or a_k = b_{k-1} and is the immediate past value of b_k.\n",
    "At the end of each iteration, we have another condition that checks to see if we have an acceptable solution.\n",
    "\n",
    "If |b_k-b_{k-1}| < \\delta, return b_k.\n",
    "Else, find b_{k+1}."
   ]
  },
  {
   "cell_type": "markdown",
   "id": "2ebe1f01",
   "metadata": {},
   "source": [
    "#### Finding b_{k+1}\n",
    "We have two different cases if we’re trying to find b_{k+1}. Steps 3 and 4 are rather complicated, and I won’t be covering the intermediate steps as I’m still trying to understand what happens there.\n",
    "\n",
    "If a_k=b_{k-1}, then use secant interpolation to find b_{k+1}=\\frac{a_k f(b_k) - b_k f(a_k)}{f(b_k)-f(a_k)}.\n",
    "Else use inverse quadratic interpolation to find b_{k+1}.\n",
    "Adjust or replace b_{k+1} with bisection method if necessary.\n",
    "Adjust a_k, b_{k-1}, b_k, and b_{k+1} for next iteration if needed.\n"
   ]
  },
  {
   "cell_type": "markdown",
   "id": "b8b26751",
   "metadata": {},
   "source": [
    "#### Rate of convergence\n",
    "\n",
    "In the worst case, Brent’s method will use no more than N^{2} iterations where N is the number of iterations had this method been purely bisection. Otherwise, this algorithm can converge superlinearly such that:\n",
    "\n",
    "\\lim_{k\\rightarrow \\infty} \\frac{\\left |x_{k+1}-L \\right |}{\\left |x_k - L\\right |} = \\mu \n",
    "\n",
    "and\n",
    "\n",
    "\\mu_{k}\\rightarrow 0 as k\\rightarrow \\infty\n",
    "\n",
    "where\n",
    "\n",
    "\\mu is the rate of convergence, and\n",
    "\n",
    "L is the number that we’re converging to."
   ]
  },
  {
   "cell_type": "markdown",
   "id": "f711aa0a",
   "metadata": {},
   "source": [
    "## 利用Python对函数进行求根"
   ]
  },
  {
   "cell_type": "markdown",
   "id": "9b64f2c0",
   "metadata": {},
   "source": [
    "TRY IT! Using fsolve function from scipy to compute the root of $𝑓(𝑥)=cos(𝑥)−𝑥$ near $−2$. Verify that the solution is a root (or close enough)."
   ]
  },
  {
   "cell_type": "code",
   "execution_count": 139,
   "id": "2261a1c3",
   "metadata": {},
   "outputs": [
    {
     "name": "stdout",
     "output_type": "stream",
     "text": [
      "r = [0.73908513]\n",
      "result= [0.]\n"
     ]
    }
   ],
   "source": [
    "import numpy as np\n",
    "from scipy import optimize\n",
    "\n",
    "f = lambda x: np.cos(x) - x\n",
    "r = optimize.fsolve(f, -2)\n",
    "print(\"r =\", r)\n",
    "\n",
    "# Verify the solution is a root\n",
    "result = f(r)\n",
    "print(\"result=\", result)"
   ]
  },
  {
   "cell_type": "markdown",
   "id": "06ff7307",
   "metadata": {},
   "source": [
    "TRY IT! The function $𝑓(𝑥)=\\frac{1}{x}$ has no root. Use the fsolve function to try to compute the root of $𝑓(𝑥)=\\frac{1}{x}$. Turn on the \"full_output\" option to see what's going on. Remember to check the documentation for details."
   ]
  },
  {
   "cell_type": "code",
   "execution_count": 2,
   "id": "39743812",
   "metadata": {
    "scrolled": true
   },
   "outputs": [
    {
     "name": "stdout",
     "output_type": "stream",
     "text": [
      "r = [-3.52047359e+83]\n",
      "result= [-2.84052692e-84]\n",
      "The number of calls to function has reached maxfev = 400.\n"
     ]
    }
   ],
   "source": [
    "f = lambda x: 1/x\n",
    "\n",
    "r, infodict, ier, mesg = optimize.fsolve(f, -2, full_output=True)\n",
    "print(\"r =\", r)\n",
    "\n",
    "result = f(r)\n",
    "print(\"result=\", result)\n",
    "\n",
    "print(mesg)"
   ]
  },
  {
   "cell_type": "markdown",
   "id": "cd7cfdc2",
   "metadata": {},
   "source": [
    "We can see that, the value $r$ we got is not a root, even though the $f(r)$ is a very small number. Since we turned on the full_output, which have more information. A message will be returned if no solution is found, and we can see mesg details for the cause of failure: \n",
    "\n",
    "\"The number of calls to function has reached maxfev = 400.\""
   ]
  },
  {
   "cell_type": "code",
   "execution_count": 1,
   "id": "3da67c3d",
   "metadata": {},
   "outputs": [
    {
     "name": "stdout",
     "output_type": "stream",
     "text": [
      "Converged at  6\n",
      "Converged at  23\n"
     ]
    },
    {
     "data": {
      "image/png": "[encoded data removed]",
      "text/plain": [
       "<Figure size 216x180 with 1 Axes>"
      ]
     },
     "metadata": {
      "needs_background": "light"
     },
     "output_type": "display_data"
    },
    {
     "data": {
      "image/png": "[encoded data removed]",
      "text/plain": [
       "<Figure size 288x216 with 1 Axes>"
      ]
     },
     "metadata": {
      "needs_background": "light"
     },
     "output_type": "display_data"
    },
    {
     "data": {
      "image/png": "[encoded data removed]",
      "text/plain": [
       "<Figure size 216x180 with 1 Axes>"
      ]
     },
     "metadata": {
      "needs_background": "light"
     },
     "output_type": "display_data"
    },
    {
     "data": {
      "image/png": "[encoded data removed]",
      "text/plain": [
       "<Figure size 288x216 with 1 Axes>"
      ]
     },
     "metadata": {
      "needs_background": "light"
     },
     "output_type": "display_data"
    }
   ],
   "source": [
    "\"\"\"\n",
    "Brent's method\n",
    "================\n",
    "\n",
    "Illustration of 1D optimization: Brent's method\n",
    "\"\"\"\n",
    "\n",
    "import numpy as np\n",
    "import matplotlib.pyplot as plt\n",
    "from scipy import optimize\n",
    "\n",
    "x = np.linspace(-1, 3, 100)\n",
    "x_0 = np.exp(-1)\n",
    "\n",
    "def f(x):\n",
    "    return (x - x_0)**2 + epsilon*np.exp(-5*(x - .5 - x_0)**2)\n",
    "\n",
    "for epsilon in (0, 1):\n",
    "    plt.figure(figsize=(3, 2.5))\n",
    "    plt.axes([0, 0, 1, 1])\n",
    "\n",
    "    # A convex function\n",
    "    plt.plot(x, f(x), linewidth=2)\n",
    "\n",
    "    # Apply brent method. To have access to the iteration, do this in an\n",
    "    # artificial way: allow the algorithm to iter only once\n",
    "    all_x = list()\n",
    "    all_y = list()\n",
    "    for iter in range(30):\n",
    "        result = optimize.minimize_scalar(f, bracket=(-5, 2.9, 4.5), method=\"Brent\",\n",
    "                    options={\"maxiter\": iter}, tol=np.finfo(1.).eps)\n",
    "        if result.success:\n",
    "            print('Converged at ', iter)\n",
    "            break\n",
    "\n",
    "        this_x = result.x\n",
    "        all_x.append(this_x)\n",
    "        all_y.append(f(this_x))\n",
    "        if iter < 6:\n",
    "            plt.text(this_x - .05*np.sign(this_x) - .05,\n",
    "                    f(this_x) + 1.2*(.3 - iter % 2), iter + 1,\n",
    "                    size=12)\n",
    "\n",
    "    plt.plot(all_x[:10], all_y[:10], 'k+', markersize=12, markeredgewidth=2)\n",
    "\n",
    "    plt.plot(all_x[-1], all_y[-1], 'rx', markersize=12)\n",
    "    plt.axis('off')\n",
    "    plt.ylim(ymin=-1, ymax=8)\n",
    "\n",
    "    plt.figure(figsize=(4, 3))\n",
    "    plt.semilogy(np.abs(all_y - all_y[-1]), linewidth=2)\n",
    "    plt.ylabel('Error on f(x)')\n",
    "    plt.xlabel('Iteration')\n",
    "    plt.tight_layout()\n",
    "\n",
    "plt.show()\n",
    "\n"
   ]
  },
  {
   "cell_type": "markdown",
   "id": "f5cc4a12",
   "metadata": {},
   "source": [
    "## 小结"
   ]
  },
  {
   "cell_type": "markdown",
   "id": "eaa58fa0",
   "metadata": {},
   "source": []
  },
  {
   "cell_type": "markdown",
   "id": "cdfd678a",
   "metadata": {},
   "source": [
    "## 习题和讨论"
   ]
  },
  {
   "cell_type": "markdown",
   "id": "ac9ae1b3",
   "metadata": {},
   "source": []
  },
  {
   "cell_type": "code",
   "execution_count": null,
   "id": "a02892d7",
   "metadata": {},
   "outputs": [],
   "source": []
  }
 ],
 "metadata": {
  "kernelspec": {
   "display_name": "Python 3 (ipykernel)",
   "language": "python",
   "name": "python3"
  },
  "language_info": {
   "codemirror_mode": {
    "name": "ipython",
    "version": 3
   },
   "file_extension": ".py",
   "mimetype": "text/x-python",
   "name": "python",
   "nbconvert_exporter": "python",
   "pygments_lexer": "ipython3",
   "version": "3.9.10"
  },
  "toc": {
   "base_numbering": 1,
   "nav_menu": {},
   "number_sections": true,
   "sideBar": true,
   "skip_h1_title": true,
   "title_cell": "Table of Contents",
   "title_sidebar": "Contents",
   "toc_cell": true,
   "toc_position": {
    "height": "calc(100% - 180px)",
    "left": "10px",
    "top": "150px",
    "width": "288px"
   },
   "toc_section_display": true,
   "toc_window_display": true
  }
 },
 "nbformat": 4,
 "nbformat_minor": 5
}
