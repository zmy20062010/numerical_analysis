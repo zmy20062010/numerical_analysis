{
 "cells": [
  {
   "cell_type": "markdown",
   "id": "2e0c89e5",
   "metadata": {},
   "source": [
    "# <center> 第14章: 线性方程组求解</center>\n",
    "<center>（Chapter 14: Linear System of Equations）</center>"
   ]
  },
  {
   "cell_type": "markdown",
   "id": "533f68b9",
   "metadata": {
    "toc": true
   },
   "source": [
    "<h1>Table of Contents<span class=\"tocSkip\"></span></h1>\n",
    "<div class=\"toc\"><ul class=\"toc-item\"><li><span><a href=\"#序言\" data-toc-modified-id=\"序言-1\"><span class=\"toc-item-num\">1&nbsp;&nbsp;</span>序言</a></span></li><li><span><a href=\"#线性代数基础\" data-toc-modified-id=\"线性代数基础-2\"><span class=\"toc-item-num\">2&nbsp;&nbsp;</span>线性代数基础</a></span><ul class=\"toc-item\"><li><span><a href=\"#集合\" data-toc-modified-id=\"集合-2.1\"><span class=\"toc-item-num\">2.1&nbsp;&nbsp;</span>集合</a></span></li><li><span><a href=\"#矢量\" data-toc-modified-id=\"矢量-2.2\"><span class=\"toc-item-num\">2.2&nbsp;&nbsp;</span>矢量</a></span></li><li><span><a href=\"#矩阵\" data-toc-modified-id=\"矩阵-2.3\"><span class=\"toc-item-num\">2.3&nbsp;&nbsp;</span>矩阵</a></span><ul class=\"toc-item\"><li><span><a href=\"#矩阵的基本运算\" data-toc-modified-id=\"矩阵的基本运算-2.3.1\"><span class=\"toc-item-num\">2.3.1&nbsp;&nbsp;</span>矩阵的基本运算</a></span></li></ul></li><li><span><a href=\"#线性变换\" data-toc-modified-id=\"线性变换-2.4\"><span class=\"toc-item-num\">2.4&nbsp;&nbsp;</span>线性变换</a></span></li><li><span><a href=\"#矢量空间、矢量与范数\" data-toc-modified-id=\"矢量空间、矢量与范数-2.5\"><span class=\"toc-item-num\">2.5&nbsp;&nbsp;</span>矢量空间、矢量与范数</a></span><ul class=\"toc-item\"><li><span><a href=\"#矢量空间\" data-toc-modified-id=\"矢量空间-2.5.1\"><span class=\"toc-item-num\">2.5.1&nbsp;&nbsp;</span>矢量空间</a></span></li><li><span><a href=\"#矢量空间的范数\" data-toc-modified-id=\"矢量空间的范数-2.5.2\"><span class=\"toc-item-num\">2.5.2&nbsp;&nbsp;</span>矢量空间的范数</a></span></li><li><span><a href=\"#矩阵的范数\" data-toc-modified-id=\"矩阵的范数-2.5.3\"><span class=\"toc-item-num\">2.5.3&nbsp;&nbsp;</span>矩阵的范数</a></span></li></ul></li></ul></li><li><span><a href=\"#线性方程组的解\" data-toc-modified-id=\"线性方程组的解-3\"><span class=\"toc-item-num\">3&nbsp;&nbsp;</span>线性方程组的解</a></span><ul class=\"toc-item\"><li><span><a href=\"#线性方程组示例\" data-toc-modified-id=\"线性方程组示例-3.1\"><span class=\"toc-item-num\">3.1&nbsp;&nbsp;</span>线性方程组示例</a></span></li><li><span><a href=\"#线性方程组的解的存在唯一性定理\" data-toc-modified-id=\"线性方程组的解的存在唯一性定理-3.2\"><span class=\"toc-item-num\">3.2&nbsp;&nbsp;</span>线性方程组的解的存在唯一性定理</a></span></li></ul></li><li><span><a href=\"#解线性方程组的直接法\" data-toc-modified-id=\"解线性方程组的直接法-4\"><span class=\"toc-item-num\">4&nbsp;&nbsp;</span>解线性方程组的直接法</a></span><ul class=\"toc-item\"><li><span><a href=\"#消元法\" data-toc-modified-id=\"消元法-4.1\"><span class=\"toc-item-num\">4.1&nbsp;&nbsp;</span>消元法</a></span><ul class=\"toc-item\"><li><span><a href=\"#高斯消元法（Gauss-Elimination）\" data-toc-modified-id=\"高斯消元法（Gauss-Elimination）-4.1.1\"><span class=\"toc-item-num\">4.1.1&nbsp;&nbsp;</span>高斯消元法（Gauss Elimination）</a></span></li><li><span><a href=\"#列主元消元法（Gauss-Elimination-with-Partial-Pivoting）\" data-toc-modified-id=\"列主元消元法（Gauss-Elimination-with-Partial-Pivoting）-4.1.2\"><span class=\"toc-item-num\">4.1.2&nbsp;&nbsp;</span>列主元消元法（Gauss Elimination with Partial Pivoting）</a></span></li><li><span><a href=\"#全主元消元法（Gauss-Elimination-with-Complete-Pivoting）\" data-toc-modified-id=\"全主元消元法（Gauss-Elimination-with-Complete-Pivoting）-4.1.3\"><span class=\"toc-item-num\">4.1.3&nbsp;&nbsp;</span>全主元消元法（Gauss Elimination with Complete Pivoting）</a></span></li><li><span><a href=\"#高斯-约旦消元法（Gauss-Jordan-Elimination）\" data-toc-modified-id=\"高斯-约旦消元法（Gauss-Jordan-Elimination）-4.1.4\"><span class=\"toc-item-num\">4.1.4&nbsp;&nbsp;</span>高斯-约旦消元法（Gauss-Jordan Elimination）</a></span></li><li><span><a href=\"#消元法的python实现\" data-toc-modified-id=\"消元法的python实现-4.1.5\"><span class=\"toc-item-num\">4.1.5&nbsp;&nbsp;</span>消元法的python实现</a></span></li></ul></li><li><span><a href=\"#矩阵分解法\" data-toc-modified-id=\"矩阵分解法-4.2\"><span class=\"toc-item-num\">4.2&nbsp;&nbsp;</span>矩阵分解法</a></span><ul class=\"toc-item\"><li><span><a href=\"#高斯消元法与矩阵分解（Gauss-Elimination-as-Matrix-Decomposition）\" data-toc-modified-id=\"高斯消元法与矩阵分解（Gauss-Elimination-as-Matrix-Decomposition）-4.2.1\"><span class=\"toc-item-num\">4.2.1&nbsp;&nbsp;</span>高斯消元法与矩阵分解（Gauss Elimination as Matrix Decomposition）</a></span></li><li><span><a href=\"#矩阵的LU分解（LU-decomposition-of-matrices）\" data-toc-modified-id=\"矩阵的LU分解（LU-decomposition-of-matrices）-4.2.2\"><span class=\"toc-item-num\">4.2.2&nbsp;&nbsp;</span>矩阵的LU分解（LU decomposition of matrices）</a></span></li><li><span><a href=\"#LU分解法解线性方程组\" data-toc-modified-id=\"LU分解法解线性方程组-4.2.3\"><span class=\"toc-item-num\">4.2.3&nbsp;&nbsp;</span>LU分解法解线性方程组</a></span></li><li><span><a href=\"#矩阵的PLU分解\" data-toc-modified-id=\"矩阵的PLU分解-4.2.4\"><span class=\"toc-item-num\">4.2.4&nbsp;&nbsp;</span>矩阵的PLU分解</a></span></li><li><span><a href=\"#PLU分解法解线性方程组\" data-toc-modified-id=\"PLU分解法解线性方程组-4.2.5\"><span class=\"toc-item-num\">4.2.5&nbsp;&nbsp;</span>PLU分解法解线性方程组</a></span></li><li><span><a href=\"#对称矩阵及对称正定矩阵的分解\" data-toc-modified-id=\"对称矩阵及对称正定矩阵的分解-4.2.6\"><span class=\"toc-item-num\">4.2.6&nbsp;&nbsp;</span>对称矩阵及对称正定矩阵的分解</a></span></li><li><span><a href=\"#矩阵分解法的python实现\" data-toc-modified-id=\"矩阵分解法的python实现-4.2.7\"><span class=\"toc-item-num\">4.2.7&nbsp;&nbsp;</span>矩阵分解法的python实现</a></span></li></ul></li><li><span><a href=\"#迭代法求线性方程组\" data-toc-modified-id=\"迭代法求线性方程组-4.3\"><span class=\"toc-item-num\">4.3&nbsp;&nbsp;</span>迭代法求线性方程组</a></span><ul class=\"toc-item\"><li><span><a href=\"#迭代法的基本构造方法\" data-toc-modified-id=\"迭代法的基本构造方法-4.3.1\"><span class=\"toc-item-num\">4.3.1&nbsp;&nbsp;</span>迭代法的基本构造方法</a></span></li><li><span><a href=\"#迭代法的收敛特性\" data-toc-modified-id=\"迭代法的收敛特性-4.3.2\"><span class=\"toc-item-num\">4.3.2&nbsp;&nbsp;</span>迭代法的收敛特性</a></span></li><li><span><a href=\"#Gauss-Seidel迭代\" data-toc-modified-id=\"Gauss-Seidel迭代-4.3.3\"><span class=\"toc-item-num\">4.3.3&nbsp;&nbsp;</span>Gauss-Seidel迭代</a></span></li><li><span><a href=\"#Jacobi迭代\" data-toc-modified-id=\"Jacobi迭代-4.3.4\"><span class=\"toc-item-num\">4.3.4&nbsp;&nbsp;</span>Jacobi迭代</a></span></li><li><span><a href=\"#超松弛(SOR)迭代\" data-toc-modified-id=\"超松弛(SOR)迭代-4.3.5\"><span class=\"toc-item-num\">4.3.5&nbsp;&nbsp;</span>超松弛(SOR)迭代</a></span></li></ul></li></ul></li><li><span><a href=\"#小结\" data-toc-modified-id=\"小结-5\"><span class=\"toc-item-num\">5&nbsp;&nbsp;</span>小结</a></span></li><li><span><a href=\"#思考和习题\" data-toc-modified-id=\"思考和习题-6\"><span class=\"toc-item-num\">6&nbsp;&nbsp;</span>思考和习题</a></span></li></ul></div>"
   ]
  },
  {
   "cell_type": "markdown",
   "id": "4b15de51",
   "metadata": {},
   "source": [
    "## 序言"
   ]
  },
  {
   "cell_type": "markdown",
   "id": "3e1f0c0a",
   "metadata": {},
   "source": [
    "工程实践和科学研究中许多问题最终都使用线性方程组进行表示或者近似。\n",
    "\n",
    "一方面，线性化是我们认识世界的基本哲学。尽管我们对物理世界的认识已经非常深刻，构建了\n",
    "许多非线性的物理模型，但是在理论和数值上处理这些非线性模型，获得对应物理问题的内在性\n",
    "质任然是依靠在特定工作点处的线性化。例如，对单摆对应的动力系统而言\n",
    "$$\n",
    "   \\ddot{\\theta} = \\frac{g}{l} \\sin\\theta\n",
    "$$\n",
    "由于其非线性，获得其解析解比较困难。比较通行的做法是，在零点$\\theta = 0$（该点是\n",
    "该系统的一个平衡）附近，对该动力系统进行线性化获得\n",
    "$$\n",
    "   \\ddot{\\theta} = \\frac{g}{l} \\theta.\n",
    "$$\n",
    "这个方程即是我们非常熟悉的单摆方程。其周期，振动幅值等动力学信息能够很轻松的获得。\n",
    "\n",
    "\n",
    "另一方面，线性化是我们改造世界的基本方法。对于线性问题，我们目前已经发展出一套比较完善\n",
    "的理论，这对于我们在工程实践中解决问题非常有利。此外，由于工程实践问题很多受限于测量和\n",
    "加工误差等，只能够近似描述，线性化成为我们对这些工程实践问题进行研究的不二法门。"
   ]
  },
  {
   "cell_type": "markdown",
   "id": "e8ec7ead",
   "metadata": {},
   "source": [
    "![image.png](./images/truss_analysis_example.jpg)\n",
    "![image.png](./images/electrical-network-analysis_example.jpg)"
   ]
  },
  {
   "cell_type": "markdown",
   "id": "d804a1fc",
   "metadata": {},
   "source": [
    "实际上很多数值计算方法，最终也会涉及到线性方程组的求解问题：\n",
    "- 样条插值的$M$和$m$关系式；\n",
    "- 曲线拟合的法方程；\n",
    "- 方程组的$Newton$迭代；\n",
    "- 求解常微分方程组的隐式方法；\n",
    "- 求解偏微分方程的有限元，有限体积，有限差分等方法。\n",
    "\n",
    "这些线性方程组的系数矩阵大致分为两种；\n",
    "- 低阶稠密矩阵（如阶数不超过$150$的矩阵等）\n",
    "- 大型稀疏矩阵（即矩阵阶数高且零元素较多）\n",
    "\n",
    "低阶稠密矩阵一般使用直接法进行求解，而大型稀疏矩阵采用迭代法计算能够获得更高的效率。"
   ]
  },
  {
   "cell_type": "markdown",
   "id": "4ca97308",
   "metadata": {},
   "source": [
    "## 线性代数基础\n",
    "在进一步介绍线性方程组的解的直接法和迭代法之前，我们首先回顾总结一下线性代数的基础知识点。"
   ]
  },
  {
   "cell_type": "markdown",
   "id": "06c6262a",
   "metadata": {},
   "source": [
    "### 集合"
   ]
  },
  {
   "cell_type": "markdown",
   "id": "c921b348",
   "metadata": {},
   "source": [
    "数学上，集合是由一个或多个确定的具有某种性质的对象所构成的整体。构成集合的这些对象则称为该集合的元素。例如，全中国人的集合，它的元素就是每一个中国人。通常用大写字母如$A$，$B$，$S$，$T$等表示集合，而用小写字母如$a$，$b$，$x$，$y$等表示集合的元素。若$x$是集合$S$的元素，则称$x$属于$S$，记为$x \\in S$。若$y$不是集合$S$的元素，则称$y$不属于$S$，记为$y \\notin S$。\n",
    "\n",
    "集合中元素的数目称为集合的基数，集合A的基数记作$card(A)$。当其为有限大时，集合$A$称为有限集，反之则为无限集。一般的，把含有有限个元素的集合叫做有限集，含无限个元素的集合叫做无限集。"
   ]
  },
  {
   "cell_type": "markdown",
   "id": "5dd87e69",
   "metadata": {},
   "source": [
    "- 有一类特殊的集合，它不包含任何元素，如$\\{x| x\\in R: x^2 +1=0\\}$ ，称之为空集，记为$\\emptyset$。空集是个特殊的集合，它有2个特点：\n",
    "    - 空集∅是任意一个非空集合的真子集。\n",
    "    - 空集是任何一个集合的子集。\n",
    "- 设$S$，$T$是两个集合，如果$S$的所有元素都属于$T$ ，即$x \\in S \\Rightarrow x \\in T$，则称$S$是$T$的子集，记为$S \\subseteq T$。显然，对任何集合$S$，都有$S \\subseteq S, \\emptyset \\subseteq S$。其中，符号$\\subseteq$读作包含于，表示该符号左边的集合中的元素全部是该符号右边集合的元素。如果$S$是$T$的一个子集，即$S \\subseteq T$，但在$T$中存在一个元素$x$不属于$S$，即$S \\subset T$，则称$S$是$T$的一个真子集。\n",
    "- 交集是由属于$A$且属于$B$的相同元素组成的集合，记作$A \\cap B$（或$B\\cap A$），读作\"A交B\"（或\"B交A\"），即$A∩B=\\{x|x \\in A,\\mbox{且}x \\in B\\}$。注意交集越交越少。若$A$包含$B$，则$A \\cap B=B$。\n",
    "\n",
    "- 并集是由所有属于集合$A$或属于集合$B$的元素所组成的集合，记作$A \\cup B$（或$B \\cup A$），读作\"A并B\"（或\"B并A\"），即$A \\cup B=\\{x|x\\in A,\\mbox{或}x \\in B\\}$。注意并集越并越多，这与交集的情况正相反。\n",
    "\n",
    "- 补集又可分为相对补集和绝对补集。相对补集由属于A而不属于B的元素组成的集合，称为$B$关于$A$的相对补集，记作$A-B$或$A \\backslash B$，即$A-B=\\{x|x \\in A，\\mbox{且}x \\notin B\\}$。集合$A$关于全集合$U$的相对补集称作$A$的绝对补集，记作$A^\\prime$或$ \\complement_U (A）$或$\\sim A$。有$U^\\prime= \\emptyset$；$\\emptyset^\\prime = U$。\n",
    "\n",
    "- 设有集合$A$，由集合$A$所有子集组成的集合，称为集合$A$的幂集。对于幂集有定理如下：有限集$A$的幂集的基数等于$2$的有限集$A$的基数次幂。"
   ]
  },
  {
   "cell_type": "markdown",
   "id": "aee3c36a",
   "metadata": {},
   "source": [
    "几种标准的数集： **自然数**,  **整数**, **有理数**, **无理数**, **实数**, 和 **复数**.  \n",
    "\n",
    "| 集合名  | 符号  | 描述  |\n",
    "|------|------|------------|\n",
    "|   自然数  | $\\mathbb{N}$| ${\\mathbb{N}} = \\{0, 1, 2, 3, 4, \\cdots\\}$|\n",
    "|   整数    | $\\mathbb{Z}$| ${\\mathbb{Z}} = \\mathbb{W} \\cup \\{-1, -2, -3, \\cdots\\}$|\n",
    "|   有理数  | $\\mathbb{Q}$| ${\\mathbb{Q}} = \\{\\frac{p}{q} : p\\in {\\mathbb{Z}}, q\\in {\\mathbb{Z}} \\backslash \\{0\\}\\}$|\n",
    "|   无理数  | $\\mathbb{I}$| ${\\mathbb{I}}$是由不能表示成整数之比的数组成的集合.|\n",
    "|   实数    | $\\mathbb{R}$| ${\\mathbb{R}} = \\mathbb{Q} \\cup \\mathbb{I}$|\n",
    "|   复数    | $\\mathbb{C}$| ${\\mathbb{C}} = \\{a + bi : a,b\\in {\\mathbb{R}}, i = \\sqrt{-1}\\}$|"
   ]
  },
  {
   "cell_type": "markdown",
   "id": "85cff1ae",
   "metadata": {},
   "source": [
    "**回顾!** 令$S$表示所有满足$x^2 + y^2 = 1$的实数对$(x,y)$构成的集合。利用集合的符号写出$S$。\n",
    "\n",
    "\n",
    "$S = \\{(x,y) : x,y \\in {\\mathbb{R}}, x^2 + y^2 = 1\\}$"
   ]
  },
  {
   "cell_type": "markdown",
   "id": "b38a9f4a",
   "metadata": {},
   "source": [
    "### 矢量"
   ]
  },
  {
   "cell_type": "markdown",
   "id": "b2b81b19",
   "metadata": {},
   "source": [
    "集合${\\mathbb{R}}^n$是所有实数$n$元组构成的集合，可表示为${\\mathbb{R}}^n = \\{(x_1, x_2, x_3, \\cdots, x_n): x_1, x_2, x_3, \\cdots, x_n \\in {\\mathbb{R}}\\}$. \n",
    "\n",
    "以${\\mathbb{R}}^3$为例，它表示了所有实数三元组，即$(x,y,z)$，的集合，可以与三维空间中的点一一对应起来。"
   ]
  },
  {
   "cell_type": "markdown",
   "id": "f50ca360",
   "metadata": {},
   "source": [
    "${\\mathbb{R}}^n$ 中的**矢量**是一个属于${\\mathbb{R}}^n$的$n$元组。它有两种书写方式：行向量和列向量。**行向量**一般的表示方式为$[x_1, x_2, x_3, \\cdots, x_n]$，**列向量**一般的表示方式为$[x_1, x_2, x_3, \\cdots, x_n]^T$，这里的上标$T$表示转置。若未特别说明，**矢量一般是指列矢量**。一般我们还定义**零矢量** 为${\\mathbb{R}}^n$中的全零$n$元组。"
   ]
  },
  {
   "cell_type": "markdown",
   "id": "1b40bc73",
   "metadata": {},
   "source": [
    "**!例** 利用python的numpy包创建行矢量和列矢量，并获得矢量的**形状**."
   ]
  },
  {
   "cell_type": "code",
   "execution_count": 13,
   "id": "2bb3e29c",
   "metadata": {},
   "outputs": [
    {
     "name": "stdout",
     "output_type": "stream",
     "text": [
      "[[ 1 -5  3  2  4]]\n",
      "[[1]\n",
      " [2]\n",
      " [3]\n",
      " [4]]\n",
      "(1, 5)\n",
      "(4, 1)\n",
      "[1 2 3 4 5 6 7]\n",
      "[1 2 3 4 5 6 7]\n",
      "(7,)\n",
      "(7,)\n"
     ]
    }
   ],
   "source": [
    "import numpy as np\n",
    "vector_row = np.array([[1, -5, 3, 2, 4]])\n",
    "vector_column = np.array([[1], \n",
    "                          [2], \n",
    "                          [3], \n",
    "                          [4]])\n",
    "print(vector_row), print(vector_column)\n",
    "print(vector_row.shape)\n",
    "print(vector_column.shape)\n",
    "\n",
    "vrow = np.array([1,2,3,4,5,6,7])\n",
    "vcol = vrow.T\n",
    "print(vrow),print(vcol)\n",
    "\n",
    "print(vrow.shape)\n",
    "print(vcol.shape)"
   ]
  },
  {
   "cell_type": "code",
   "execution_count": 3,
   "id": "31ea8be3",
   "metadata": {},
   "outputs": [
    {
     "name": "stdout",
     "output_type": "stream",
     "text": [
      "(3, 4)\n",
      "(3, 3, 2)\n",
      "(3,)\n"
     ]
    },
    {
     "name": "stderr",
     "output_type": "stream",
     "text": [
      "/var/folders/vx/qqb0fxy10w7gw7s5kqcyx5cw0000gn/T/ipykernel_53631/1044323608.py:17: VisibleDeprecationWarning: Creating an ndarray from ragged nested sequences (which is a list-or-tuple of lists-or-tuples-or ndarrays with different lengths or shapes) is deprecated. If you meant to do this, you must specify 'dtype=object' when creating the ndarray.\n",
      "  vec_class  = np.array([\n"
     ]
    }
   ],
   "source": [
    "import numpy as np\n",
    "\n",
    "vec_class  = np.array([\n",
    "    [1,2,34,5],\n",
    "    [3,2,1,4],\n",
    "    [1,5,2,3]\n",
    "])\n",
    "print(vec_class.shape)\n",
    "\n",
    "vec_class  = np.array([\n",
    "    [[1,2],[1,2],[1,2]],\n",
    "    [[3,2],[1,4],[5,5]],\n",
    "    [[1,5],[2,3],[2,4]]\n",
    "])\n",
    "print(vec_class.shape)\n",
    "\n",
    "vec_class  = np.array([\n",
    "    [[1,2],[1,2],[1,2]],\n",
    "    [[3,2],[1,4],[5,5]],\n",
    "    [[1,5],[2,3]]\n",
    "])\n",
    "print(vec_class.shape)"
   ]
  },
  {
   "cell_type": "markdown",
   "id": "26fa0788",
   "metadata": {},
   "source": [
    "**! 注意** 在numpy中，1维数组（array）和二维数组是有一些不一样的。二维数组可以进行转置获得行矢量和列矢量的转换，而一维数组虽然可以进行转置，但并未获得任何不同结果。"
   ]
  },
  {
   "cell_type": "markdown",
   "id": "d62aba83",
   "metadata": {},
   "source": [
    "**矢量加法** 定义为两个被加矢量的对应分量的分别相加。例如，如果$v$和$w$是${\\mathbb{R}}^n$中的两个矢量，那么$u = v + w$定义为$u_i = v_i + w_i,\\ i = 1,2,\\cdots, n$."
   ]
  },
  {
   "cell_type": "markdown",
   "id": "a56dc77e",
   "metadata": {},
   "source": [
    "**矢量数乘** 表示一个矢量与一个**标量**(如${\\mathbb{R}}$中的一个实数)的乘积，其定义为矢量的每个元素与标量的乘积。若$\\alpha$是一个标量，$v$是一个矢量，则$u = \\alpha v$定义为$u_i = \\alpha v_i,\\ i = 1,2,\\cdots, n$."
   ]
  },
  {
   "cell_type": "markdown",
   "id": "9b44c0c8",
   "metadata": {},
   "source": [
    "**！例!** 证明 $a(v + w) = av + aw$。"
   ]
  },
  {
   "cell_type": "markdown",
   "id": "86c758f2",
   "metadata": {},
   "source": [
    "**矢量点乘** 又称为两个矢量的内积，表示两个矢量$v$和$w$对应分量之间的乘积的和，记为$v \\cdot w$。具体而言，对于${\\mathbb{R}}^n$中的两个矢量$v$和$w$，$d = v\\cdot w$定义为\n",
    "$$d = \\sum_{i = 1}^{n} v_i w_i$$"
   ]
  },
  {
   "cell_type": "markdown",
   "id": "f82df305",
   "metadata": {},
   "source": [
    "**矢量之间的夹角**， $\\theta$，定义为\n",
    "\n",
    "$$\n",
    "v \\cdot w = \\sqrt{v \\cdot v} \\sqrt{w \\cdot w} \\cos{\\theta}\n",
    "$$"
   ]
  },
  {
   "cell_type": "markdown",
   "id": "529bba6d",
   "metadata": {},
   "source": [
    "如果两个矢量相互垂直，则矢量之间的夹角为$0$。"
   ]
  },
  {
   "cell_type": "markdown",
   "id": "d50f5c0c",
   "metadata": {},
   "source": [
    "**！例 ！** 计算矢量 $v = [10, 9, 3]$ 和 $w = [2, 5, 12]$ 之间的夹角。 "
   ]
  },
  {
   "cell_type": "code",
   "execution_count": 25,
   "id": "57d482f5",
   "metadata": {},
   "outputs": [
    {
     "name": "stdout",
     "output_type": "stream",
     "text": [
      "[[0.97992471]]\n",
      "[[101]]\n",
      "[[ 20  50 120]\n",
      " [ 18  45 108]\n",
      " [  6  15  36]]\n"
     ]
    }
   ],
   "source": [
    "import numpy as np\n",
    "import numpy.linalg as npl\n",
    "\n",
    "v = np.array([[10, 9, 3]])\n",
    "w = np.array([[2, 5, 12]])\n",
    "theta = np.arccos(np.dot(v, w.T)/(npl.norm(v)*npl.norm(w)))\n",
    "print(theta)\n",
    "print(np.dot(v,w.T))\n",
    "print(np.dot(v.T,w))\n",
    "# print(np.dot(v,w))"
   ]
  },
  {
   "cell_type": "code",
   "execution_count": 23,
   "id": "e6a5c212",
   "metadata": {
    "scrolled": true
   },
   "outputs": [
    {
     "name": "stdout",
     "output_type": "stream",
     "text": [
      "101\n"
     ]
    }
   ],
   "source": [
    "import numpy as np\n",
    "import numpy.linalg as npl\n",
    "\n",
    "v = np.array([10, 9, 3])\n",
    "w = np.array([2, 5, 12])\n",
    "\n",
    "print(np.dot(v,w))"
   ]
  },
  {
   "cell_type": "markdown",
   "id": "674e2202",
   "metadata": {},
   "source": [
    "两个矢量$v$和$w$ 的 **矢量叉积** 写作 $v \\times w$，定义为 $v \\times w = \\mathbf{n} \\sqrt{v \\cdot v} \\sqrt{w \\cdot w} \\sin\\theta $。其中$\\theta$是两个矢量$v$和$w$之间的夹角， **$n$** 是一个与$v$和$w$同时垂直的矢量。"
   ]
  },
  {
   "cell_type": "markdown",
   "id": "3df01cd7",
   "metadata": {},
   "source": [
    "**！例！** 给定矢量$v = [0, 2, 0]$ 和 $w = [3, 0, 0]$, 计算$v$和$w$ 的叉积。"
   ]
  },
  {
   "cell_type": "code",
   "execution_count": 26,
   "id": "7cdb00ba",
   "metadata": {
    "scrolled": true
   },
   "outputs": [
    {
     "name": "stdout",
     "output_type": "stream",
     "text": [
      "[[ 0  0 -6]]\n"
     ]
    }
   ],
   "source": [
    "v = np.array([[0, 2, 0]])\n",
    "w = np.array([[3, 0, 0]])\n",
    "print(np.cross(v, w))"
   ]
  },
  {
   "cell_type": "markdown",
   "id": "9db7800a",
   "metadata": {},
   "source": [
    "考虑$S$是一个定义了加法和数乘的集合，则$S$的**线性组合**定义为\n",
    "$$\n",
    "\\sum \\alpha_i s_i,\n",
    "$$\n",
    "其中$\\alpha_i$是任意实数，$s_i$是$S$的第$i$个元素。$\\alpha_i$也称为$s_i$的**系数**。\n",
    "\n",
    "一个集合称为**线性无关** （**linearly independent**），如果其中的任何一个元素都不能表示为其他元素的线性组合。本课程中我们一般涉及矢量的线性无关。一个矢量的集合如果不是线性无关，则称为线性相关。"
   ]
  },
  {
   "cell_type": "markdown",
   "id": "c17229e2",
   "metadata": {},
   "source": [
    "**！ 例 ！** 给定行矢量 $v = [0, 3, 2]$，$w = [4, 1, 1]$，和 $u = [0, -2, 0]$，将矢量$x = [-8, -1, 4]$表示为$v$， $w$，和 $u$的线性组合。"
   ]
  },
  {
   "cell_type": "code",
   "execution_count": 27,
   "id": "f288b306",
   "metadata": {
    "scrolled": true
   },
   "outputs": [
    {
     "name": "stdout",
     "output_type": "stream",
     "text": [
      "[[-8 -1  4]]\n"
     ]
    }
   ],
   "source": [
    "v = np.array([[0, 3, 2]])\n",
    "w = np.array([[4, 1, 1]])\n",
    "u = np.array([[0, -2, 0]])\n",
    "x = 3*v-2*w+4*u\n",
    "print(x)"
   ]
  },
  {
   "cell_type": "markdown",
   "id": "fe788685",
   "metadata": {},
   "source": [
    "**！ 例 ！** 确定以下矢量是否线性无关：$v = [1, 1, 0]$， $w = [1, 0, 0]$，和$u = [0, 0, 1]$.\n",
    "\n",
    "Clearly $u$ is linearly independent from $v$ and $w$ because only $u$ has a nonzero third element. The vectors $v$ and $w$ are also linearly independent because only $v$ has a nonzero second element. Therefore, $v, w$, and $u$ are linearly independent."
   ]
  },
  {
   "cell_type": "markdown",
   "id": "5bf33cfd",
   "metadata": {},
   "source": [
    "### 矩阵"
   ]
  },
  {
   "cell_type": "markdown",
   "id": "9fcc6964",
   "metadata": {},
   "source": [
    "一个${m} \\times {n}$ **矩阵**是一个$m$行$n$列的矩形数据表。一般用$\\mathbb{R}^{m \\times n}$表示全部${m} \\times {n}$实矩阵的矢量空间，用$\\mathbb{C}^{m \\times n}$表示全部${m} \\times {n}$复矩阵的矢量空间。"
   ]
  },
  {
   "cell_type": "markdown",
   "id": "31c06a3b",
   "metadata": {},
   "source": [
    "$$\n",
    "\\mathbf{A} \\in \\mathbb{R}^{m \\times n} \\Leftrightarrow \\mathbf{A} = (a_{ij}) = \\begin{pmatrix}\n",
    "    a_{11} & a_{12} & \\cdots & a_{1n} \\\\\n",
    "    a_{21} & a_{22} & \\cdots & a_{2n} \\\\\n",
    "    \\vdots & \\vdots & \\ddots & \\vdots \\\\\n",
    "    a_{n1} & a_{n2} & \\cdots & a_{nn} \\\\\n",
    "\\end{pmatrix}\n",
    "$$"
   ]
  },
  {
   "cell_type": "markdown",
   "id": "ac3eb0ab",
   "metadata": {},
   "source": [
    "#### 矩阵的基本运算"
   ]
  },
  {
   "cell_type": "markdown",
   "id": "ea60604d",
   "metadata": {},
   "source": [
    "- 矩阵加法"
   ]
  },
  {
   "cell_type": "markdown",
   "id": "3a886cdc",
   "metadata": {},
   "source": [
    "$$\n",
    "   \\mathbf{C} = \\mathbf{A}  +  \\mathbf{B},\\quad c_{ij} = a_{ij} + b_{ij},\\quad \\mathbf{A},\\ \\mathbf{B},\\ \\mathbf{C} \\in \\mathbb{R}^{m \\times n}\n",
    "$$"
   ]
  },
  {
   "cell_type": "markdown",
   "id": "a489c340",
   "metadata": {},
   "source": [
    "- 矩阵与标量的乘法"
   ]
  },
  {
   "cell_type": "markdown",
   "id": "3e1e1ab8",
   "metadata": {},
   "source": [
    "$$\n",
    "   \\mathbf{C} = \\alpha \\mathbf{A},\\quad c_{ij} = \\alpha a_{ij}\n",
    "$$"
   ]
  },
  {
   "cell_type": "markdown",
   "id": "561e240b",
   "metadata": {},
   "source": [
    "- 矩阵与矩阵的乘法"
   ]
  },
  {
   "cell_type": "markdown",
   "id": "1fb2069e",
   "metadata": {},
   "source": [
    "$$\n",
    "   \\mathbf{C} = \\mathbf{A} \\mathbf{B},\\quad c_{ij} = \\sum_{k=1}^{n} a_{ik} b_{kj},\\quad \\mathbf{A}\\in \\mathbb{R}^{m \\times n},\\ \\mathbf{B}\\in \\mathbb{R}^{n \\times p},\\ \\mathbf{C} \\in \\mathbb{R}^{m \\times p}\n",
    "$$"
   ]
  },
  {
   "cell_type": "markdown",
   "id": "87ef6fcb",
   "metadata": {},
   "source": [
    "- 矩阵的转置"
   ]
  },
  {
   "cell_type": "markdown",
   "id": "6b61c74d",
   "metadata": {},
   "source": [
    "$$\n",
    "   \\mathbf{A} \\in \\mathbb{R}^{m \\times n},\\quad \\mathbf{C} = \\mathbf{A}^T ,\\quad c_{ij} = a_{ji}\n",
    "$$"
   ]
  },
  {
   "cell_type": "markdown",
   "id": "04756f71",
   "metadata": {},
   "source": [
    "- 单位矩阵"
   ]
  },
  {
   "cell_type": "markdown",
   "id": "2b3b1b4b",
   "metadata": {},
   "source": [
    "$$\n",
    "\\mathbf{I} = \\begin{pmatrix}\n",
    "       1   &    0   & \\cdots &    0    \\\\\n",
    "       0   &    1    & \\cdots &    0    \\\\\n",
    "    \\vdots & \\vdots & \\ddots & \\vdots \\\\\n",
    "       0   &    0   & \\cdots &    1    \\\\\n",
    "\\end{pmatrix}$$"
   ]
  },
  {
   "cell_type": "markdown",
   "id": "3d3ebacf",
   "metadata": {},
   "source": [
    "- 非奇异矩阵"
   ]
  },
  {
   "cell_type": "markdown",
   "id": "d00471d6",
   "metadata": {},
   "source": [
    "设$\\mathbf{A} \\in \\mathbb{R}^{n \\times n}$，$\\mathbf{B} \\in \\mathbb{R}^{n \\times n}$。如果$\\mathbf{A} \\mathbf{B} = \\mathbf{B} \\mathbf{A} = \\mathbf{I}$，则称$\\mathbf{B}$是$\\mathbf{A}$的**逆矩阵**，记为$\\mathbf{A}^{-1}$，且$(\\mathbf{A}^{-1})^T = (\\mathbf{A}^T)^{-1}$。\n",
    "\n",
    "如果$\\mathbf{A}^{-1}$存在，则称$\\mathbf{A}$为**非奇异矩阵**。如果$\\mathbf{A},\\mathbf{B} \\in \\mathbb{R}^{n \\times n}$均为非奇异矩阵，则$(\\mathbf{A}\\mathbf{B})^{-1} = \\mathbf{B}^{-1}\\mathbf{A}^{-1}$。"
   ]
  },
  {
   "cell_type": "markdown",
   "id": "1d0a1bdb",
   "metadata": {},
   "source": [
    "- 矩阵的行列式"
   ]
  },
  {
   "cell_type": "markdown",
   "id": "db569242",
   "metadata": {},
   "source": [
    "设$\\mathbf{A} \\in \\mathbb{R}^{n \\times n}$，则$\\mathbf{A}$的行列式可按任一行或一列展开，即\n",
    "$$\n",
    "det(\\mathbf{A}) = \\sum_{j=1}^{n} a_{ij}A_{ij},\\quad i=1,2,\\cdots, n,\n",
    "$$\n",
    "其中$A_{ij}$为$a_{ij}$的代数余子式，$A_{ij} = (-1)^{i+j} M_{ij}$，$M_{ij}$为元素$a_{ij}$的余子式。\n",
    "\n",
    "在$n$阶行列式中，划去元$a_{ij}$所在的第$i$行与第$j$列的元，剩下的元不改变原来的顺序所构成的$n-1$阶行列式称为元$a_{ij}$的余子式。"
   ]
  },
  {
   "cell_type": "markdown",
   "id": "307bbba1",
   "metadata": {},
   "source": [
    "**! 例 !** Let the Python matrices $P = [[1, 7], [2, 3], [5, 0]]$ and $Q = [[2, 6, 3, 1], [1, 2, 3, 4]]$. Compute the matrix product of $P$ and $Q$. Show that the product of $Q$ and $P$ will produce an error.\n",
    "$$\n",
    "  P = \\begin{pmatrix}\n",
    "      1 & 7 \\\\\n",
    "      2 & 3 \\\\\n",
    "      5 & 0 \\\\\n",
    "  \\end{pmatrix},\\quad\n",
    "  Q = \\begin{pmatrix}\n",
    "      2 & 6 & 3 & 1 \\\\\n",
    "      1 & 2 & 3 & 4 \\\\\n",
    "  \\end{pmatrix}\n",
    "$$\n"
   ]
  },
  {
   "cell_type": "code",
   "execution_count": 5,
   "id": "c4a15acc",
   "metadata": {},
   "outputs": [
    {
     "name": "stdout",
     "output_type": "stream",
     "text": [
      "[[1 7]\n",
      " [2 3]\n",
      " [5 0]]\n",
      "[[2 6 3 1]\n",
      " [1 2 3 4]]\n",
      "[[ 9 20 24 29]\n",
      " [ 7 18 15 14]\n",
      " [10 30 15  5]]\n"
     ]
    },
    {
     "ename": "ValueError",
     "evalue": "operands could not be broadcast together with shapes (3,2) (2,4) ",
     "output_type": "error",
     "traceback": [
      "\u001b[0;31m---------------------------------------------------------------------------\u001b[0m",
      "\u001b[0;31mValueError\u001b[0m                                Traceback (most recent call last)",
      "Input \u001b[0;32mIn [5]\u001b[0m, in \u001b[0;36m<cell line: 7>\u001b[0;34m()\u001b[0m\n\u001b[1;32m      5\u001b[0m \u001b[38;5;28mprint\u001b[39m(np\u001b[38;5;241m.\u001b[39mdot(P, Q))\n\u001b[1;32m      6\u001b[0m \u001b[38;5;66;03m# np.dot(Q, P)\u001b[39;00m\n\u001b[0;32m----> 7\u001b[0m \u001b[43mP\u001b[49m\u001b[38;5;241;43m*\u001b[39;49m\u001b[43mQ\u001b[49m\n",
      "\u001b[0;31mValueError\u001b[0m: operands could not be broadcast together with shapes (3,2) (2,4) "
     ]
    }
   ],
   "source": [
    "P = np.array([[1, 7], [2, 3], [5, 0]])\n",
    "Q = np.array([[2, 6, 3, 1], [1, 2, 3, 4]])\n",
    "print(P)\n",
    "print(Q)\n",
    "print(np.dot(P, Q))\n",
    "# np.dot(Q, P)\n",
    "P*Q"
   ]
  },
  {
   "cell_type": "markdown",
   "id": "f4374c30",
   "metadata": {},
   "source": [
    "**TRY IT!** Use Python to find the determinant of the matrix $M = [[0, 2, 1, 3], [3, 2, 8, 1], [1, 0, 0, 3], [0, 3, 2, 1]]$. Use the *np.eye* function to produce a ${4} \\times {4}$ identity matrix, $I$. Multiply $M$ by $I$ to show that the result is $M$."
   ]
  },
  {
   "cell_type": "code",
   "execution_count": 29,
   "id": "e0317666",
   "metadata": {
    "scrolled": true
   },
   "outputs": [
    {
     "name": "stdout",
     "output_type": "stream",
     "text": [
      "M:\n",
      " [[0 2 1 3]\n",
      " [3 2 8 1]\n",
      " [1 0 0 3]\n",
      " [0 3 2 1]]\n",
      "Determinant: -38.0\n",
      "I:\n",
      " [[1. 0. 0. 0.]\n",
      " [0. 1. 0. 0.]\n",
      " [0. 0. 1. 0.]\n",
      " [0. 0. 0. 1.]]\n",
      "M*I:\n",
      " [[0. 2. 1. 3.]\n",
      " [3. 2. 8. 1.]\n",
      " [1. 0. 0. 3.]\n",
      " [0. 3. 2. 1.]]\n"
     ]
    }
   ],
   "source": [
    "import numpy.linalg as npl\n",
    "\n",
    "M = np.array([[0,2,1,3], \n",
    "             [3,2,8,1], \n",
    "             [1,0,0,3],\n",
    "             [0,3,2,1]])\n",
    "print('M:\\n', M)\n",
    "\n",
    "print('Determinant: %.1f'%npl.det(M))\n",
    "I = np.eye(4)\n",
    "print('I:\\n', I)\n",
    "print('M*I:\\n', np.dot(M, I))"
   ]
  },
  {
   "cell_type": "markdown",
   "id": "b96b2928",
   "metadata": {},
   "source": [
    "**! 例 !** The matrix $M$ (in the previous example) has a nonzero determinant. Compute the inverse of $M$. Show that the matrix $P = [[0, 1, 0], [0, 0, 0], [1, 0, 1]]$ has a determinant value of 0 and therefore has no inverse."
   ]
  },
  {
   "cell_type": "code",
   "execution_count": 30,
   "id": "493dd864",
   "metadata": {},
   "outputs": [
    {
     "name": "stdout",
     "output_type": "stream",
     "text": [
      "Inv M:\n",
      " [[-1.57894737 -0.07894737  1.23684211  1.10526316]\n",
      " [-0.63157895 -0.13157895  0.39473684  0.84210526]\n",
      " [ 0.68421053  0.18421053 -0.55263158 -0.57894737]\n",
      " [ 0.52631579  0.02631579 -0.07894737 -0.36842105]]\n",
      "det(p):\n",
      " 0.0\n"
     ]
    }
   ],
   "source": [
    "from numpy.linalg import inv\n",
    "\n",
    "print('Inv M:\\n', inv(M))\n",
    "P = np.array([[0,1,0],\n",
    "              [0,0,0],\n",
    "              [1,0,1]])\n",
    "print('det(p):\\n', det(P))"
   ]
  },
  {
   "cell_type": "markdown",
   "id": "b6cd7a87",
   "metadata": {},
   "source": [
    "### 线性变换"
   ]
  },
  {
   "cell_type": "markdown",
   "id": "73961497",
   "metadata": {},
   "source": [
    "对于矢量$x$和$y$，以及标量$a$和$b$而言，函数，$F$，称为**线性变换**，如果它满足\n",
    "$$\n",
    "F(a x + by) = aF(x) + bF(y)\n",
    "$$"
   ]
  },
  {
   "cell_type": "markdown",
   "id": "ffe12e0c",
   "metadata": {},
   "source": [
    "对于一个${m} \\times {n}$的矩阵$A$而言，它可以看作是一个线性变换，讲一个${n} \\times {1}$的矢量$v$通过矩阵乘法变换为一个${m} \\times {1}$的矢量。"
   ]
  },
  {
   "cell_type": "markdown",
   "id": "6a423aac",
   "metadata": {},
   "source": [
    "对于一个${m} \\times {n}$的矩阵$A$而言，有两个重要的关联空间：${\\mathbb{R}}^n$和${\\mathbb{R}}^m$。$A$的**定义域**是${\\mathbb{R}}^n$的子空间，是所有能够与矩阵$A$进行乘积的矢量的集合。$A$的**值域**是${\\mathbb{R}}^m$的子空间，是所有能够表示成$y=Ax$的矢量$y$的集合，其中$x\\in{\\mathbb{R}}^n$。"
   ]
  },
  {
   "cell_type": "markdown",
   "id": "f55f73bf",
   "metadata": {},
   "source": [
    "$A$的**值域**可以表示为$\\mathcal{R}(\\mathbf{A})$，其中 $\\mathcal{R}(\\mathbf{A}) = \\{y \\in {\\mathbb{R}}^m: Ax = y\\}$。值域的另一种理解方式是矩阵$A$中所有列矢量的所有线性组合的集合。"
   ]
  },
  {
   "cell_type": "markdown",
   "id": "c840642b",
   "metadata": {},
   "source": [
    "**矩阵$A$的零空间** 定义为$\\mathcal{N}(\\mathbf{A}) = \\{x \\in {\\mathbb{R}}^n: Ax = 0_m\\}$，是$A$的**定义域**的子空间，其中$0_m$是**零矢量** (所有分量都为$0$)."
   ]
  },
  {
   "cell_type": "markdown",
   "id": "efb821df",
   "metadata": {},
   "source": [
    "**! 例 !** 设$A = [[1, 0, 0], [0, 1, 0], [0, 0, 0]]$，令$A$的定义域为${\\mathbb{R}}^3$. 求$A$的值域和零空间.\n",
    "  \n",
    "Let $v = [x,y,z]$ be a vector in ${\\mathbb{R}}^3$. Then $u = Av$ is the vector $u = [x,y,0]$. Since $x,y\\in {\\mathbb{R}}$, the range of $A$ is the $x$-$y$ plane at $z = 0$.\n",
    "\n",
    "Let $v = [0,0,z]$ for $z\\in {\\mathbb{R}}$. Then $u = Av$ is the vector $u = [0, 0, 0]$. Therefore, the nullspace of $A$ is the $z$-axis (i.e., the set of vectors $[0,0,z]$ $z\\in {\\mathbb{R}}$).\n",
    "\n",
    "Therefore, this linear transformation \"flattens\" any $z$-component from a vector."
   ]
  },
  {
   "cell_type": "markdown",
   "id": "282e7793",
   "metadata": {},
   "source": [
    "### 矢量空间、矢量与范数"
   ]
  },
  {
   "cell_type": "markdown",
   "id": "ce55509a",
   "metadata": {},
   "source": [
    "#### 矢量空间\n",
    "\n",
    "矢量空间的定义必须依赖一个**域$\\mathbb{F}$ (field)** ．简单来说，域就是能进行加减乘除的对象的一个集合，比如实数域域$\\mathbb{R}$和复数域域$\\mathbb{C}$．这个域本身被称为该矢量空间的**标量域（scalar field）**或**标域**，它的元素被称为矢量空间的标量（scalar），它们不是矢量空间的元素，但是可以用来和矢量进行数乘．那么，我们就说矢量空间是 “域$\\mathbb{F}$上的”．矢量空间选择的域几乎都是$\\mathbb{R}$或$\\mathbb{C}$，即讨论的是实数（或复数）域上的矢量空间．所以即使我们不了解域的具体定义也没关系，只要知道实数和复数是两种常见的域就足够了．"
   ]
  },
  {
   "cell_type": "markdown",
   "id": "3af442f0",
   "metadata": {},
   "source": [
    "**!定义 1!**　<font color='red'>矢量空间</font> 标量域$\\mathbb{F}$上的矢量空间定义了矢量的集合$X$、两个矢量间的加法运算$X \\times X \\to X$以及标量和矢量间的数乘运算$F \\times X \\to X$。令矢量$u,v,w \\in X$，标量$\\lambda, \\mu \\in F$，矢量加法记为$u \\bigoplus v$，数乘记为$\\lambda \\bigodot u$．两种运算必须满足以下性质：\n",
    "\n",
    "- 加法运算\n",
    "    1. 满足加法交换律  $u \\bigoplus v = v \\bigoplus u$．\n",
    "    1. 满足加法结合律  $(u \\bigoplus v ) \\bigoplus w = u \\bigoplus ( v \\bigoplus w )$ ．\n",
    "    1. 存在零矢量，使得 $v \\bigoplus 0 = v$ ．\n",
    "    1. 空间中任意矢量$v$  存在逆矢量  $− v$ ，使得  $v \\bigoplus ( − v ) = 0$ ．\n",
    "- 数乘运算\n",
    "    1. 乘法分配律 $\\lambda \\bigodot ( u \\bigoplus v ) = (\\lambda \\bigodot u) \\bigoplus (\\lambda \\bigodot v)$ \n",
    "    1. 乘法分配律 $( \\lambda + \\mu ) v = (\\lambda \\bigodot v) \\bigoplus (\\mu \\bigodot v)$\n",
    "    1. 乘法结合律 $\\lambda \\bigodot  ( \\mu \\bigodot v ) = (\\lambda \\cdot \\mu) \\bigodot v$\n",
    "    1. 存在数量$1$， 使得 $1\\bigodot u = u$\n",
    "    \n",
    "注意，上述式子重，$+$和$\\cdot$ 是定义在域$\\mathbb{F}$上的四则运算。"
   ]
  },
  {
   "cell_type": "markdown",
   "id": "4ad668ca",
   "metadata": {},
   "source": [
    "矢量空间中的元素之间的线性组合所得到的元素仍然属于矢量空间。因此，矢量空间通常也称为线性空间。"
   ]
  },
  {
   "cell_type": "markdown",
   "id": "7d87d686",
   "metadata": {},
   "source": [
    "矢量空间的定义非常抽象，实际上工程中经常遇到的数学对象多半可以看作是矢量空间的元素。\n",
    "- 一般定义里的矢量\n",
    "- 矩阵\n",
    "- 。。。"
   ]
  },
  {
   "cell_type": "markdown",
   "id": "c60a0ae8",
   "metadata": {},
   "source": [
    "#### 矢量空间的范数"
   ]
  },
  {
   "cell_type": "markdown",
   "id": "516735d9",
   "metadata": {},
   "source": [
    "**范数(norm)** 可以看作几何矢量的模长在一般矢量空间上的拓展．"
   ]
  },
  {
   "cell_type": "markdown",
   "id": "e60fb3a3",
   "metadata": {},
   "source": [
    "**!定义 2!**  设$X$是实数或复数域上的矢量空间。$X$上的范数是满足如下条件的非负函数$\\Vert \\cdot \\Vert$:\n",
    "1. $\\Vert x \\Vert \\geq 0$(正定)\n",
    "1. $\\Vert x \\Vert = 0$ 当且仅当$x=0$\n",
    "1. $\\Vert \\lambda x \\Vert = \\left| \\lambda \\right| \\Vert x \\Vert$，对任意$\\lambda \\in \\mathbb{F}$，$x \\in \\mathbb{R}^n$\n",
    "1. $\\Vert x_1 + x_2 \\Vert \\leq \\Vert x_1 \\Vert + \\Vert x_2 \\Vert$（三角不等式）\n",
    "\n",
    "如果一个矢量空间中定义了范数，我们就把它称为**赋范空间（normed space）**．"
   ]
  },
  {
   "cell_type": "markdown",
   "id": "f1ea9210",
   "metadata": {},
   "source": [
    "$\\mathbb{R}^n$空间上常见的向量范数：\n",
    "- $1$-范数 ($L_1$范数)：\n",
    "\n",
    "\\begin{equation}\n",
    "    \\Vert x \\Vert_1 = \\sum_{i=1}^n |x_i| = |x_1| + |x_2| + \\cdots + |x_n|\n",
    "\\end{equation}\n",
    "    \n",
    "- $2$-范数 ($L_2$范数)： \n",
    "    \n",
    "$$\\Vert x \\Vert_2 = \\left( \\sum_{i=1}^n x_i^2 \\right)^{1/2} = \\sqrt{x_1^2 + x_2^2 + \\cdots + x_n^2}  $$ \n",
    "    \n",
    "- $p$-范数 ($L_p$范数)： \n",
    "    \n",
    "$$\\Vert x \\Vert_p = \\left( \\sum_{i=1}^n |x_i|^p \\right)^{1/p}  = \\sqrt[p]{|x_1|^p + |x_2|^p + \\cdots + |x_n|^p} $$  \n",
    "    \n",
    "- $\\infty$-范数（也称为最大范数）($L_\\infty$范数)： \n",
    "    \n",
    "$$\\Vert x \\Vert_\\infty = \\max_{1 \\leq i \\leq n} |x_i| $$  \n",
    "    "
   ]
  },
  {
   "cell_type": "markdown",
   "id": "971165bb",
   "metadata": {},
   "source": [
    "**! 例 !** Transpose the row vector we defined above into a column vector and calculate the $L_1$, $L_2$, and $L_\\infty$ norm of it. Verify that the $L_\\infty$ norm of a vector is equivalent to the maximum value of the elements in the vector."
   ]
  },
  {
   "cell_type": "code",
   "execution_count": 6,
   "id": "aac657e1",
   "metadata": {
    "scrolled": false
   },
   "outputs": [
    {
     "name": "stdout",
     "output_type": "stream",
     "text": [
      "[[ 1]\n",
      " [-5]\n",
      " [ 3]\n",
      " [ 2]\n",
      " [ 4]\n",
      " [ 9]\n",
      " [ 8]\n",
      " [ 7]]\n",
      "L_1 is: 39.0\n",
      "L_2 is: 15.8\n",
      "L_inf is: 9.0\n"
     ]
    }
   ],
   "source": [
    "from numpy.linalg import norm\n",
    "\n",
    "vector_row = np.array([[1,-5,3,2,4,9,8,7]])\n",
    "new_vector = vector_row.T\n",
    "\n",
    "print(new_vector)\n",
    "norm_1   = norm(new_vector, 1)\n",
    "norm_2   = norm(new_vector, 2)\n",
    "norm_inf = norm(new_vector, np.inf)\n",
    "print('L_1 is: %.1f'%norm_1)\n",
    "print('L_2 is: %.1f'%norm_2)\n",
    "print('L_inf is: %.1f'%norm_inf)"
   ]
  },
  {
   "cell_type": "markdown",
   "id": "6d9eacf3",
   "metadata": {},
   "source": [
    "**范数的性质**：\n",
    "- 连续性：设$f$是$\\mathbb{R}^n$上的任一向量范数，则$f$关于$x$的每个分量是连续函数。\n",
    "- 等价性：设$\\Vert \\cdot \\Vert_s$和$\\Vert \\cdot \\Vert_s$是$\\mathbb{R}^n$上的任意两个范数，则存在常数$c_1$和$c_2$，使得对于任意的$x \\in \\mathbb{R}^n$有\n",
    "\\begin{equation*}\n",
    "    c_1 \\Vert x \\Vert_s \\leq \\Vert x \\Vert_t \\leq c_2 \\Vert x \\Vert_s\n",
    "\\end{equation*}\n",
    "- $Cauchy-Schwarz$不等式：\n",
    "$$|(x,y)| \\leq \\Vert x \\Vert_2 \\cdot \\Vert y \\Vert_2$$"
   ]
  },
  {
   "cell_type": "markdown",
   "id": "e2aaf5b3",
   "metadata": {},
   "source": [
    "**！例！** 已知矢量$v= [ 0.1, 0.3, 0.5, 0.8 ]^T$，求$\\Vert v \\Vert_1$，$\\Vert v \\Vert_2$，$\\Vert v \\Vert_4$，和$\\Vert v \\Vert_\\infty$"
   ]
  },
  {
   "cell_type": "code",
   "execution_count": 39,
   "id": "ef730895",
   "metadata": {
    "scrolled": true
   },
   "outputs": [
    {
     "name": "stdout",
     "output_type": "stream",
     "text": [
      "[0.1 0.3 0.5 0.8]\n",
      "L_1 is: 1.7000\n",
      "L_2 is: 0.9950\n",
      "L_4 is: 0.8325\n",
      "L_inf is: 0.8000\n"
     ]
    },
    {
     "data": {
      "text/plain": [
       "0.8324883155696224"
      ]
     },
     "execution_count": 39,
     "metadata": {},
     "output_type": "execute_result"
    }
   ],
   "source": [
    "from numpy.linalg import norm\n",
    "new_vector = np.array([0.1, 0.3, 0.5, 0.8])\n",
    "print(new_vector)\n",
    "norm_1   = norm(new_vector, 1)\n",
    "norm_2   = norm(new_vector, 2)\n",
    "norm_4   = norm(new_vector, 4)\n",
    "norm_inf = norm(new_vector, np.inf)\n",
    "print('L_1 is: %.4f'%norm_1)\n",
    "print('L_2 is: %.4f'%norm_2)\n",
    "print('L_4 is: %.4f'%norm_4)\n",
    "print('L_inf is: %.4f'%norm_inf)\n",
    "ord = 4\n",
    "sum(abs(new_vector)**ord)**(1./ord)"
   ]
  },
  {
   "cell_type": "markdown",
   "id": "5dcf150a",
   "metadata": {},
   "source": [
    "#### 矩阵的范数"
   ]
  },
  {
   "cell_type": "markdown",
   "id": "3af99154",
   "metadata": {},
   "source": [
    "矩阵的范数一般有三种定义方法：一种是将矩阵空间看作是矢量空间，利用矢量空间的范数定义来定义矩阵的范数；另一种是根据矩阵的运算特性，直接定义矩阵范数满足的条件；还有一种定义方式是利用矩阵与普通矢量的乘积来依靠矢量范数的定义导出矩阵范数。"
   ]
  },
  {
   "cell_type": "markdown",
   "id": "f64db5b3",
   "metadata": {},
   "source": [
    "**1. 将矩阵空间看作是矢量空间，定义范数**"
   ]
  },
  {
   "cell_type": "markdown",
   "id": "7bf1c9d2",
   "metadata": {},
   "source": [
    "矢量$1$-范数：\n",
    "$$\\Vert A \\Vert_{1} = \\sum_i^m \\sum_j^n |a_{ij}|^p$$"
   ]
  },
  {
   "cell_type": "markdown",
   "id": "f646970a",
   "metadata": {},
   "source": [
    "$F$-范数($Frobenious$范数)：\n",
    "\\begin{equation}\n",
    "    \\Vert A \\Vert_F = \\left( \\sum_{i=1}^n \\sum_{i=1}^n a_{ij}^2  \\right)^{\\frac{1}{2}}\n",
    "\\end{equation}"
   ]
  },
  {
   "cell_type": "markdown",
   "id": "2025b9e1",
   "metadata": {},
   "source": [
    "矢量$p$-范数：\n",
    "$$\\Vert A \\Vert_{p} = \\sqrt[p]{(\\sum_i^m \\sum_j^n |a_{ij}|^p)}$$"
   ]
  },
  {
   "cell_type": "markdown",
   "id": "c7b89222",
   "metadata": {},
   "source": [
    "矢量$\\infty$-范数：\n",
    "$$\\Vert A \\Vert_{\\infty} = \\max_{i,j}|a_{ij}|$$"
   ]
  },
  {
   "cell_type": "markdown",
   "id": "ca1bf213",
   "metadata": {},
   "source": [
    "**2. 直接定义矩阵的范数**"
   ]
  },
  {
   "cell_type": "markdown",
   "id": "31ae240b",
   "metadata": {},
   "source": [
    "设$f$是$\\mathbb{R}^{n \\times n} \\to \\mathbb{R}$，若$f$满足\n",
    "- <font color=\"blud\">正定性</font>：$f(A) \\leq 0$，$\\forall A \\in \\mathbb{R}^{n \\times n}$，且等号成立当且仅当$A=0$\n",
    "- <font color=\"blud\">齐次性</font>：$f(\\alpha A) = |\\alpha| \\cdot f(A)$，$\\forall A \\in \\mathbb{R}^{n \\times n}$，$\\forall \\alpha \\in \\mathbb{R}$\n",
    "- <font color=\"blud\">三角不等式</font>：$f(A+B) \\leq f(A) + f(B)$\n",
    "- <font color=\"blud\">相容性</font>：$f(AB) \\leq f(A)  f(B)$\n",
    "\n",
    "则称$f$为$\\mathbb{R}^{n \\times n} \\to \\mathbb{R}$上的（矩阵）范数，通常记为$\\Vert \\cdot \\Vert$。"
   ]
  },
  {
   "cell_type": "markdown",
   "id": "a852ebc6",
   "metadata": {},
   "source": [
    "前述定义的$Frobenious$范数就是$\\mathbb{R}^{n \\times n}$上的一个矩阵范数"
   ]
  },
  {
   "cell_type": "markdown",
   "id": "53d1ec55",
   "metadata": {},
   "source": [
    "**3. 基于矢量范数导出的矩阵范数**"
   ]
  },
  {
   "cell_type": "markdown",
   "id": "71e75a43",
   "metadata": {},
   "source": [
    "设$x \\in \\mathbb{R}^{n}$， $\\mathbf{A} \\in \\mathbb{R}^{n \\times n}$，给出一种矢量范数$\\Vert x \\Vert_\\nu$，相应地可以定义一个矩阵的非负函数\n",
    "\n",
    "\\begin{equation}\n",
    "    \\Vert A \\Vert_\\nu = \\sup_{x\\in \\mathbb{R}^n,\\ x \\neq 0} \\frac{\\Vert Ax \\Vert_\\nu}{\\Vert x \\Vert_\\nu} = \\max_{\\Vert x \\Vert_\\nu = 1 }\\Vert Ax \\Vert_\\nu\n",
    "\\end{equation}\n",
    "\n",
    "可以验证，$\\Vert A \\Vert_\\nu$满足上面的矩阵范数的直接定义，所以$\\Vert A \\Vert_\\nu$称为$\\mathbb{R}^{n \\times n}$上矩阵的范数，称为$\\mathbf{A}$的**算子范数**，也称为**从属范数**，**导出范数**。"
   ]
  },
  {
   "cell_type": "markdown",
   "id": "945b5d62",
   "metadata": {},
   "source": [
    "**4. 常见的算子范数**"
   ]
  },
  {
   "cell_type": "markdown",
   "id": "4295fdf3",
   "metadata": {},
   "source": [
    "- $1$-范数(列范数)：\n",
    "\\begin{equation}\n",
    "    \\Vert A \\Vert_1 = \\max_{1 \\leq j \\leq n } \\sum_{i=1}^n |a_{ij}|\n",
    "\\end{equation}\n",
    "\n",
    "- $2$-范数(谱范数)：\n",
    "\\begin{equation}\n",
    "    \\Vert A \\Vert_2 = \\sqrt{\\rho(A^T A)} = \\sqrt{\\lambda_{max}(A^T A)} \n",
    "\\end{equation}\n",
    "\n",
    "- $\\infty$-范数(行范数)：\n",
    "\\begin{equation}\n",
    "    \\Vert A \\Vert_\\infty = \\max_{1 \\leq i \\leq n } \\sum_{j=1}^n |a_{ij}|\n",
    "\\end{equation}"
   ]
  },
  {
   "cell_type": "markdown",
   "id": "fe7cce82",
   "metadata": {},
   "source": [
    "**！例！** 设$A = \\begin{bmatrix}\n",
    "            1   & -2 \\\\\n",
    "            -3  &  4 \\\\\n",
    "        \\end{bmatrix}$\n",
    "        计算$\\Vert A \\Vert_1$，$\\Vert A \\Vert_2$，$\\Vert A \\Vert_\\infty$，$\\Vert A \\Vert_F$。"
   ]
  },
  {
   "cell_type": "markdown",
   "id": "bba53b18",
   "metadata": {},
   "source": [
    "**！解！** \n",
    "\n",
    "\\begin{equation*}\n",
    "    \\Vert A \\Vert_1 = \\max \\{ |1|+|-2|, |-3|+|4| \\} = 7\n",
    "\\end{equation*}\n",
    "\n",
    "\\begin{equation*}\n",
    "    \\Vert A \\Vert_2 = \\sqrt{ \\max \\{ 15 + \\sqrt{221}, 15 - \\sqrt{221} \\} } = \\sqrt{15 + \\sqrt{221}} \\approx 5.46\n",
    "\\end{equation*}\n",
    "\n",
    "\\begin{equation*}\n",
    "    \\Vert A \\Vert_\\infty = \\max \\{ |1|+|-3|, |-2|+|4| \\} = 6\n",
    "\\end{equation*}\n",
    "\n",
    "\\begin{equation*}\n",
    "    \\Vert A \\Vert_F = \\sqrt{1^2 + (-2)^2 + (-3)^2 + (4)^2 } = \\sqrt{30} \\approx 5.477\n",
    "\\end{equation*}"
   ]
  },
  {
   "cell_type": "markdown",
   "id": "21d73da4",
   "metadata": {},
   "source": [
    "**5. 矩阵范数的性质**"
   ]
  },
  {
   "cell_type": "markdown",
   "id": "5671fb9e",
   "metadata": {},
   "source": [
    "- 连续性：设$f$是$\\mathbb{R}^{n \\times n}$上的任一矩阵范数，则$f$关于$A$的每个分量是连续函数。"
   ]
  },
  {
   "cell_type": "markdown",
   "id": "40371ee0",
   "metadata": {},
   "source": [
    "- 等价性：设$\\Vert \\cdot \\Vert_s$和$\\Vert \\cdot \\Vert_s$是$\\mathbb{R}^{n \\times n}$上的任意两个矩阵范数，则存在常数$c_1$和$c_2$，使得对于任意的$x \\in \\mathbb{R}^n$有\n",
    "\\begin{equation*}\n",
    "    c_1 \\Vert x \\Vert_s \\leq \\Vert x \\Vert_t \\leq c_2 \\Vert x \\Vert_s\n",
    "\\end{equation*}"
   ]
  },
  {
   "cell_type": "markdown",
   "id": "aedec422",
   "metadata": {},
   "source": [
    "- 定理：若$A$是对称矩阵，则$\\Vert A \\Vert_2 = \\rho(A)$，其中$\\rho(A) = \\max {|\\lambda_i(A)|}$为矩阵$A$的**谱半径**，是其特征值的绝对值大的那一个的绝对值。"
   ]
  },
  {
   "cell_type": "markdown",
   "id": "f51255c4",
   "metadata": {},
   "source": [
    "- 定理：设$\\Vert \\cdot \\Vert$是$\\mathbb{R}^n$上任意向量范数，其对应的算子范数也记为$\\Vert \\cdot \\Vert$，则有\n",
    "\\begin{equation*}\n",
    "    \\Vert A x \\Vert \\leq \\Vert A \\Vert \\cdot \\Vert x \\Vert\n",
    "\\end{equation*}"
   ]
  },
  {
   "cell_type": "markdown",
   "id": "caec85db",
   "metadata": {},
   "source": [
    "- 定理：设$\\Vert \\cdot \\Vert$是任意算子范数，则\n",
    "$$\\rho(A) \\leq \\Vert A \\Vert$$"
   ]
  },
  {
   "cell_type": "markdown",
   "id": "800a1ce2",
   "metadata": {},
   "source": [
    "- 定理：对任意的$\\epsilon > 0$，总存在一个算子范数$\\Vert \\cdot \\Vert_\\epsilon$，使得\n",
    "\\begin{equation}\n",
    "    \\Vert A \\Vert_\\epsilon \\leq \\rho(A) + \\epsilon\n",
    "\\end{equation}"
   ]
  },
  {
   "cell_type": "markdown",
   "id": "52b3cf21",
   "metadata": {},
   "source": [
    " - 定理：设$\\Vert \\cdot \\Vert$是任意算子范数，若$\\Vert B \\Vert < 1$，则$I \\pm B$非奇异，且\n",
    "\\begin{equation*}\n",
    "    \\left\\Vert (I\\pm B)^{-1} \\right\\Vert \\leq \\frac{1}{ 1 - \\Vert B \\Vert}\n",
    "\\end{equation*}"
   ]
  },
  {
   "cell_type": "markdown",
   "id": "97319150",
   "metadata": {},
   "source": [
    "**6. 矩阵的条件数**"
   ]
  },
  {
   "cell_type": "markdown",
   "id": "15d71319",
   "metadata": {},
   "source": [
    "**！定义！**：考虑线性方程组$A x =b$，如果$A$或者$b$的微小变化会导致解的巨大变化，则称此线性方程组是**病态的**，并称矩阵$A$是**病态的**，反之则称矩阵$A$是良态的。例如下式中，系数矩阵的微小变化造成了最终解的巨大变化，系数矩阵是病态的。\n",
    "\n",
    "$$\n",
    "\\begin{bmatrix}\n",
    "    1 & 1 \\\\\n",
    "    1 & 1.0001 \\\\\n",
    "\\end{bmatrix}\n",
    "\\begin{bmatrix}\n",
    "    x_1 \\\\\n",
    "    x_2\n",
    "\\end{bmatrix}=\n",
    "\\begin{bmatrix}\n",
    "    2 \\\\\n",
    "    2\n",
    "\\end{bmatrix} \\quad \\Longrightarrow \\quad\n",
    "\\begin{bmatrix}\n",
    "    x_1 \\\\\n",
    "    x_2\n",
    "\\end{bmatrix}=\n",
    "\\begin{bmatrix}\n",
    "    2 \\\\\n",
    "    0\n",
    "\\end{bmatrix}\n",
    "$$\n",
    "\n",
    "$$\n",
    "\\begin{bmatrix}\n",
    "    1 & 1 \\\\\n",
    "    1 & 1.0001\n",
    "\\end{bmatrix}\n",
    "\\begin{bmatrix}\n",
    "    x_1 \\\\\n",
    "    x_2\n",
    "\\end{bmatrix}=\n",
    "\\begin{bmatrix}\n",
    "    2 \\\\\n",
    "    2.0001\n",
    "\\end{bmatrix} \\quad \\Longrightarrow \\quad\n",
    "\\begin{bmatrix}\n",
    "    x_1 \\\\\n",
    "    x_2\n",
    "\\end{bmatrix}=\n",
    "\\begin{bmatrix}\n",
    "    1 \\\\\n",
    "    1\n",
    "\\end{bmatrix}\n",
    "$$"
   ]
  },
  {
   "cell_type": "markdown",
   "id": "cc18ccd8",
   "metadata": {},
   "source": [
    "**！矩阵的条件数！** ：设$A$非奇异，则称\n",
    "\n",
    "\\begin{equation}\n",
    "  Cond(A) _s = \\Vert A^{-1} \\Vert_s \\Vert A \\Vert_s\n",
    "\\end{equation}\n",
    "\n",
    "为$A$的条件数，其中$s$是$1$，$2$或$\\infty$。"
   ]
  },
  {
   "cell_type": "markdown",
   "id": "96267520",
   "metadata": {},
   "source": [
    "**！定理！**：考虑线性方程组$A x = b$，设$A$是精确的，$b$有微小的扰动$\\delta b$，新的方程组的解为$x + \\delta x$，即$A(x + \\delta x) = b + \\delta b$，则\n",
    "\n",
    "\\begin{equation}\n",
    "    \\frac{\\Vert \\delta x \\Vert}{\\Vert x \\Vert} \\leq \\left\\Vert A^{-1} \\right\\Vert \\left\\Vert A \\right\\Vert \\frac{\\Vert \\delta b \\Vert}{\\Vert b \\Vert}\n",
    "\\end{equation}"
   ]
  },
  {
   "cell_type": "markdown",
   "id": "8a3864a5",
   "metadata": {},
   "source": [
    "**！定理！**：考虑线性方程组$A x = b$，设$b$是精确的，$A$有微小的扰动$\\delta A$，新的方程组的解为$x + \\delta x$。假定$ \\left\\Vert A^{-1} \\right\\Vert \\left\\Vert \\delta A \\right\\Vert < 1 $，则\n",
    "\n",
    "\\begin{equation}\n",
    "    \\frac{\\Vert \\delta x \\Vert}{\\Vert x \\Vert} \\leq \\frac{\\left\\Vert A^{-1} \\right\\Vert \\left\\Vert A \\right\\Vert \\frac{\\Vert \\delta A \\Vert}{\\Vert A \\Vert}}{ 1 - \\left\\Vert A^{-1} \\right\\Vert \\left\\Vert A \\right\\Vert \\frac{\\Vert \\delta A \\Vert}{\\Vert A \\Vert}}\n",
    "\\end{equation}\n",
    "\n",
    "\n",
    "- 当$\\delta A$充分小时，不等式右端约为$\\left\\Vert A^{-1} \\right\\Vert \\left\\Vert A \\right\\Vert \\frac{\\Vert \\delta A \\Vert}{\\Vert A \\Vert}$\n",
    "- 通常，当$A$的条件数较大时，就称$A$是病态的\n",
    "- 一般来说，条件数越大，病态越严重，此时就越难用一般方法求得线性方程组的比较精确的解。\n"
   ]
  },
  {
   "cell_type": "markdown",
   "id": "390f9325",
   "metadata": {},
   "source": [
    "**！条件数的基本性质！**\n",
    "- $Cond(A) \\geq 1$\n",
    "- $Cond(\\alpha A) = Cond(A)$，其中$\\alpha$是任意非零实数\n",
    "- 若$A$是正交矩阵，则$Cond(A)_2 = 1$\n",
    "- 若$A$是正交矩阵，则对任意的非奇异矩阵$B$，有\n",
    "\n",
    "\\begin{equation}\n",
    "    Cond(BA)_2  =  Cond(AB)_2 = Cond(B)_2\n",
    "\\end{equation}"
   ]
  },
  {
   "cell_type": "markdown",
   "id": "30530e9e",
   "metadata": {},
   "source": [
    "**！例！**\n",
    "$A = \\begin{bmatrix}\n",
    "            1  &  1 \\\\\n",
    "            1  &  1.0001\n",
    "        \\end{bmatrix}$，\n",
    "        计算$Cond(A)_\\infty$和$Cond(A)_2$。"
   ]
  },
  {
   "cell_type": "markdown",
   "id": "1e05e37e",
   "metadata": {},
   "source": [
    "解：\n",
    "\n",
    "$$\n",
    "A^{-1} = \n",
    "\\begin{bmatrix}\n",
    "    10001   &  -10000 \\\\\n",
    "    -10000  &   10000\n",
    "\\end{bmatrix}\n",
    "$$"
   ]
  },
  {
   "cell_type": "markdown",
   "id": "e9e7bf06",
   "metadata": {},
   "source": [
    "$$\n",
    "Cond(A)_\\infty = \\Vert A^{-1} \\Vert\\_\\infty  \\Vert A \\Vert\\_\\infty \\approx 4 \\times 10^4\n",
    "$$\n",
    "<!-- Cond(A)_\\infty = \\Vert A^{-1} \\Vert_\\infty  \\Vert A \\Vert_\\infty \\approx 4 \\times 10^4 -->"
   ]
  },
  {
   "cell_type": "markdown",
   "id": "54371437",
   "metadata": {},
   "source": [
    "$A$是对称矩阵，且\n",
    "\n",
    "$$\n",
    "\\lambda(A) = \\frac{2.0001 \\pm \\sqrt{2.0001^2 - 0.0004}}{2} > 0\n",
    "$$"
   ]
  },
  {
   "cell_type": "markdown",
   "id": "dd6cc6ae",
   "metadata": {},
   "source": [
    "$$\n",
    "Cond(A)_2 = \\lambda\\_{max} / \\lambda\\_{min} \\approx 4 \\times 10^4\n",
    "$$\n",
    "<!-- Cond(A)_2 = \\lambda_{max} / \\lambda_{min} \\approx 4 \\times 10^4 -->"
   ]
  },
  {
   "cell_type": "markdown",
   "id": "c17d4fa5",
   "metadata": {},
   "source": [
    "## 线性方程组的解"
   ]
  },
  {
   "cell_type": "markdown",
   "id": "cfd49299",
   "metadata": {},
   "source": [
    "### 线性方程组示例"
   ]
  },
  {
   "cell_type": "markdown",
   "id": "4dd958b3",
   "metadata": {},
   "source": [
    "$$\n",
    "\\left[ \\begin{array}{rrr} 4 & 2 & 7 \\\\ 3 & 5 & -6 \\\\ 1 & -3 & 2 \\end{array} \\right]\n",
    "\\left[ \\begin{array}{r} x_1 \\\\ x_2 \\\\ x_3 \\end{array} \\right]\n",
    "= \\left[ \\begin{array}{r} 2 \\\\ 3 \\\\ 4 \\end{array} \\right]\n",
    "$$"
   ]
  },
  {
   "cell_type": "markdown",
   "id": "a1ca3887",
   "metadata": {},
   "source": [
    "$$\n",
    "\\begin{pmatrix}\n",
    "    1 & 2 & 3 \\\\\n",
    "    3 & 2 & 1 \\\\\n",
    "    2 & 1 & 3 \\\\\n",
    "\\end{pmatrix}\n",
    "\\begin{pmatrix}\n",
    "    x_1 \\\\\n",
    "    x_2 \\\\\n",
    "    x_3 \\\\\n",
    "\\end{pmatrix}=\n",
    "\\begin{pmatrix}\n",
    "    12 \\\\\n",
    "    24 \\\\\n",
    "    36 \\\\\n",
    "\\end{pmatrix}\n",
    "$$"
   ]
  },
  {
   "cell_type": "markdown",
   "id": "7f7f9824",
   "metadata": {},
   "source": [
    "$$\n",
    "\\begin{pmatrix}\n",
    "    6 & -2 & 2 & 4 \\\\\n",
    "    -6 & 4 & 1 & -18\\\\\n",
    "    3 & -13 & 9 & 3 \\\\\n",
    "    12 & -8 & 6 & 10 \\\\\n",
    "\\end{pmatrix}\n",
    "\\begin{pmatrix}\n",
    "    x_1 \\\\\n",
    "    x_2 \\\\\n",
    "    x_3 \\\\\n",
    "    x_4 \\\\\n",
    "\\end{pmatrix}=\n",
    "\\begin{pmatrix}\n",
    "    16 \\\\\n",
    "    -34 \\\\\n",
    "    -19 \\\\\n",
    "    26 \\\\\n",
    "\\end{pmatrix}\n",
    "$$"
   ]
  },
  {
   "cell_type": "markdown",
   "id": "c42b155c",
   "metadata": {},
   "source": [
    "$$\n",
    "\\begin{pmatrix}\n",
    "    0 & 2 & 0 & 1 \\\\\n",
    "    2 & 2 & 3 & 2 \\\\\n",
    "    4 & -3 & 0 & 1 \\\\\n",
    "    6 & 1 & -6 & -5 \\\\\n",
    "\\end{pmatrix}\n",
    "\\begin{pmatrix}\n",
    "    x_1 \\\\\n",
    "    x_2 \\\\\n",
    "    x_3 \\\\\n",
    "    x_4 \\\\\n",
    "\\end{pmatrix}=\n",
    "\\begin{pmatrix}\n",
    "    0 \\\\\n",
    "    -2 \\\\\n",
    "    -7 \\\\\n",
    "    6 \\\\\n",
    "\\end{pmatrix}\n",
    "$$"
   ]
  },
  {
   "cell_type": "markdown",
   "id": "487eaac5",
   "metadata": {},
   "source": [
    "### 线性方程组的解的存在唯一性定理"
   ]
  },
  {
   "cell_type": "markdown",
   "id": "0274296d",
   "metadata": {},
   "source": [
    "**！定理！**：（<font color=\"red\">解的存在性与唯一性</font>）下列论断之间是相互等价的\n",
    "- 方程$A x = b$存在唯一解\n",
    "- $det(A) \\neq 0$\n",
    "- 矩阵$A$可逆\n",
    "- 方程$A x = 0$只有零解\n",
    "- 矩阵$A$满秩，即$A$的秩为$n$"
   ]
  },
  {
   "cell_type": "markdown",
   "id": "494d19a2",
   "metadata": {},
   "source": [
    "**！定理！**：（<font color=\"red\">对称正定矩阵的性质</font>）若$A$对称正定，则\n",
    "- $A$ 非奇异，且 $A^{-1}$也对称正定；\n",
    "- $A$ 的所有顺序主子阵都对称正定；\n",
    "- $A$ 的所有特征值都是正实数；\n",
    "- $A$ 的所有顺序主子式都大于 $0$。"
   ]
  },
  {
   "cell_type": "markdown",
   "id": "99cede2a",
   "metadata": {},
   "source": [
    "**！定理！**：（<font color=\"red\">对称正定矩阵的判定</font>）\n",
    "- 若$A$对称，且所有顺序主子式都大于$0$，则$A$对称正定。\n",
    "- 若$A$对称，且所有特征值都大于$0$，则$A$对称正定。"
   ]
  },
  {
   "cell_type": "markdown",
   "id": "940e670f",
   "metadata": {},
   "source": [
    "**！定理！**：（<font color=\"red\">Jordan 标准型</font>）\n",
    "\n",
    "设$A \\in \\mathbb{R}^{n \\times n} $，则存在非奇异矩阵$X$，使得\n",
    "\n",
    "$$\n",
    "X^{-1} A X = \\begin{pmatrix}\n",
    "  J_1(\\lambda_1) &                &        & \\\\\n",
    "                 & J_2(\\lambda_2) &        & \\\\\n",
    "                 &                & \\ddots  & \\\\\n",
    "                 &                &         & J_r(\\lambda_r) \\\\\n",
    "\\end{pmatrix}\n",
    "$$\n",
    "\n",
    "其中\n",
    "\n",
    "$$\n",
    "J_i(\\lambda_i) = \\begin{pmatrix}\n",
    "  \\lambda_i &      1    &        &           \\\\\n",
    "            & \\lambda_i & \\ddots &           \\\\\n",
    "            &           & \\ddots &     1     \\\\\n",
    "            &           &        & \\lambda_i \\\\\n",
    "\\end{pmatrix} \\in \\mathbb{R}^{n_i \\times n_i} \n",
    "$$\n",
    "\n",
    "为$Jordan$块，且$\\sum_{i=1}^r n_i = n$。"
   ]
  },
  {
   "cell_type": "markdown",
   "id": "34d297a0",
   "metadata": {},
   "source": [
    "## 解线性方程组的直接法"
   ]
  },
  {
   "cell_type": "markdown",
   "id": "169173f7",
   "metadata": {},
   "source": [
    "对于中小型方程组，常用直接解法。从本质上来说，直接方法的原理是找一个可逆矩阵$M$，使得$MA$是一个上三角阵，这一过程一般称为“<font color=\"red\">**消元**</font>”过程，消元之后再进行“<font color=\"red\">**回代**</font>”，即求解$MAx=Mb$。"
   ]
  },
  {
   "cell_type": "markdown",
   "id": "750045ac",
   "metadata": {},
   "source": [
    "对于线性方程组$Ax = b$而言，有三种方程的解我们是可以直接求出的。\n",
    "- 情形一：当\n",
    "\n",
    "\\begin{equation}\n",
    "A = diag(a_{11}, a_{22}, \\cdots , a_{nn} ) \n",
    "\\end{equation}\n",
    "\n",
    "时，我们有\n",
    "\n",
    "\\begin{equation}\n",
    "x_i = \\frac{b_i}{a_{ii}},\\quad i =1,2,\\cdots,n,\n",
    "\\end{equation}\n",
    "\n",
    "总共需要进行$ n $次运算。\n",
    "\n",
    "- 情形二：当\n",
    "\n",
    "$$\n",
    "A =\n",
    "\\begin{pmatrix}\n",
    " l_{11} &        &        &         \\\\\n",
    " l_{21} & l_{22} &        &         \\\\\n",
    " \\vdots & \\vdots & \\ddots &         \\\\\n",
    " l_{n1} & l_{n1} & \\cdots & l_{nn}  \\\\\n",
    "\\end{pmatrix} \n",
    "$$\n",
    "\n",
    "时，我们有\n",
    "\n",
    "\\begin{equation}\n",
    "x_i = \\frac{b_i - \\sum_{j=1}^{i-1} l_{ij} x_j }{l_{ii}},\\quad i =1,2,\\cdots,n,\n",
    "\\end{equation}\n",
    "\n",
    "总共需要进行$ \\frac{n(n+1)}{2} $次运算。\n",
    "\n",
    "- 情形三：当\n",
    "\n",
    "$$\n",
    " A =\n",
    " \\begin{pmatrix}\n",
    "     u_{11} & u_{12} & \\cdots & u_{1n}  \\\\\n",
    "            & l_{22} & \\cdots & u_{2n}  \\\\\n",
    "            &        & \\ddots & \\vdots  \\\\\n",
    "            &        &        & u_{nn}  \\\\\n",
    " \\end{pmatrix} \n",
    "$$\n",
    "\n",
    "时，我们有\n",
    "\n",
    "\\begin{equation}\n",
    "x_i = \\frac{b_i - \\sum_{j=i+1}^{n} u_{ij} x_j }{u_{ii}},\\quad i =1,2,\\cdots,n,\n",
    "\\end{equation}\n",
    "\n",
    "总共需要进行$ \\frac{n(n+1)}{2} $次运算。"
   ]
  },
  {
   "cell_type": "markdown",
   "id": "360fd0a4",
   "metadata": {},
   "source": [
    "对线性方程组$Ax = b$而言，进行如下的变换，解不变\n",
    "- 交换两个方程的次序\n",
    "- 一个方程的两边同时乘以一个非$0$的数\n",
    "- 一个方程的两边同时乘以一个非$0$的数，加到另一个方程"
   ]
  },
  {
   "cell_type": "markdown",
   "id": "d380161a",
   "metadata": {},
   "source": [
    "因此，如果我们对增广矩阵$(A,b)$做如下变换，解不变\n",
    "- 交换矩阵的两行\n",
    "- 某一行的两边同时乘以一个非$0$的数\n",
    "- 某一行的两边同时乘以一个非$0$的数，加到另一行"
   ]
  },
  {
   "cell_type": "markdown",
   "id": "bafca4de",
   "metadata": {},
   "source": [
    "消去法就是对增广矩阵作上述行的变换，变为我们已知的$3$种类型之一，而后求根。"
   ]
  },
  {
   "cell_type": "markdown",
   "id": "a9a67375",
   "metadata": {},
   "source": [
    "### 消元法"
   ]
  },
  {
   "cell_type": "markdown",
   "id": "eb9b5713",
   "metadata": {},
   "source": [
    "我们把线性方程组$Ax = b$写成\n",
    "\n",
    "$$\n",
    "\\left\\{\n",
    "\\begin{aligned}\n",
    "a_{11} x_1 + a_{12} x_2 + \\cdots + a_{1n} x_n = b_1 &= a_{1,n+1} \\\\\n",
    "a_{21} x_1 + a_{22} x_2 + \\cdots + a_{2n} x_n = b_2 &= a_{2,n+1} \\\\\n",
    "\\cdots &= \\cdots \\\\\n",
    "a_{n1} x_1 + a_{11} x_2 + \\cdots + a_{nn} x_n = b_n &= a_{n,n+1} \\\\\n",
    "\\end{aligned}\n",
    "\\right.\n",
    "$$"
   ]
  },
  {
   "cell_type": "markdown",
   "id": "729d571a",
   "metadata": {},
   "source": [
    "#### 高斯消元法（Gauss Elimination）"
   ]
  },
  {
   "cell_type": "markdown",
   "id": "6c77cf6b",
   "metadata": {},
   "source": [
    "$Gauss$消元法的主要思路：将线性方程组的系数矩阵$A$转化为上三角矩阵，然后回代求解。"
   ]
  },
  {
   "cell_type": "markdown",
   "id": "8277b5fb",
   "metadata": {},
   "source": [
    "记$A^{(1)} = \\left( a_{ij}^{(1)} \\right)_{n \\times n}$，$b^{(1)} = \\left( b_1^{(1)}, \\cdots, b_n^{(1)} \\right)^T = b$ ，即 $a_{ij} = a_{ij}^{(1)}$，$b_i^{(1)} = b_i$\n",
    "\n",
    "<font color=\"red\" face = \"bold\">第1步</font>：消第$1$列。\n",
    "\n",
    "设$a_{11}^{(1)} \\neq 0$，计算\n",
    "\n",
    "$$m_{i1} = a_{i1}^{(1)} / a_{11}^{(1)} \\,  (i=2,...,n)$$\n",
    "\n",
    "依次将增广矩阵的第$i$行$-m_{i1}\\times$第$1$行，得\n",
    "\n",
    "$$\n",
    "\\begin{pmatrix}\n",
    "    A^{(2)}  & b^{(2)}\n",
    "\\end{pmatrix} = \\left[ \\begin{array}{c|c}\n",
    "    \\begin{matrix}\n",
    "    a_{11}^{(1)}  & a_{12}^{(1)}   &  \\cdots   &  a_{1n}^{(1)} \\\\\n",
    "                  & a_{22}^{(2)}   &  \\cdots   &  a_{2n}^{(2)} \\\\\n",
    "                  & \\vdots         &  \\ddots   &  \\vdots       \\\\\n",
    "                  & a_{n2}^{(2)}   &  \\cdots   &  a_{nn}^{(2)} \\\\\n",
    "    \\end{matrix} &\n",
    "    \\begin{matrix}\n",
    "    b_{1}^{(1)}  \\\\\n",
    "    b_{2}^{(2)}  \\\\\n",
    "    \\vdots       \\\\\n",
    "    b_{n}^{(2)}  \\\\\n",
    "    \\end{matrix}\n",
    "\\end{array} \\right]\n",
    "$$\n",
    "\n",
    "其中，$a_{ij}^{(2)} = a_{ij}^{(1)} - m_{i1} a_{1j}^{(1)}$，$b_{i}^{(2)} = b_{i}^{(1)} - m_{i1} b_{1}^{(1)}$，$i,j=2,\\cdots,n$。"
   ]
  },
  {
   "cell_type": "markdown",
   "id": "117f16c4",
   "metadata": {},
   "source": [
    "<font color=\"red\" face = \"bold\">第2步</font>：消第$2$列。\n",
    "\n",
    "设$a_{22}^{(2)} \\neq 0$，计算\n",
    "\n",
    "$$m_{i2} = a_{i2}^{(2)} / a_{22}^{(2)}\\, (i=3,...,n)$$ \n",
    "\n",
    "依次将$A^{(2)}$的第$i$行$-m_{i2}\\times$第$2$行，得\n",
    "\n",
    "$$\n",
    "\\begin{pmatrix}\n",
    "    A^{(3)}  & b^{(3)}\n",
    "\\end{pmatrix}= \\left[ \\begin{array}{c|c}\n",
    "    \\begin{matrix}\n",
    "    a_{11}^{(1)}  & a_{12}^{(1)} & a_{13}^{(1)}  &  \\cdots   &  a_{1n}^{(1)} \\\\\n",
    "                  & a_{22}^{(2)} & a_{23}^{(2)}  &  \\cdots   &  a_{2n}^{(2)} \\\\\n",
    "                  &              & a_{33}^{(3)}  &  \\cdots   &  a_{3n}^{(3)} \\\\\n",
    "                  &              & \\vdots        &  \\ddots   &     \\vdots    \\\\\n",
    "                  &              & a_{n3}^{(3)}  &  \\cdots   &  a_{nn}^{(3)} \\\\\n",
    "    \\end{matrix} &\n",
    "    \\begin{matrix}\n",
    "    b_{1}^{(1)}  \\\\\n",
    "    b_{2}^{(2)}  \\\\\n",
    "    b_{3}^{(3)}  \\\\\n",
    "    \\vdots       \\\\\n",
    "    b_{n}^{(3)}  \\\\\n",
    "    \\end{matrix}\n",
    "\\end{array} \\right]\n",
    "$$\n",
    "\n",
    "其中，$a_{ij}^{(3)} = a_{ij}^{(2)} - m_{i2} a_{2j}^{(2)}$，$b_{i}^{(3)} = b_{i}^{(2)} - m_{i2} b_{2}^{(2)}$，$i,j=3,\\cdots,n$。"
   ]
  },
  {
   "cell_type": "markdown",
   "id": "9af2ad45",
   "metadata": {},
   "source": [
    "依次类推，<font color=\"red\" face = \"bold\">第$k-1$步</font>后可得\n",
    "\n",
    "$$\n",
    "\\begin{pmatrix}\n",
    "    A^{(k)}  & b^{(k)}\n",
    "\\end{pmatrix} = \\left[ \\begin{array}{c|c}\n",
    "    \\begin{matrix}\n",
    "    a_{11}^{(1)}  &    \\cdots    & a_{1k}^{(1)}  &  \\cdots   &  a_{1n}^{(1)} \\\\\n",
    "                  &    \\ddots    &     \\vdots    &  \\vdots   &     \\vdots    \\\\\n",
    "                  &              & a_{kk}^{(k)}  &  \\cdots   &  a_{kn}^{(k)} \\\\\n",
    "                  &              & \\vdots        &  \\ddots   &     \\vdots    \\\\\n",
    "                  &              & a_{nk}^{(k)}  &  \\cdots   &  a_{nn}^{(k)} \\\\\n",
    "    \\end{matrix} &\n",
    "    \\begin{matrix}\n",
    "    b_{1}^{(1)}  \\\\\n",
    "    \\vdots       \\\\\n",
    "    b_{k}^{(k)}  \\\\\n",
    "    \\vdots       \\\\\n",
    "    b_{n}^{(k)}  \\\\\n",
    "    \\end{matrix}\n",
    "\\end{array} \\right]\n",
    "$$"
   ]
  },
  {
   "cell_type": "markdown",
   "id": "e5508b18",
   "metadata": {},
   "source": [
    "<font color=\"red\" face = \"bold\">第$k$步</font>：消第$k$列。\n",
    "- 设$a_{kk}^{(k)} \\neq 0$，\n",
    "- 先计算$m_{ik} = a_{ik}^{(k)} / a_{kk}^{(k)}$，$i=k+1,\\cdots,n$，\n",
    "- 再计算$a_{ij}^{(k+1)} = a_{ij}^{(k)} - m_{ik} a_{kj}^{(k)}$，$b_{i}^{(k+1)} = b_{i}^{(k)} - m_{ik} b_{k}^{(k)}$，$i,j=k+1,\\cdots,n$，\n",
    "- 获得$A^{(k+1)}$"
   ]
  },
  {
   "cell_type": "markdown",
   "id": "a2c94274",
   "metadata": {},
   "source": [
    "<font color=\"red\" face = \"bold\">第$n-1$步</font>后可得\n",
    "\n",
    "$$\n",
    "\\begin{pmatrix}\n",
    "    A^{(n)}  & b^{(n)}\n",
    "\\end{pmatrix}= \\left[ \\begin{array}{c|c}\n",
    "    \\begin{matrix}\n",
    "    a_{11}^{(1)}  &    a_{12}^{(1)}    &  \\cdots   &  a_{1n}^{(1)} \\\\\n",
    "                  &    a_{22}^{(2)}    &  \\cdots   &  a_{2n}^{(2)} \\\\\n",
    "                  &                    &  \\ddots   &     \\vdots    \\\\\n",
    "                  &                    &           &  a_{nn}^{(n)} \\\\\n",
    "    \\end{matrix} &\n",
    "    \\begin{matrix}\n",
    "    b_{1}^{(1)}  \\\\\n",
    "    b_{2}^{(2)}  \\\\\n",
    "    \\vdots       \\\\\n",
    "    b_{n}^{(n)}  \\\\\n",
    "    \\end{matrix}\n",
    "\\end{array} \\right]\n",
    "$$\n",
    "\n",
    "即\n",
    "\\begin{equation}\n",
    "A^{(n)} x = b^{(n)}\n",
    "\\end{equation}"
   ]
  },
  {
   "cell_type": "markdown",
   "id": "c8d6d825",
   "metadata": {},
   "source": [
    "<font color=\"red\" face = \"bold\">回代求解可得：</font>\n",
    "\\begin{equation*}\n",
    "\\begin{aligned}\n",
    "    x_n &= b_n^{(n)} / a_{nn}^{(n)} \\\\\n",
    "    x_i &= \\left( b_i^{(i)} - \\sum_{j=i+1}^{n}  a_{ij}^{(i)} x_j \\right) \\Bigg/ a_{ii}^{(i)},\\quad (i = n-1,\\cdots, 1)\n",
    "\\end{aligned}\n",
    "\\end{equation*}"
   ]
  },
  {
   "cell_type": "markdown",
   "id": "3692cd06",
   "metadata": {},
   "source": [
    "**！几点注记！**：\n",
    "- 主元：$a_{ii}^{(i)}\\quad (i=1,2,\\cdots,n)$\n",
    "- $Gauss$消元法能进行到底的条件：主元全不为$0$"
   ]
  },
  {
   "cell_type": "markdown",
   "id": "46cb697f",
   "metadata": {},
   "source": [
    "**！定理！**：\n",
    "$a_{ii}^{(i)} \\neq 0\\ (i=1,2,\\cdots,n)$ 的充要条件是$A$的顺序主子式都不为零，即 \n",
    "\n",
    "$$\n",
    "D_1 = a_{11} \\neq 0, \\quad D_i = \\left| \\begin{matrix}\n",
    "    a_{11} & \\cdots & a_{1i} \\\\\n",
    "    \\vdots & \\ddots & \\vdots \\\\\n",
    "    a_{i1} & \\cdots & a_{ii} \\\\\n",
    "\\end{matrix} \\right| \\neq 0,\\quad i=1,2,\\cdots, n\n",
    "$$"
   ]
  },
  {
   "cell_type": "markdown",
   "id": "2423e363",
   "metadata": {},
   "source": [
    "**！推论！**：\n",
    "根据以上定理，主元$a_{ii}^{(i)}$可以依下式计算\n",
    "\\begin{equation*}\n",
    "    a_{11}^{(1)} = D_1,\\quad a_{ii}^{(i)} = D_i \\big/ D_{i-1},\\quad i = 2,\\cdots, n\n",
    "\\end{equation*}"
   ]
  },
  {
   "cell_type": "markdown",
   "id": "e27ef726",
   "metadata": {},
   "source": [
    "**！Gauss消元法的计算次数！**：\n",
    "\n",
    "- 乘除运算的次数：\n",
    "    1. 第$k$步：消第$k$列\n",
    "        + 计算 $m_{ik} = a_{ik}^{(k)} \\big/ a_{kk}^{(k)}$，共$n-k$步\n",
    "        + 计算 $a_{ij}^{(k+1)} = a_{ij}^{(k)} - m_{ik} a_{kj}^{(k)}$，共$(n-k)^2$步\n",
    "        + 计算 $b_{i}^{(k+1)} = b_{i}^{(k)} - m_{ik} b_{k}^{(k)}$，共$n-k$步\n",
    "    1. 回代求解：共$n(n+1)/2$步 \n",
    "    \\begin{equation*}\n",
    "        \\left\\{\\begin{aligned}\n",
    "            x_n &= b_n^{(n)} / a_{nn}^{(n)} \\\\\n",
    "            x_i &= \\left( b_i^{(i)} - \\sum_{j=i+1}^{n}  a_{ij}^{(i)} x_j \\right) \\Bigg/ a_{ii}^{(i)},\\quad (i = n-1,\\cdots, 1)\n",
    "        \\end{aligned}\\right.\n",
    "    \\end{equation*}\n",
    "\n",
    "    1. 从而，可以得到$Gauss$消元法的乘除运算量为：$\\frac{n^3}{3} + n^2 - \\frac{n}{3}$\n",
    "\n",
    "- 加减运算的次数：$\\frac{n^3}{3} + \\frac{n^2}{2} - \\frac{5n}{6}$"
   ]
  },
  {
   "cell_type": "markdown",
   "id": "f06fdd4a",
   "metadata": {},
   "source": [
    "**！例！**：用消元法解线性方程组\n",
    "\\begin{equation*}\n",
    "    \\left\\{\\begin{aligned}\n",
    "        x_1 - 2 x_2 + 2 x_3 &= -2 \\\\\n",
    "        2x_1 - 3 x_2 - 3 x_3 &= 4 \\\\\n",
    "        4x_1 + x_2 + 6 x_3 &= 3 \\\\\n",
    "    \\end{aligned}\\right.\n",
    "\\end{equation*}"
   ]
  },
  {
   "cell_type": "markdown",
   "id": "a53026a3",
   "metadata": {},
   "source": [
    "**！解！**：\n",
    "\\begin{equation}\n",
    "(A,b) = \\begin{bmatrix}\n",
    "    1 & -2 & 2  & -2 \\\\\n",
    "    2 & -3 & -3 & 4  \\\\\n",
    "    4 & 1  & 6  & 3  \\\\\n",
    "\\end{bmatrix}\n",
    "\\Longrightarrow\n",
    "\\begin{bmatrix}\n",
    "            1 & -2 & 2  & -2 \\\\\n",
    "            0 & 1  & -7 & 8  \\\\\n",
    "            0 & 9  & -2 & 11 \\\\\n",
    "        \\end{bmatrix}\n",
    "\\end{equation} \n",
    "\\begin{equation}\n",
    "\\Longrightarrow\\begin{bmatrix}\n",
    "    1 & -2 & 2  & -2   \\\\\n",
    "    0 & 1  & -7 & 8    \\\\\n",
    "    0 & 0  & 61 & -61  \\\\\n",
    "\\end{bmatrix}\n",
    "\\Longrightarrow\n",
    "\\left\\{\\begin{aligned}\n",
    "    x_3 &= 1 \\\\\n",
    "    x_2 &= 8 + 7 x_3 = 1   \\\\\n",
    "    x_1 &= -2 + 2 x_2 - 2 x_3 = 2 \\\\\n",
    "\\end{aligned} \\right.\n",
    "\\end{equation}"
   ]
  },
  {
   "cell_type": "markdown",
   "id": "31c0111b",
   "metadata": {},
   "source": [
    "**！例！**：用消元法解线性方程组\n",
    "\\begin{equation*}\n",
    "    \\left\\{\\begin{aligned}\n",
    "                     x_1 + \\frac{2}{3} x_2 +   \\frac{1}{3} x_3 &= 2 \\\\\n",
    "        \\frac{9}{20} x_1 +             x_2 + \\frac{11}{20} x_3 &= 2 \\\\\n",
    "        \\frac{2}{3}  x_1 + \\frac{1}{3} x_2 +               x_3 &= 2 \\\\\n",
    "    \\end{aligned}\\right.\n",
    "\\end{equation*}"
   ]
  },
  {
   "cell_type": "markdown",
   "id": "83da21e1",
   "metadata": {},
   "source": [
    "**！解！**：\n",
    "\\begin{equation*}\n",
    "    (A,b) = \\begin{bmatrix}\n",
    "        1            & \\frac{2}{3}  &  \\frac{1}{3}  & 2  \\\\\n",
    "        \\frac{9}{20} & 1            & \\frac{11}{20} & 2  \\\\\n",
    "        \\frac{2}{3}  & \\frac{1}{3}  & 1             & 2  \\\\\n",
    "    \\end{bmatrix}\n",
    "    \\Longrightarrow\n",
    "    \\begin{bmatrix}\n",
    "                1            & \\frac{2}{3}   &  \\frac{1}{3}  & 2  \\\\\n",
    "                0            & \\frac{7}{10}  & \\frac{2}{5}   & \\frac{11}{10}  \\\\\n",
    "                0            & -\\frac{1}{9}  & \\frac{7}{9}   & \\frac{2}{3} \\\\\n",
    "            \\end{bmatrix}\n",
    "\\end{equation*} \n",
    "\n",
    "\\begin{equation*}\n",
    "    \\Longrightarrow\\begin{bmatrix}\n",
    "        1            & \\frac{2}{3}   &  \\frac{1}{3}  & 2  \\\\\n",
    "        0            & \\frac{7}{10}  & \\frac{2}{5}   & \\frac{11}{10}  \\\\\n",
    "        0            & 0             & \\frac{53}{63} & \\frac{53}{63}  \\\\\n",
    "    \\end{bmatrix}\n",
    "    \\Longrightarrow\n",
    "    \\left\\{\\begin{aligned}\n",
    "        x_3 &= 1 \\\\\n",
    "        x_2 &= \\frac{11}{7} - \\frac{4}{7} x_3 = 1   \\\\\n",
    "        x_1 &= 2 - \\frac{2}{3} x_2 - \\frac{1}{3} x_3 = 1 \\\\\n",
    "    \\end{aligned} \\right.\n",
    "\\end{equation*}"
   ]
  },
  {
   "cell_type": "markdown",
   "id": "89aa74d3",
   "metadata": {},
   "source": [
    "#### 列主元消元法（Gauss Elimination with Partial Pivoting）"
   ]
  },
  {
   "cell_type": "markdown",
   "id": "7af37286",
   "metadata": {},
   "source": [
    "在以上的$Gauss$消元法中，消元过程能进行的条件是主元素$a_{ii}^{(i)} \\neq 0$。例如，若$a_{11}^{(1)} = 0$，消元过程的第$1$步就不能进行。"
   ]
  },
  {
   "cell_type": "markdown",
   "id": "1af199fc",
   "metadata": {},
   "source": [
    "有时，虽然$a_{ii}^{(i)} \\neq 0$，但是$| a_{ii}^{(i)} |$很小，这时计算过程的舍入误差导致消去法数值不稳定，以致结果不可靠。"
   ]
  },
  {
   "cell_type": "markdown",
   "id": "b5f756c0",
   "metadata": {},
   "source": [
    "**！例！**：用三位十进制浮点运算求解\n",
    "\\begin{equation*}\n",
    "    \\left\\{\\begin{aligned}\n",
    "        1.00\\times10^{-5} x_1 + 1.00 x_2 &= 1.00 \\\\\n",
    "        1.00 x_1 + 1.00 x_2 &= 2.00\n",
    "    \\end{aligned}\\right.\n",
    "\\end{equation*}"
   ]
  },
  {
   "cell_type": "markdown",
   "id": "9a3f8512",
   "metadata": {},
   "source": [
    "**！解！**： 这个方程的解显然接近$(1.00,1.00)^T$，但是系数$a_{11}$是个小主元。如果用$Gauss$消元法求解，则有\n",
    "\\begin{equation*}\n",
    "    \\begin{aligned}\n",
    "        m_{21} &= a_{21}/a_{11} = 1.00\\times10^{5} \\\\\n",
    "        a_{22}^{(2)} &= a_{22} - m_{21}a_{12} = 1.00 - 1.00\\times10^{5} \\\\\n",
    "        b_{2}^{(2)} &= b_{2} - m_{21} b_{1} = 2.00 - 1.00\\times10^{5}\n",
    "    \\end{aligned}\n",
    "\\end{equation*}"
   ]
  },
  {
   "cell_type": "markdown",
   "id": "fbec31d1",
   "metadata": {},
   "source": [
    "在三位十进制运算的限制下，得到$x_2 = b_{2}^{(2)} / a_{22}^{(2)} = 1.00$，代回第$1$个方程得$x_1 = 0$，这显然不是正确的解。因为使用了小主元$a_{11}$做除法，使得乘数$m_{21}$是个大数，在$a_{22}^{(2)}$的计算中，$a_{22}$的值完全被掩盖了。"
   ]
  },
  {
   "cell_type": "markdown",
   "id": "7562bbf2",
   "metadata": {},
   "source": [
    "如果先把两个方程的次序交换，再用$Gauss$消元法，就不会出现上述问题，解得$x_1 =1.00$，$x_2 =1.00$，这就是<font color=\"red\">列主元消元法的思想</font>。"
   ]
  },
  {
   "cell_type": "markdown",
   "id": "8410c3a8",
   "metadata": {},
   "source": [
    "<font color=\"magenta\">列主元消去法</font>也称按列部分主元的消元法。一般地，在完成第$k-1$步消元运算后，在$\\left( A^{(k)}, b^{(k)} \\right)$的第$k$列元素$a_{kk}^{(k)}$之下的所有元素中选一个绝对值最大的元素作为主元素，即若\n",
    "\\begin{equation*}\n",
    "    \\left| a_{i_k, k}^{(k)} \\right| = \\max_{k \\leq i \\leq n} \\left| a_{i, k}^{(k)} \\right|\n",
    "\\end{equation*}\n",
    "则以$a_{i_k, k}^{(k)}$为主元素，这里$i_k \\geq k$。由于$A^{(k)}$非奇异，有$a_{i_k, k}^{(k)} \\neq 0$。这样，$|m_{ik}| = \\left| a_{ik}^{(k)} \\right| \\big/ \\left| a_{i_k,k}^{(k)} \\right| \\leq 1 $有达到控制舍入误差的作用。\n",
    "\n",
    "\n",
    "选出主元素后，则进行顺序$Gauss$消元法的第$k$步：若$i_k > k$，则将$\\left( A^{(k)}, b^{(k)} \\right)$的第$i_k$行与第$k$行交换，然后进行消元运算。\n",
    "\n",
    "\n",
    "完成了$n-1$步定主元，换行与消元运算后，得到$\\left( A^{(n)}, b^{(n)} \\right)$，这是与原方程等价的方程组，$A^{(n)}$是一个上三角阵，在回代求解。这就是<font color=\"magenta\">列主元消元法的计算过程</font>。"
   ]
  },
  {
   "cell_type": "markdown",
   "id": "0e0489f4",
   "metadata": {},
   "source": [
    "**！例！**：使用列主元消去法解方程组$Ax=b$，计算过程中取五位有效数字进行计算，其中\n",
    "\\begin{equation*}\n",
    "    (A,b) = \\begin{bmatrix}\n",
    "        -0.002 & 2        & 2  & 0.4    \\\\\n",
    "        1      & 0.78125  & 0  & 1.3816 \\\\\n",
    "        3.996  & 5.5625   & 4  & 7.4178 \\\\\n",
    "    \\end{bmatrix}\n",
    "\\end{equation*}"
   ]
  },
  {
   "cell_type": "markdown",
   "id": "4dc1277f",
   "metadata": {},
   "source": [
    "**！解！**：记$(A^{(1)} , b^{(1)}) = (A,b)$。第一步选列主元为$a_{31}^{(1)} = 3.996$，交换第$1$行与第$3$行，再消元计算得\n",
    "\\begin{equation*}\n",
    "    \\left( A^{(2)},b^{(2)} \\right) = \\begin{bmatrix}\n",
    "        3.996 & 5.5625   & 4       & 7.4178    \\\\\n",
    "        0     & -0.61077 & -1.0010  & -0.47471 \\\\\n",
    "        0     & 2.0028   & 2.0020   & 0.40371  \\\\\n",
    "    \\end{bmatrix}\n",
    "\\end{equation*}"
   ]
  },
  {
   "cell_type": "markdown",
   "id": "265ffb35",
   "metadata": {},
   "source": [
    "第二步选列主元为$a_{32}^{(2)} = 2.0028$，交换第$2$行与第$3$行，再消元计算得\n",
    "\\begin{equation*}\n",
    "    \\left( A^{(3)},b^{(3)} \\right) = \\begin{bmatrix}\n",
    "        3.996 & 5.5625   & 4         & 7.4178    \\\\\n",
    "        0     & 2.0028   & 2.0020    & 0.40371  \\\\\n",
    "        0     & 0        & -0.39047  & -0.35159 \\\\\n",
    "    \\end{bmatrix}\n",
    "\\end{equation*}\n",
    "消元过程到此结束。"
   ]
  },
  {
   "cell_type": "markdown",
   "id": "e508510e",
   "metadata": {},
   "source": [
    "回代计算依次得到解\n",
    "\\begin{equation*}\n",
    "    x_3 = 0.90043,\\quad x_2 = -0.69850,\\quad x_1 = 1.9273\n",
    "\\end{equation*}\n",
    "本题的精确解是\n",
    "\\begin{equation*}\n",
    "    x_3 = 0.900423,\\quad x_2 = -0.698496,\\quad x_1 = 1.92730\n",
    "\\end{equation*}\n",
    "而使用不选主元的顺序$Gauss$消元法，得到的解是\n",
    "\\begin{equation*}\n",
    "    x_3 = 0.88888,\\quad x_2 = -0.68695,\\quad x_1 = 1.9300\n",
    "\\end{equation*}"
   ]
  },
  {
   "cell_type": "markdown",
   "id": "a991f814",
   "metadata": {},
   "source": [
    "**！例！**：分别用$Gauss$消去法和列主元消去法求解线性方程组\n",
    "\\begin{equation*}\n",
    "    \\begin{bmatrix}\n",
    "         0.001   & 2.000   & 3.000 \\\\\n",
    "        -1.000   & 3.712   & 4.623 \\\\\n",
    "        -2.000   & 1.072   & 5.643 \\\\\n",
    "    \\end{bmatrix}\n",
    "    \\begin{bmatrix}\n",
    "         x_1   \\\\\n",
    "         x_2   \\\\\n",
    "         x_3   \\\\\n",
    "    \\end{bmatrix}=\n",
    "    \\begin{bmatrix}\n",
    "         1.000   \\\\\n",
    "         2.000   \\\\\n",
    "         3.000   \\\\\n",
    "    \\end{bmatrix}\n",
    "\\end{equation*}\n",
    "用$4$位浮点数进行计算，精确解舍入到$4$位有效数字为$x^* = [-0.4904, -0.05104, 0.3675]^T$"
   ]
  },
  {
   "cell_type": "markdown",
   "id": "d2d08e51",
   "metadata": {},
   "source": [
    "**！解！**：\n",
    "- 用$Gauss$消去法求解\n",
    "\\begin{equation}\n",
    "    (A^{(0)}, b^{(0)}) = \\begin{bmatrix}\n",
    "         0.001   & 2.000   & 3.000  & 1.000 \\\\\n",
    "        -1.000   & 3.712   & 4.623  & 2.000 \\\\\n",
    "        -2.000   & 1.072   & 5.643  & 3.000 \\\\\n",
    "    \\end{bmatrix}\n",
    "\\end{equation}\n",
    "\n",
    "\\begin{equation}\n",
    "    (A^{(1)}, b^{(1)}) = \\begin{bmatrix}\n",
    "         0.001   & 2.000   & 3.000  & 1.000 \\\\\n",
    "         0       & 2004    & 3005   & 1002  \\\\\n",
    "         0       & 4001    & 6006   & 2003  \\\\\n",
    "    \\end{bmatrix}\n",
    "\\end{equation}\n",
    "\n",
    "计算解为\n",
    "\\begin{equation}\n",
    "    \\bar{x} = [-0.4000, -0.09980, 0.4000]^T\n",
    "\\end{equation}\n",
    "\n",
    "- 用列主元消去法求解\n",
    "\\begin{equation}\n",
    "    (A^{(0)}, b^{(0)}) = \\begin{bmatrix}\n",
    "        -2.000   & 1.072   & 5.643  & 3.000 \\\\\n",
    "        -1.000   & 3.712   & 4.623  & 2.000 \\\\\n",
    "         0.001   & 2.000   & 3.000  & 1.000 \\\\\n",
    "    \\end{bmatrix}\n",
    "\\end{equation}\n",
    "\n",
    "\\begin{equation}\n",
    "    (A^{(1)}, b^{(1)}) = \\begin{bmatrix}\n",
    "        -2.000   & 1.072   & 5.643  & 3.000  \\\\\n",
    "         0.000   & 3.176   & 1.801  & 0.5000 \\\\\n",
    "         0.001   & 2.001   & 3.003  & 1.002  \\\\\n",
    "    \\end{bmatrix}\n",
    "\\end{equation}\n",
    "\n",
    "\\begin{equation}\n",
    "    (A^{(2)}, b^{(2)}) = \\begin{bmatrix}\n",
    "        -2.000   & 1.072   & 5.643  & 3.000   \\\\\n",
    "         0.000   & 3.176   & 1.801  & 0.5000  \\\\\n",
    "         0.001   & 0.000   & 1.858  & 0.6870  \\\\\n",
    "    \\end{bmatrix}\n",
    "\\end{equation}\n",
    "\n",
    "计算得解为\n",
    "\\begin{equation}\n",
    "    x^\\star = [-0.4900, -0.05113, 0.3678]^T\n",
    "\\end{equation}\n",
    "\n",
    "对比两种方法的解与准确解\n",
    "\n",
    "\\begin{equation}\n",
    "    \\left\\{\\begin{aligned}\n",
    "        x^*     &= [-0.4904, -0.05104, 0.3675]^T \\\\\n",
    "        \\bar{x} &= [-0.4000, -0.09980, 0.4000]^T  \\\\\n",
    "        x^\\star &= [-0.4900, -0.05113, 0.3678]^T  \\\\\n",
    "    \\end{aligned}\\right.\n",
    "\\end{equation}"
   ]
  },
  {
   "cell_type": "markdown",
   "id": "7b81fe0f",
   "metadata": {},
   "source": [
    "#### 全主元消元法（Gauss Elimination with Complete Pivoting）"
   ]
  },
  {
   "cell_type": "markdown",
   "id": "815e3063",
   "metadata": {},
   "source": [
    "除了列主元的消元法外，还有一种\\textcolor{red}{全主元消元法}。在其过程的第$k$步($k \\leq 1$)，不是按列来选主元，而是在$A^{(k)}$右下角的$n-k+1$阶子阵中选主元$a_{i_k, j_k}^{(k)}$，即\n",
    "\\begin{equation*}\n",
    "    \\left| a_{i_k, j_k}^{(k)} \\right| = \\max_{k\\leq i,j \\leq n} \\left| a_{i, j}^{(k)} \\right|\n",
    "\\end{equation*}\n",
    "然后将$\\left( A^{(k)}, b^{(k)} \\right)$的第$i_k$行与第$k$行交换，将第$j_k$列与第$k$列交换，同时将自变量$x_k$与$x_{j_k}$的位置交换并记录自变量的排列顺序。直到消去法完成后，再按记录恢复自变量为自然次序。\n",
    "\n",
    "全主元消去法比列主元消元法的运算量大得多，且需要额外存储变量的顺序，而实际的运算过程中列主元消去法的舍入误差一般已经比较小，因此<font color=\"red\">实际计算中多采用列主元法</font>。"
   ]
  },
  {
   "cell_type": "markdown",
   "id": "bf319d64",
   "metadata": {},
   "source": [
    "#### 高斯-约旦消元法（Gauss-Jordan Elimination）"
   ]
  },
  {
   "cell_type": "markdown",
   "id": "05155aa9",
   "metadata": {},
   "source": [
    "我们考虑$Gauss$消元法的一种修正：消去对角线下方和上方的元素，并称这种方法为<font color=\"red\">$Gauss-Jordan$消去法</font>。\n",
    "\n",
    "设用$Gauss-Jordan$消去法已经完成$k-1$步，得到与方程$Ax = b$等价的方程组$A^{(k)}  x = b^{(k)}$，此时对应的增广矩阵为\n",
    "\\begin{equation*}\n",
    "    \\left( A^{(k)}, b^{(k)} \\right) =\n",
    "    \\begin{bmatrix}\n",
    "        1   &        &    & a_{1k}^{k}     & \\cdots &  b_1^{k}      &  \\\\\n",
    "            & \\ddots &    & \\vdots         &        &  \\vdots       &  \\\\\n",
    "            &        &  1 & a_{k-1,k}^{k}  & \\cdots &  b_{k-1}^{k}  &  \\\\\n",
    "            &        &    & a_{kk}^{k}     & \\cdots &  b_{k}^{k}    &  \\\\\n",
    "            &        &    & \\vdots         &        &  \\vdots       &  \\\\\n",
    "            &        &    & a_{nk}^{k}     & \\cdots &  b_{n}^{k}    &  \\\\\n",
    "    \\end{bmatrix}\n",
    "\\end{equation*}\n",
    "\n",
    "在第$k$步计算时，考虑对上述矩阵的第$k$列中的第$k$行上下都进行消元计算。若用列主元消去法，仍然是第$k$列元素$a_{kk}^{k}$之下的所有元素中选一个绝对值最大的元素作为主元素，即\n",
    "\\begin{equation*}\n",
    "    \\left| a_{i_k,k} \\right|= \\max_{k \\leq i \\leq n} \\left| a_{i,k} \\right|\n",
    "\\end{equation*}\n",
    "但是，将第$k$行与第$i_k$行交换后，要通过主行将第$k$列的第$i\\ (i=1,\\cdots,k-1,k+1,\\cdots,n)$个元素化为$0$，再将主行的对角线上元素化为$1$。最后得到$( A^{(k+1)}, b^{(k+1)} )$，这里$A^{(k+1)}$是单位矩阵，从而$b^{(k+1)}$就是计算解。\n",
    " \n",
    "可见，$Gauss-Jordan$消去法用不着回代求解，其计算量大约需要$n^3/2$次乘除法运算，要比$Gauss$消去法的计算量大。但是用$Gauss-Jordan$消去法求一个矩阵的逆矩阵是很合适的。\n"
   ]
  },
  {
   "cell_type": "markdown",
   "id": "e271e119",
   "metadata": {},
   "source": [
    "**！例！**： 用$Gauss-Jordan$消去法求下列矩阵的逆矩阵\n",
    "    \\begin{equation*}\n",
    "        A = \\begin{bmatrix}\n",
    "            1 & 2 & 3 \\\\\n",
    "            2 & 4 & 5 \\\\\n",
    "            3 & 5 & 6 \\\\\n",
    "        \\end{bmatrix}\n",
    "    \\end{equation*}"
   ]
  },
  {
   "cell_type": "markdown",
   "id": "6442c029",
   "metadata": {},
   "source": [
    "**！解！**：\n",
    "\n",
    "用$Gauss-Jordan$消元法有\n",
    "\\begin{equation*}\n",
    "    C = C^{(1)} = (A,I) = A = \\begin{bmatrix}\n",
    "            1 & 2 & 3 & 1 & 0 & 0 \\\\\n",
    "            2 & 4 & 5 & 0 & 1 & 0 \\\\\n",
    "            3 & 5 & 6 & 0 & 0 & 1 \\\\\n",
    "        \\end{bmatrix}\n",
    "\\end{equation*}\n",
    "\\begin{equation*}\n",
    "    \\Longrightarrow C^{(2)} = \\begin{bmatrix}\n",
    "            1 & 5/3 & 0 & 0 & 0 & 1/3 \\\\\n",
    "            0 & 2/3 & 1 & 0 & 1 & -2/3 \\\\\n",
    "            0 & 1/3 & 1 & 1 & 0 & -1/3 \\\\\n",
    "        \\end{bmatrix}\n",
    "\\end{equation*}\n",
    "\\begin{equation*}\n",
    "    \\Longrightarrow C^{(3)} = \\begin{bmatrix}\n",
    "            1 & 0 & -1/2 & 0 & -5/2 &  2 \\\\\n",
    "            0 & 1 &  3/2 & 0 &  3/2 & -1 \\\\\n",
    "            0 & 0 &  1/2 & 1 & -1/2 &  0 \\\\\n",
    "        \\end{bmatrix}\n",
    "\\end{equation*}\n",
    "\\begin{equation*}\n",
    "    \\Longrightarrow C^{(4)} = \\begin{bmatrix}\n",
    "            1 & 0 & 0 &  1 & -3 &  2 \\\\\n",
    "            0 & 1 & 0 & -3 &  3 & -1 \\\\\n",
    "            0 & 0 & 1 &  2 & -1 &  0 \\\\\n",
    "        \\end{bmatrix}\n",
    "        = (I, A^{-1})\n",
    "\\end{equation*}\n",
    "故而有\n",
    "\\begin{equation*}\n",
    "    A^{-1} = \\begin{bmatrix}\n",
    "              1 & -3 &  2 \\\\\n",
    "             -3 &  3 & -1 \\\\\n",
    "              2 & -1 &  0 \\\\\n",
    "        \\end{bmatrix}\n",
    "\\end{equation*}"
   ]
  },
  {
   "cell_type": "markdown",
   "id": "90dbb278",
   "metadata": {},
   "source": [
    "#### 消元法的python实现"
   ]
  },
  {
   "cell_type": "markdown",
   "id": "0b0f8e08",
   "metadata": {},
   "source": [
    "远期目标是，我们会有四个版本的消元法求解线性方程组。\n",
    "- 直接Gauss消元法\n",
    "- 列主元消元法\n",
    "- 全主元消元法\n",
    "- Gauss-Jordan消元法\n",
    "\n",
    "但目前，受到时间精力限制，只能暂时从网上寻找一些开放的代码，以后时间精力允许的时候会补齐。"
   ]
  },
  {
   "cell_type": "markdown",
   "id": "6ee9e39c",
   "metadata": {},
   "source": [
    "<font color=\"magenta\"> 也非常欢迎学有余力的xiao huo ba </font>"
   ]
  },
  {
   "cell_type": "code",
   "execution_count": 1,
   "id": "ecfdcd51",
   "metadata": {},
   "outputs": [],
   "source": [
    "def myGauss(m):\n",
    "    #eliminate columns\n",
    "    for col in range(len(m[0])):\n",
    "        for row in range(col+1, len(m)):\n",
    "            r = [(rowValue * (-(m[row][col] / m[col][col]))) for rowValue in m[col]]\n",
    "            m[row] = [sum(pair) for pair in zip(m[row], r)]\n",
    "    #now backsolve by substitution\n",
    "    ans = []\n",
    "    m.reverse() #makes it easier to backsolve\n",
    "    for sol in range(len(m)):\n",
    "            if sol == 0:\n",
    "                ans.append(m[sol][-1] / m[sol][-2])\n",
    "            else:\n",
    "                inner = 0\n",
    "                #substitute in all known coefficients\n",
    "                for x in range(sol):\n",
    "                    inner += (ans[x]*m[sol][-2-x])\n",
    "                #the equation is now reduced to ax + b = c form\n",
    "                #solve with (c - b) / a\n",
    "                ans.append((m[sol][-1]-inner)/m[sol][-sol-2])\n",
    "    ans.reverse()\n",
    "    return ans"
   ]
  },
  {
   "cell_type": "code",
   "execution_count": 5,
   "id": "480216c7",
   "metadata": {},
   "outputs": [
    {
     "name": "stdout",
     "output_type": "stream",
     "text": [
      "[-2.0, 3.0, 1.0]\n",
      "False\n",
      "example from the wikipedia\n",
      "[2.0, 3.0, -1.0]\n",
      "[-2.0, 3.0, 0.9999999999999996]\n"
     ]
    }
   ],
   "source": [
    "\n",
    "print( myGauss([[-3.0,2.0,-6.0,6.0],\n",
    "               [5.0,7.0,-5.0,6.0],\n",
    "               [1.0,4.0,-2.0,8.0]])\n",
    "     )\n",
    "\n",
    "print( str(myGauss([[2.0,4.0,6.0,8.0,10.0,0.0],\n",
    "               [1.0,3.0,5.0,8.0,3.0,-1.0],\n",
    "               [3.0,8.0,9.0,20.0,3.0,5.0],\n",
    "               [4.0,8.0,9.0,-2.0,3.0,8.0],\n",
    "               [5.0,-3.0,3.0,-2.0,1.0,0]])) == '[1.8835063437139565, 1.7012687427912341, -1.4160899653979238, -0.050749711649365627, -0.16695501730103807]'\n",
    "     )\n",
    "\n",
    "print( 'example from the wikipedia' )\n",
    "\n",
    "print( myGauss([[2.0,1.0,-1.0,8.0],\n",
    "               [-3.0,-1.0,2.0,-11.0],\n",
    "               [-2.0,1.0,2.0,-3.0]])\n",
    "     )\n",
    "print( myGauss([[1.0,4.0,-2.0,8.0],\n",
    "               [5.0,7.0,-5.0,6.0],\n",
    "               [-3.0,2.0,-6.0,6.0]])\n",
    "     )"
   ]
  },
  {
   "cell_type": "code",
   "execution_count": 12,
   "id": "ec65ae51",
   "metadata": {},
   "outputs": [
    {
     "name": "stdout",
     "output_type": "stream",
     "text": [
      "[[ 1.  1.  1.]\n",
      " [ 1. -2. -2.]\n",
      " [ 1. -3.  5.]]\n",
      "x =\n",
      " [ 1.   1.2 -1.2]\n",
      "\n",
      "Check result: [a]{x} - b =\n",
      " [2.22044605e-16 0.00000000e+00 0.00000000e+00]\n"
     ]
    }
   ],
   "source": [
    "import numpy as np\n",
    "def gaussElimination(a,b):\n",
    "    n = len(b)\n",
    "    # Elimination phase\n",
    "    for k in range(0,n-1):\n",
    "        for i in range(k+1,n):\n",
    "            if a[i,k] != 0.0:\n",
    "                #if not null define λ\n",
    "                lam = a [i,k]/a[k,k]\n",
    "                #we calculate the new row of the matrix\n",
    "                a[i,k+1:n] = a[i,k+1:n] - lam*a[k,k+1:n]\n",
    "                #we update vector b\n",
    "                b[i] = b[i] - lam*b[k]\n",
    "                # backward substitution\n",
    "    for k in range(n-1,-1,-1):\n",
    "        b[k] = (b[k] - np.dot(a[k,k+1:n],b[k+1:n]))/a[k,k]\n",
    "    \n",
    "    return b\n",
    "\n",
    "#initial coefficients\n",
    "a=np.array([[1.0,1.0,1.0],[1.0,-1.0,-1.0],[1.0,-2.0,3.0]])\n",
    "b=np.array([1.0,1.0,-5.0])\n",
    "aOrig = a.copy() # save original matrix A\n",
    "bOrig = b.copy() #save original vector b\n",
    "x = gaussElimination(a,b)\n",
    "#print A transformed for check\n",
    "print(a)\n",
    "print(\"x =\\n\",x)\n",
    "#det = np.prod(np.diagonal(a)) #determinant\n",
    "#print(\"\\ndet =\",det)\n",
    "#check result and numerical precision\n",
    "print(\"\\nCheck result: [a]{x} - b =\\n\",np.dot(aOrig,x) - bOrig)"
   ]
  },
  {
   "cell_type": "code",
   "execution_count": 14,
   "id": "244faf7e",
   "metadata": {},
   "outputs": [
    {
     "name": "stdout",
     "output_type": "stream",
     "text": [
      "[ 4. -5.  4. -1.]\n",
      "[ 4. -5.  4. -1.]\n"
     ]
    }
   ],
   "source": [
    "import numpy as np\n",
    "\n",
    "def GEPP(A, b, doPricing = True):\n",
    "    '''\n",
    "    Gaussian elimination with partial pivoting.\n",
    "    \n",
    "    input: A is an n x n numpy matrix\n",
    "           b is an n x 1 numpy array\n",
    "    output: x is the solution of Ax=b \n",
    "            with the entries permuted in \n",
    "            accordance with the pivoting \n",
    "            done by the algorithm\n",
    "    post-condition: A and b have been modified.\n",
    "    '''\n",
    "    n = len(A)\n",
    "    if b.size != n:\n",
    "        raise ValueError(\"Invalid argument: incompatible sizes between\"+\n",
    "                         \"A & b.\", b.size, n)\n",
    "    # k represents the current pivot row. Since GE traverses the matrix in the \n",
    "    # upper right triangle, we also use k for indicating the k-th diagonal \n",
    "    # column index.\n",
    "    \n",
    "    # Elimination\n",
    "    for k in range(n-1):\n",
    "        if doPricing:\n",
    "            # Pivot\n",
    "            maxindex = abs(A[k:,k]).argmax() + k\n",
    "            if A[maxindex, k] == 0:\n",
    "                raise ValueError(\"Matrix is singular.\")\n",
    "            # Swap\n",
    "            if maxindex != k:\n",
    "                A[[k,maxindex]] = A[[maxindex, k]]\n",
    "                b[[k,maxindex]] = b[[maxindex, k]]\n",
    "        else:\n",
    "            if A[k, k] == 0:\n",
    "                raise ValueError(\"Pivot element is zero. Try setting doPricing to True.\")\n",
    "        #Eliminate\n",
    "        for row in range(k+1, n):\n",
    "            multiplier = A[row,k]/A[k,k]\n",
    "            A[row, k:] = A[row, k:] - multiplier*A[k, k:]\n",
    "            b[row] = b[row] - multiplier*b[k]\n",
    "    # Back Substitution\n",
    "    x = np.zeros(n)\n",
    "    for k in range(n-1, -1, -1):\n",
    "        x[k] = (b[k] - np.dot(A[k,k+1:],x[k+1:]))/A[k,k]\n",
    "    return x\n",
    "\n",
    "if __name__ == \"__main__\":\n",
    "    A = np.array([[1.,-1.,1.,-1.],[1.,0.,0.,0.],[1.,1.,1.,1.],[1.,2.,4.,8.]])\n",
    "    b =  np.array([[14.],[4.],[2.],[2.]])\n",
    "    print( GEPP(np.copy(A), np.copy(b), doPricing = False) )\n",
    "    print( GEPP(A,b) )"
   ]
  },
  {
   "cell_type": "code",
   "execution_count": 21,
   "id": "8955287c",
   "metadata": {},
   "outputs": [
    {
     "name": "stdout",
     "output_type": "stream",
     "text": [
      "[[ 1. -1.  1. -1.]\n",
      " [ 0.  3.  3.  9.]\n",
      " [ 0.  0. -2. -4.]\n",
      " [ 0.  0.  0.  2.]]\n",
      "[[ 14.]\n",
      " [-12.]\n",
      " [ -4.]\n",
      " [ -2.]]\n",
      "[ 4. -5.  4. -1.]\n",
      "[[ 1. -1.  1. -1.]\n",
      " [ 0.  3.  3.  9.]\n",
      " [ 0.  0. -2. -4.]\n",
      " [ 0.  0.  0.  2.]]\n",
      "[[ 14.]\n",
      " [-12.]\n",
      " [ -4.]\n",
      " [ -2.]]\n",
      "[ 4. -5.  4. -1.]\n"
     ]
    }
   ],
   "source": [
    "import numpy as np\n",
    "\n",
    "def GENP(A, b):\n",
    "    '''\n",
    "    Gaussian elimination with no pivoting.\n",
    "    % input: A is an n x n nonsingular matrix\n",
    "    %        b is an n x 1 vector\n",
    "    % output: x is the solution of Ax=b.\n",
    "    % post-condition: A and b have been modified. \n",
    "    '''\n",
    "    n =  len(A)\n",
    "    if b.size != n:\n",
    "        raise ValueError(\"Invalid argument: incompatible sizes between A & b.\", b.size, n)\n",
    "    for pivot_row in range(n-1):\n",
    "        for row in range(pivot_row+1, n):\n",
    "            multiplier = A[row][pivot_row]/A[pivot_row][pivot_row]\n",
    "            #the only one in this column since the rest are zero\n",
    "#             A[row][pivot_row] = multiplier\n",
    "            A[row][pivot_row] = 0\n",
    "            for col in range(pivot_row + 1, n):\n",
    "                A[row][col] = A[row][col] - multiplier*A[pivot_row][col]\n",
    "            #Equation solution column\n",
    "            b[row] = b[row] - multiplier*b[pivot_row]\n",
    "    print(A)\n",
    "    print(b)\n",
    "    x = np.zeros(n)\n",
    "    k = n-1\n",
    "    x[k] = b[k]/A[k,k]\n",
    "    while k >= 0:\n",
    "        x[k] = (b[k] - np.dot(A[k,k+1:],x[k+1:]))/A[k,k]\n",
    "        k = k-1\n",
    "    return x\n",
    "\n",
    "def GEPP(A, b):\n",
    "    '''\n",
    "    Gaussian elimination with partial pivoting.\n",
    "    % input: A is an n x n nonsingular matrix\n",
    "    %        b is an n x 1 vector\n",
    "    % output: x is the solution of Ax=b.\n",
    "    % post-condition: A and b have been modified. \n",
    "    '''\n",
    "    n =  len(A)\n",
    "    if b.size != n:\n",
    "        raise ValueError(\"Invalid argument: incompatible sizes between A & b.\", b.size, n)\n",
    "    # k represents the current pivot row. Since GE traverses the matrix in the upper \n",
    "    # right triangle, we also use k for indicating the k-th diagonal column index.\n",
    "    for k in range(n-1):\n",
    "        #Choose largest pivot element below (and including) k\n",
    "        maxindex = abs(A[k:,k]).argmax() + k\n",
    "        if A[maxindex, k] == 0:\n",
    "            raise ValueError(\"Matrix is singular.\")\n",
    "        #Swap rows\n",
    "        if maxindex != k:\n",
    "            A[[k,maxindex]] = A[[maxindex, k]]\n",
    "            b[[k,maxindex]] = b[[maxindex, k]]\n",
    "        for row in range(k+1, n):\n",
    "            multiplier = A[row][k]/A[k][k]\n",
    "            #the only one in this column since the rest are zero\n",
    "#             A[row][k] = multiplier\n",
    "            A[row][k] = 0\n",
    "            for col in range(k + 1, n):\n",
    "                A[row][col] = A[row][col] - multiplier*A[k][col]\n",
    "            #Equation solution column\n",
    "            b[row] = b[row] - multiplier*b[k]\n",
    "    print(A)\n",
    "    print(b)\n",
    "    x = np.zeros(n)\n",
    "    k = n-1\n",
    "    x[k] = b[k]/A[k,k]\n",
    "    while k >= 0:\n",
    "        x[k] = (b[k] - np.dot(A[k,k+1:],x[k+1:]))/A[k,k]\n",
    "        k = k-1\n",
    "    return x\n",
    "\n",
    "if __name__ == \"__main__\":\n",
    "    A = np.array([[1.,-1.,1.,-1.],[1.,0.,0.,0.],[1.,1.,1.,1.],[1.,2.,4.,8.]])\n",
    "    b =  np.array([[14.],[4.],[2.],[2.]])\n",
    "#     print( GEPP(np.copy(A), np.copy(b), doPricing = False) )\n",
    "    print( GEPP(np.copy(A), np.copy(b)) )\n",
    "    print( GEPP(A,b) )"
   ]
  },
  {
   "cell_type": "code",
   "execution_count": null,
   "id": "318e8b42",
   "metadata": {},
   "outputs": [],
   "source": []
  },
  {
   "cell_type": "code",
   "execution_count": null,
   "id": "183727e2",
   "metadata": {},
   "outputs": [],
   "source": []
  },
  {
   "cell_type": "code",
   "execution_count": null,
   "id": "fc743eed",
   "metadata": {},
   "outputs": [],
   "source": []
  },
  {
   "cell_type": "markdown",
   "id": "38357dcd",
   "metadata": {},
   "source": [
    "### 矩阵分解法"
   ]
  },
  {
   "cell_type": "markdown",
   "id": "6f6131f2",
   "metadata": {},
   "source": [
    "#### 高斯消元法与矩阵分解（Gauss Elimination as Matrix Decomposition）"
   ]
  },
  {
   "cell_type": "markdown",
   "id": "03d1a994",
   "metadata": {},
   "source": [
    "#### 矩阵的LU分解（LU decomposition of matrices）"
   ]
  },
  {
   "cell_type": "markdown",
   "id": "fc78fc5f",
   "metadata": {},
   "source": [
    "#### LU分解法解线性方程组"
   ]
  },
  {
   "cell_type": "markdown",
   "id": "757989bc",
   "metadata": {},
   "source": [
    "#### 矩阵的PLU分解"
   ]
  },
  {
   "cell_type": "markdown",
   "id": "54e69b73",
   "metadata": {},
   "source": [
    "#### PLU分解法解线性方程组"
   ]
  },
  {
   "cell_type": "markdown",
   "id": "278b0b93",
   "metadata": {},
   "source": [
    "#### 对称矩阵及对称正定矩阵的分解"
   ]
  },
  {
   "cell_type": "markdown",
   "id": "d9cd3679",
   "metadata": {},
   "source": [
    "#### 矩阵分解法的python实现"
   ]
  },
  {
   "cell_type": "markdown",
   "id": "be69627a",
   "metadata": {},
   "source": [
    "### 迭代法求线性方程组"
   ]
  },
  {
   "cell_type": "markdown",
   "id": "6f7779dd",
   "metadata": {},
   "source": [
    "#### 迭代法的基本构造方法"
   ]
  },
  {
   "cell_type": "markdown",
   "id": "c0261287",
   "metadata": {
    "heading_collapsed": true
   },
   "source": [
    "#### 迭代法的收敛特性"
   ]
  },
  {
   "cell_type": "markdown",
   "id": "e60345bd",
   "metadata": {},
   "source": [
    "#### Gauss-Seidel迭代"
   ]
  },
  {
   "cell_type": "markdown",
   "id": "52b01cc7",
   "metadata": {},
   "source": [
    "#### Jacobi迭代"
   ]
  },
  {
   "cell_type": "markdown",
   "id": "de53a37d",
   "metadata": {},
   "source": [
    "#### 超松弛(SOR)迭代"
   ]
  },
  {
   "cell_type": "markdown",
   "id": "488fffdc",
   "metadata": {
    "heading_collapsed": true
   },
   "source": [
    "## 小结"
   ]
  },
  {
   "cell_type": "markdown",
   "id": "a833117c",
   "metadata": {},
   "source": [
    "## 思考和习题"
   ]
  },
  {
   "cell_type": "markdown",
   "id": "6a64bdee",
   "metadata": {},
   "source": [
    "本文档在编制过程中，得到了选修我主讲的《数值计算方法课程》的各班学生帮助，在此一并感谢并列举如下：\n"
   ]
  },
  {
   "cell_type": "code",
   "execution_count": null,
   "id": "8e68e3a3",
   "metadata": {},
   "outputs": [],
   "source": []
  }
 ],
 "metadata": {
  "kernelspec": {
   "display_name": "Python 3 (ipykernel)",
   "language": "python",
   "name": "python3"
  },
  "language_info": {
   "codemirror_mode": {
    "name": "ipython",
    "version": 3
   },
   "file_extension": ".py",
   "mimetype": "text/x-python",
   "name": "python",
   "nbconvert_exporter": "python",
   "pygments_lexer": "ipython3",
   "version": "3.9.10"
  },
  "toc": {
   "base_numbering": 1,
   "nav_menu": {},
   "number_sections": true,
   "sideBar": true,
   "skip_h1_title": true,
   "title_cell": "Table of Contents",
   "title_sidebar": "Contents",
   "toc_cell": true,
   "toc_position": {
    "height": "calc(100% - 180px)",
    "left": "10px",
    "top": "150px",
    "width": "475px"
   },
   "toc_section_display": true,
   "toc_window_display": true
  }
 },
 "nbformat": 4,
 "nbformat_minor": 5
}
