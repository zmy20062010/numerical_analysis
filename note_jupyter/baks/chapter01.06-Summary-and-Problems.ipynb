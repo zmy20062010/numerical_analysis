{
 "cells": [
  {
   "cell_type": "markdown",
   "metadata": {
    "toc": true
   },
   "source": [
    "<h1>Table of Contents<span class=\"tocSkip\"></span></h1>\n",
    "<div class=\"toc\"><ul class=\"toc-item\"></ul></div>"
   ]
  },
  {
   "cell_type": "markdown",
   "metadata": {
    "button": false,
    "new_sheet": false,
    "run_control": {
     "read_only": false
    }
   },
   "source": [
    "<!--BOOK_INFORMATION-->\n",
    "<img align=\"left\" style=\"padding-right:10px;\" src=\"images/book_cover.jpg\" width=\"120\">\n",
    "\n",
    "*This notebook contains an excerpt from the [Python Programming and Numerical Methods - A Guide for Engineers and Scientists](https://www.elsevier.com/books/python-programming-and-numerical-methods/kong/978-0-12-819549-9), the content is also available at [Berkeley Python Numerical Methods](https://pythonnumericalmethods.berkeley.edu/notebooks/Index.html).*\n",
    "\n",
    "*The copyright of the book belongs to Elsevier. We also have this interactive book online for a better learning experience. The code is released under the [MIT license](https://opensource.org/licenses/MIT). If you find this content useful, please consider supporting the work on [Elsevier](https://www.elsevier.com/books/python-programming-and-numerical-methods/kong/978-0-12-819549-9) or [Amazon](https://www.amazon.com/Python-Programming-Numerical-Methods-Scientists/dp/0128195495/ref=sr_1_1?dchild=1&keywords=Python+Programming+and+Numerical+Methods+-+A+Guide+for+Engineers+and+Scientists&qid=1604761352&sr=8-1)!*"
   ]
  },
  {
   "cell_type": "markdown",
   "metadata": {
    "button": false,
    "new_sheet": false,
    "run_control": {
     "read_only": false
    }
   },
   "source": [
    "<!--NAVIGATION-->\n",
    "< [1.5 Logical Expressions and Operators](chapter01.05-Logial-Expressions-and-Operators.ipynb) | [Contents](Index.ipynb) | [2.0 Variables and Basic Data Structures](chapter02.00-Variables-and-Basic-Data-Structures.ipynb) >"
   ]
  },
  {
   "cell_type": "markdown",
   "metadata": {
    "button": false,
    "new_sheet": false,
    "run_control": {
     "read_only": false
    }
   },
   "source": [
    "# Summary\n",
    "\n",
    "1. You learned the basics of Python to set up the working environment and ways to run Python. \n",
    "2. Python can be used as a calculator. It has all the functions and arithmetic operations commonly used with a scientific calculator. \n",
    "3. You can manage the Python packages.\n",
    "4. You learned how to interact with Jupyter notebook. \n",
    "5. You can also use Python to perform logical operations. \n",
    "6. You now come across int, float, complex, string, boolean data types in Python. "
   ]
  },
  {
   "cell_type": "markdown",
   "metadata": {
    "button": false,
    "new_sheet": false,
    "run_control": {
     "read_only": false
    }
   },
   "source": [
    "# Problems\n",
    "\n",
    "1. Print \"I love Python\" using Python Shell.\n",
    "\n",
    "2. Print \"I love Python\" by typing it into a .py file and run it from command line.\n",
    "\n",
    "3. Type *import antigravity* in the Ipython Shell, it will take you to xkcd and see the awesome Python. \n",
    "\n",
    "4. Launch a new Jupyter notebook server in a folder called \"excercis\" and create a new Python notebook with the name \"excercis_1\", then you can do the rest of the problems within this notebook. \n",
    "\n",
    "5. Compute the area of a triangle with base 10 and height 12. Recall that the area of a triangle is half the base times the height.\n",
    "\n",
    "6. Compute the surface area and volume of a cylinder with radius 5 and height 3.\n",
    "\n",
    "7. Compute the slope between the points $(3,4)$ and $(5,9)$. Recall that the slope between points $(x_1,y_1)$ and $(x_2, y_2)$ is $\\frac{y_2 - y_1}{x_2 - x_1}$.\n",
    "\n",
    "8. Compute the distance between the points $(3,4)$ and $(5,9)$. Recall that the distance between points in two dimensions is $\\sqrt{(x_2 - x_1)^2 + (y_2 - y_1)^2}$.\n",
    "\n",
    "9. Use Python's *factorial* function to compute $6!$\n",
    "\n",
    "10. A year is considered to be 365 days long. However, a more exact figure is 365.24 days. As a consequence, if we held to the standard 365-day year, we would gradually lose that fraction of the day over time, and seasons and other astronomical events would not occur as expected. A leap year is a year that has an extra day, February 29, to keep the timescale on track. Leap years occur on years that are exactly divisible by 4, unless it is exactly divisible by 100, unless it is divisible by 400. For example, the year 2004 is a leap year, the year 1900 is not a leap year, and the year 2000 is a leap year.<br>\n",
    "Compute the number of leap years between the years 1500 and 2010.\n",
    "\n",
    "11. A very powerful approximation for $\\pi$ was developed by a brilliant mathematician named Srinivasa Ramanujan. The approximation is the following:<br>\n",
    "$\\frac{1}{\\pi} \\approx \\frac{2\\sqrt{2}}{9801} \\sum_{k=0}^{N} \\frac{(4k)!(1103 + 26390k)}{(k!)^4 396^{4k}}$.<br>\n",
    "Use Ramanujan's formula for $N = 0$ and $N = 1$ to approximate $\\pi$. Be sure to use format long. Compare your approximation with Python's stored value for *pi*. Hint: $0! = 1$ by definition.\n",
    "\n",
    "12. The hyperbolic $sin$ or $sinh$ is defined in terms of exponentials as $sinh(x) = \\frac{\\exp(x) - \\exp(-x)}{2}$.<br>\n",
    "Compute $sinh$ for $x = 2$ using exponentials. Verify that the result is indeed the hyperbolic $sin$ using Python's function *sinh* in the math module. \n",
    "\n",
    "13. Verify that $\\sin^2(x) + \\cos^2(x) = 1$ for $x = \\pi, \\frac{\\pi}{2}, \\frac{\\pi}{4}, \\frac{\\pi}{6}$.\n",
    "\n",
    "14. Compute the $\\sin87$&deg;.\n",
    "\n",
    "15. Write a Python statement that generates the following error:<br>\n",
    "\"AttributeError: module 'math' has no attribute 'sni'\"<br>\n",
    "Hint: sni is a misspelling of the function *sin*.\n",
    "\n",
    "16. Write a Python statement that generates the following error:<br>\n",
    "\"TypeError: sin() takes exactly one argument (0 given)\"<br>\n",
    "Hint: Input arguments refers to the input of a function (any function); for example, the input in $sin(pi/2)$ is $pi/2$.\n",
    "\n",
    "17. If $P$ is a logical expression, the law of noncontradiction states that $P\\ AND\\ (NOT\\ P)$ is always false. Verify this for $P$ true and $P$ false.\n",
    "\n",
    "18. Let P and Q be logical expressions. De Morgan's rule states that $NOT\\ (P\\ OR\\ Q)\\ =\\ (NOT\\ P)\\ AND\\\n",
    "(NOT\\ Q)$ and $NOT\\ (P\\ AND\\ Q)\\ =\\ (NOT\\ P)\\ OR\\ (NOT\\ Q)$. Generate the truth tables for each statement to show that De Morgan's rule is always true.\n",
    "\n",
    "19. Under what conditions for $P$ and $Q$ is ($P\\ AND\\ Q)\\ OR\\ (P\\ AND\\ (NOT\\ Q)$) false?\n",
    "\n",
    "20. Construct an equivalent logical expression for OR using only AND and NOT.\n",
    "\n",
    "21. Construct an equivalent logical expression for AND using only OR and NOT.\n",
    "\n",
    "22. The logical operator XOR has the following truth table:<br>\n",
    "Construct an equivalent logical expression for XOR using only AND, OR, and NOT that has the same truth table (see the following figure)\n",
    "\n",
    "![XOR](./images/01.06.01-truth_table.png \"XOR Truth table\")\n",
    "\n",
    "23. Do the following calculation at the Python command prompt.<br>\n",
    "$e^{2}\\sin{\\pi/6} + log_e(3)\\cos{\\pi/9}-5^3$\n",
    "\n",
    "24. Do the following logical and comparison operations at the Python command prompt. You may assume that P and Q are logical expressions.<br>\n",
    "For P = 1 and Q = 1; Compute $NOT(P)\\ AND\\ NOT(Q)$.<br>\n",
    "For a = 10 and b = 25; Compute $(a<b)\\ AND\\ (a=b)$."
   ]
  },
  {
   "cell_type": "markdown",
   "metadata": {
    "button": false,
    "new_sheet": false,
    "run_control": {
     "read_only": false
    }
   },
   "source": [
    "<!--NAVIGATION-->\n",
    "< [1.5 Logical Expressions and Operators](chapter01.05-Logial-Expressions-and-Operators.ipynb) | [Contents](Index.ipynb) | [2.0 Variables and Basic Data Structures](chapter02.00-Variables-and-Basic-Data-Structures.ipynb) >"
   ]
  }
 ],
 "metadata": {
  "kernelspec": {
   "display_name": "Python 3 (ipykernel)",
   "language": "python",
   "name": "python3"
  },
  "language_info": {
   "codemirror_mode": {
    "name": "ipython",
    "version": 3
   },
   "file_extension": ".py",
   "mimetype": "text/x-python",
   "name": "python",
   "nbconvert_exporter": "python",
   "pygments_lexer": "ipython3",
   "version": "3.9.10"
  },
  "toc": {
   "base_numbering": 1,
   "nav_menu": {},
   "number_sections": true,
   "sideBar": true,
   "skip_h1_title": true,
   "title_cell": "Table of Contents",
   "title_sidebar": "Contents",
   "toc_cell": true,
   "toc_position": {},
   "toc_section_display": true,
   "toc_window_display": true
  }
 },
 "nbformat": 4,
 "nbformat_minor": 2
}
