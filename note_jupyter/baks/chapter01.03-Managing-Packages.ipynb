{
 "cells": [
  {
   "cell_type": "markdown",
   "metadata": {
    "toc": true
   },
   "source": [
    "<h1>Table of Contents<span class=\"tocSkip\"></span></h1>\n",
    "<div class=\"toc\"><ul class=\"toc-item\"><li><span><a href=\"#Managing-packages-using-package-managers\" data-toc-modified-id=\"Managing-packages-using-package-managers-1\"><span class=\"toc-item-num\">1&nbsp;&nbsp;</span>Managing packages using package managers</a></span><ul class=\"toc-item\"><li><span><a href=\"#Install-a-package\" data-toc-modified-id=\"Install-a-package-1.1\"><span class=\"toc-item-num\">1.1&nbsp;&nbsp;</span>Install a package</a></span></li><li><span><a href=\"#Upgrade-a-package\" data-toc-modified-id=\"Upgrade-a-package-1.2\"><span class=\"toc-item-num\">1.2&nbsp;&nbsp;</span>Upgrade a package</a></span></li><li><span><a href=\"#Uninstall-a-package\" data-toc-modified-id=\"Uninstall-a-package-1.3\"><span class=\"toc-item-num\">1.3&nbsp;&nbsp;</span>Uninstall a package</a></span></li><li><span><a href=\"#Other-useful-commands\" data-toc-modified-id=\"Other-useful-commands-1.4\"><span class=\"toc-item-num\">1.4&nbsp;&nbsp;</span>Other useful commands</a></span></li></ul></li><li><span><a href=\"#Install-packages-from-source\" data-toc-modified-id=\"Install-packages-from-source-2\"><span class=\"toc-item-num\">2&nbsp;&nbsp;</span>Install packages from source</a></span></li></ul></div>"
   ]
  },
  {
   "cell_type": "markdown",
   "metadata": {
    "button": false,
    "new_sheet": false,
    "run_control": {
     "read_only": false
    }
   },
   "source": [
    "<!--BOOK_INFORMATION-->\n",
    "<img align=\"left\" style=\"padding-right:10px;\" src=\"images/book_cover.jpg\" width=\"120\">\n",
    "\n",
    "*This notebook contains an excerpt from the [Python Programming and Numerical Methods - A Guide for Engineers and Scientists](https://www.elsevier.com/books/python-programming-and-numerical-methods/kong/978-0-12-819549-9), the content is also available at [Berkeley Python Numerical Methods](https://pythonnumericalmethods.berkeley.edu/notebooks/Index.html).*\n",
    "\n",
    "*The copyright of the book belongs to Elsevier. We also have this interactive book online for a better learning experience. The code is released under the [MIT license](https://opensource.org/licenses/MIT). If you find this content useful, please consider supporting the work on [Elsevier](https://www.elsevier.com/books/python-programming-and-numerical-methods/kong/978-0-12-819549-9) or [Amazon](https://www.amazon.com/Python-Programming-Numerical-Methods-Scientists/dp/0128195495/ref=sr_1_1?dchild=1&keywords=Python+Programming+and+Numerical+Methods+-+A+Guide+for+Engineers+and+Scientists&qid=1604761352&sr=8-1)!*"
   ]
  },
  {
   "cell_type": "markdown",
   "metadata": {
    "button": false,
    "new_sheet": false,
    "run_control": {
     "read_only": false
    }
   },
   "source": [
    "<!--NAVIGATION-->\n",
    "< [1.2 Python as a Calculator](chapter01.02-Python-as-A-Calculator.ipynb) | [Contents](Index.ipynb) | [1.4 Introduction to Jupyter Notebooks](chapter01.04-Introduction-to-Jupyter-Notebook.ipynb) >"
   ]
  },
  {
   "cell_type": "markdown",
   "metadata": {
    "button": false,
    "new_sheet": false,
    "run_control": {
     "read_only": false
    }
   },
   "source": [
    "# Managing Packages"
   ]
  },
  {
   "cell_type": "markdown",
   "metadata": {
    "button": false,
    "new_sheet": false,
    "run_control": {
     "read_only": false
    }
   },
   "source": [
    "One feature makes Python really great is the various packages/modules developed by the community. Most of the time, when you want to use some functions or algorithms, you will find there maybe already multiple packages from the community coded that for you, and all you need to do is to install the packages and use them in your code. Therefore, managing packages is one of the most important skills you need to learn to fully take advantage of Python. In this section, we will show you how to manage the packages in Python. "
   ]
  },
  {
   "cell_type": "markdown",
   "metadata": {
    "button": false,
    "new_sheet": false,
    "run_control": {
     "read_only": false
    }
   },
   "source": [
    "## Managing packages using package managers\n",
    "\n",
    "At the beginning of this book, we installed some packages using pip by typing *pip install package_name*. This is the most common and easy way these days to install Python packages. Pip is a package manager that automates the process of installing, updating, and removing the packages. It could install packages that published on [Python Package Index (PyPI)](https://pypi.org/). When we installed the Miniconda installer, it also installed pip for you to use.\n",
    "\n",
    "First of all, you can use *pip help* to get help for different commands as shown below.\n",
    "\n",
    "![Pip_help](./images/01.03.01-pip_help.png \"The help document of pip\")\n",
    "\n",
    "But the most used commands usually include: the install, upgrade, and uninstall a package. \n",
    "\n",
    "### Install a package\n",
    "\n",
    "To install the latest version of package_name:\n",
    "```bash\n",
    "pip install package_name\n",
    "\n",
    "```\n",
    "\n",
    "To install a specific version:\n",
    "\n",
    "```bash\n",
    "pip install package_name==1.5\n",
    "\n",
    "```\n",
    "\n",
    "Pip will install the package as well as the dependencies for you to use.\n",
    "\n",
    "### Upgrade a package\n",
    "\n",
    "To upgrade an installed package to the latest version from PyPI. \n",
    "\n",
    "```bash\n",
    "pip install --upgrade package_name\n",
    "```\n",
    "or simply\n",
    "\n",
    "```bash\n",
    "pip install -U package_name\n",
    "```\n",
    "\n",
    "### Uninstall a package\n",
    "\n",
    "```bash\n",
    "pip uninstall package_name\n",
    "```\n",
    "\n",
    "### Other useful commands\n",
    "\n",
    "There are some other useful commands that you usually use to get information about the installed packages. For example, if you want to get a list of all the installed packages, you can use the command:\n",
    "\n",
    "```bash\n",
    "pip list\n",
    "```\n",
    "![Pip_list](./images/01.03.02-pip_list.png \"Using pip list to show all the packages installed on your machine\")\n",
    "\n",
    "If you want to know more about an installed package, such as the location of the package, the required dependencies, and so on, you can use:\n",
    "\n",
    "```bash\n",
    "pip show package_name\n",
    "```\n",
    "![Pip_show](./images/01.03.03-pip_show.png \"Using pip show to get detailed information about a installed package\")\n",
    "\n",
    "\n",
    "There are other package managers, like conda that shipped with the Anaconda distribution, but for usage, it is similar to pip, therefore, we won't talk too much here, you can find more information by reading the [documentation](https://conda.io/docs/user-guide/getting-started.html). \n"
   ]
  },
  {
   "cell_type": "markdown",
   "metadata": {
    "button": false,
    "new_sheet": false,
    "run_control": {
     "read_only": false
    }
   },
   "source": [
    "## Install packages from source\n",
    "\n",
    "Occasionally, you need to download the source file for some project that is not in the PyPI, then you need a different way to install the package. After uncompressing the file you downloaded, usually you can see the folder contains a setup script *setup.py*, and a file named README, which documents how to build and install the module. For most cases, you just need to run one command from the terminal to install the package:\n",
    "\n",
    "```bash\n",
    "python setup.py install\n",
    "```\n",
    "\n",
    "Note, for the Windows users, you need to run your command from a command prompt window:\n",
    "\n",
    "```\n",
    "setup.py install\n",
    "```\n"
   ]
  },
  {
   "cell_type": "markdown",
   "metadata": {
    "button": false,
    "new_sheet": false,
    "run_control": {
     "read_only": false
    }
   },
   "source": [
    "Now you know how to manage the packages in Python, which is a big step forward to use Python correctly, and in the next section, we will talk more about the Jupyter notebook that we will use for the rest of the book. "
   ]
  },
  {
   "cell_type": "markdown",
   "metadata": {
    "button": false,
    "new_sheet": false,
    "run_control": {
     "read_only": false
    }
   },
   "source": [
    "<!--NAVIGATION-->\n",
    "< [1.2 Python as a Calculator](chapter01.02-Python-as-A-Calculator.ipynb) | [Contents](Index.ipynb) | [1.4 Introduction to Jupyter Notebooks](chapter01.04-Introduction-to-Jupyter-Notebook.ipynb) >"
   ]
  }
 ],
 "metadata": {
  "kernelspec": {
   "display_name": "Python 3 (ipykernel)",
   "language": "python",
   "name": "python3"
  },
  "language_info": {
   "codemirror_mode": {
    "name": "ipython",
    "version": 3
   },
   "file_extension": ".py",
   "mimetype": "text/x-python",
   "name": "python",
   "nbconvert_exporter": "python",
   "pygments_lexer": "ipython3",
   "version": "3.9.10"
  },
  "toc": {
   "base_numbering": 1,
   "nav_menu": {},
   "number_sections": true,
   "sideBar": true,
   "skip_h1_title": true,
   "title_cell": "Table of Contents",
   "title_sidebar": "Contents",
   "toc_cell": true,
   "toc_position": {},
   "toc_section_display": true,
   "toc_window_display": true
  }
 },
 "nbformat": 4,
 "nbformat_minor": 2
}
